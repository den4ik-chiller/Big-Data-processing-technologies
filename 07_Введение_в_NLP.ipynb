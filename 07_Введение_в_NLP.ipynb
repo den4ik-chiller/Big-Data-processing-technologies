{
  "cells": [
    {
      "cell_type": "markdown",
      "metadata": {
        "id": "Usqq5XZSQUf5"
      },
      "source": [
        "# Введение в обработку текста на естественном языке"
      ]
    },
    {
      "cell_type": "markdown",
      "metadata": {
        "id": "jIsCLWciQUf8"
      },
      "source": [
        "__Автор задач: Блохин Н.В. (NVBlokhin@fa.ru)__\n",
        "\n",
        "Материалы:\n",
        "* Макрушин С.В. Лекция \"Введение в обработку текста на естественном языке\"\n",
        "* https://www.nltk.org/api/nltk.metrics.distance.html\n",
        "* https://pymorphy2.readthedocs.io/en/stable/user/guide.html\n",
        "* https://realpython.com/nltk-nlp-python/\n",
        "* https://scikit-learn.org/stable/modules/feature_extraction.html"
      ]
    },
    {
      "cell_type": "markdown",
      "metadata": {
        "id": "2KhxLAjgQUf9"
      },
      "source": [
        "## Задачи для совместного разбора"
      ]
    },
    {
      "cell_type": "code",
      "execution_count": null,
      "metadata": {
        "id": "wZW9iaNzQUf-",
        "outputId": "e6a708cc-52a3-4388-98d2-42cf481e7b78"
      },
      "outputs": [
        {
          "name": "stdout",
          "output_type": "stream",
          "text": [
            "Collecting pymorphy2\n",
            "  Downloading pymorphy2-0.9.1-py3-none-any.whl (55 kB)\n",
            "     -------------------------------------- 55.5/55.5 kB 415.1 kB/s eta 0:00:00\n",
            "Collecting docopt>=0.6\n",
            "  Downloading docopt-0.6.2.tar.gz (25 kB)\n",
            "  Preparing metadata (setup.py): started\n",
            "  Preparing metadata (setup.py): finished with status 'done'\n",
            "Collecting pymorphy2-dicts-ru<3.0,>=2.4\n",
            "  Downloading pymorphy2_dicts_ru-2.4.417127.4579844-py2.py3-none-any.whl (8.2 MB)\n",
            "     ---------------------------------------- 8.2/8.2 MB 395.9 kB/s eta 0:00:00\n",
            "Collecting dawg-python>=0.7.1\n",
            "  Downloading DAWG_Python-0.7.2-py2.py3-none-any.whl (11 kB)\n",
            "Building wheels for collected packages: docopt\n",
            "  Building wheel for docopt (setup.py): started\n",
            "  Building wheel for docopt (setup.py): finished with status 'done'\n",
            "  Created wheel for docopt: filename=docopt-0.6.2-py2.py3-none-any.whl size=13706 sha256=274c550b4500380f3454f1b04c5aea492d6bcc0bd5b14c77573b5cb3da0b73c3\n",
            "  Stored in directory: c:\\users\\user\\appdata\\local\\pip\\cache\\wheels\\56\\ea\\58\\ead137b087d9e326852a851351d1debf4ada529b6ac0ec4e8c\n",
            "Successfully built docopt\n",
            "Installing collected packages: pymorphy2-dicts-ru, docopt, dawg-python, pymorphy2\n",
            "Successfully installed dawg-python-0.7.2 docopt-0.6.2 pymorphy2-0.9.1 pymorphy2-dicts-ru-2.4.417127.4579844\n"
          ]
        }
      ],
      "source": [
        "!pip install pymorphy2"
      ]
    },
    {
      "cell_type": "code",
      "execution_count": null,
      "metadata": {
        "id": "q9MHVQ15QUgB",
        "outputId": "e568c2a5-05f7-4920-e0fd-ed5e28a1b17b"
      },
      "outputs": [
        {
          "name": "stderr",
          "output_type": "stream",
          "text": [
            "[nltk_data] Downloading package punkt to\n",
            "[nltk_data]     C:\\Users\\user\\AppData\\Roaming\\nltk_data...\n",
            "[nltk_data]   Package punkt is already up-to-date!\n"
          ]
        },
        {
          "data": {
            "text/plain": [
              "True"
            ]
          },
          "execution_count": 2,
          "metadata": {},
          "output_type": "execute_result"
        }
      ],
      "source": [
        "import nltk\n",
        "nltk.download('punkt')"
      ]
    },
    {
      "cell_type": "markdown",
      "metadata": {
        "id": "aLWw8sQDQUgC"
      },
      "source": [
        "1. Считайте слова из файла `litw-win.txt` и запишите их в список `words`. При помощи расстояния Левенштейна иправьте опечатку в слове \"велечайшим\"."
      ]
    },
    {
      "cell_type": "code",
      "execution_count": null,
      "metadata": {
        "id": "bZx-XQKuQUgC",
        "outputId": "08462c2a-05b7-4038-d796-a6e6cd165b95"
      },
      "outputs": [
        {
          "data": {
            "text/plain": [
              "'величайшим'"
            ]
          },
          "execution_count": 20,
          "metadata": {},
          "output_type": "execute_result"
        }
      ],
      "source": [
        "from nltk import edit_distance\n",
        "\n",
        "with open(\"litw-win.txt\", \"r\", encoding=\"windows-1251\") as fp:\n",
        "    lines = fp.readlines()\n",
        "\n",
        "import re\n",
        "\n",
        "patt = re.compile(r\"[а-яё]+\")\n",
        "words = [patt.findall(line)[0] for line in lines]\n",
        "\n",
        "lines[:3]\n",
        "\n",
        "s = \"велечайшим\"\n",
        "min(\n",
        "    words,\n",
        "    key=lambda w: edit_distance(w, s)\n",
        ")"
      ]
    },
    {
      "cell_type": "markdown",
      "metadata": {
        "id": "nHQtxtbXQUgD"
      },
      "source": [
        "2. Разбейте текст из формулировки второго задания на слова. Проведите стемминг и лемматизацию слов."
      ]
    },
    {
      "cell_type": "code",
      "execution_count": null,
      "metadata": {
        "id": "3OZY47Q3QUgE",
        "outputId": "6aa8a2f1-6b23-4817-c826-5af12818f005"
      },
      "outputs": [
        {
          "data": {
            "text/plain": [
              "['__add__',\n",
              " '__class__',\n",
              " '__contains__',\n",
              " '__delattr__',\n",
              " '__dict__',\n",
              " '__dir__',\n",
              " '__doc__',\n",
              " '__eq__',\n",
              " '__format__',\n",
              " '__ge__',\n",
              " '__getattribute__',\n",
              " '__getitem__',\n",
              " '__getnewargs__',\n",
              " '__gt__',\n",
              " '__hash__',\n",
              " '__init__',\n",
              " '__init_subclass__',\n",
              " '__iter__',\n",
              " '__le__',\n",
              " '__len__',\n",
              " '__lt__',\n",
              " '__module__',\n",
              " '__mul__',\n",
              " '__ne__',\n",
              " '__new__',\n",
              " '__reduce__',\n",
              " '__reduce_ex__',\n",
              " '__repr__',\n",
              " '__rmul__',\n",
              " '__setattr__',\n",
              " '__sizeof__',\n",
              " '__slots__',\n",
              " '__str__',\n",
              " '__subclasshook__',\n",
              " '_asdict',\n",
              " '_dict',\n",
              " '_field_defaults',\n",
              " '_fields',\n",
              " '_fields_defaults',\n",
              " '_make',\n",
              " '_morph',\n",
              " '_replace',\n",
              " 'count',\n",
              " 'index',\n",
              " 'inflect',\n",
              " 'is_known',\n",
              " 'lexeme',\n",
              " 'make_agree_with_number',\n",
              " 'methods_stack',\n",
              " 'normal_form',\n",
              " 'normalized',\n",
              " 'score',\n",
              " 'tag',\n",
              " 'word']"
            ]
          },
          "execution_count": 21,
          "metadata": {},
          "output_type": "execute_result"
        }
      ],
      "source": [
        "from nltk.stem import SnowballStemmer\n",
        "from nltk import word_tokenize\n",
        "import pymorphy2\n",
        "\n",
        "text = '''Разбейте текст из формулировки второго задания на слова. Проведите стемминг и лемматизацию слов.'''\n",
        "\n",
        "words = word_tokenize(text)\n",
        "words[:5]\n",
        "\n",
        "stemmer = SnowballStemmer(\"russian\")\n",
        "[stemmer.stem(w) for w in words]\n",
        "\n",
        "morph = pymorphy2.MorphAnalyzer()\n",
        "[morph.parse(w)[0].normal_form for w in words]\n",
        "\n",
        "dir(morph.parse(words[0])[0])"
      ]
    },
    {
      "cell_type": "markdown",
      "metadata": {
        "id": "xDRiV_SyQUgE"
      },
      "source": [
        "3. Преобразуйте предложения из формулировки задания 2 в векторы при помощи `CountVectorizer`. Выведите на экран словарь обученного токенизатора."
      ]
    },
    {
      "cell_type": "code",
      "execution_count": null,
      "metadata": {
        "id": "tkmpNlogQUgF",
        "outputId": "481b3354-1716-4934-a7b3-0621ddad28db"
      },
      "outputs": [
        {
          "data": {
            "text/plain": [
              "{'разбейте': 6,\n",
              " 'текст': 10,\n",
              " 'из': 2,\n",
              " 'формулировки': 11,\n",
              " 'второго': 0,\n",
              " 'задания': 1,\n",
              " 'на': 4,\n",
              " 'слова': 8,\n",
              " 'проведите': 5,\n",
              " 'стемминг': 9,\n",
              " 'лемматизацию': 3,\n",
              " 'слов': 7}"
            ]
          },
          "execution_count": 22,
          "metadata": {},
          "output_type": "execute_result"
        }
      ],
      "source": [
        "from sklearn.feature_extraction.text import CountVectorizer\n",
        "from nltk import sent_tokenize\n",
        "\n",
        "text = '''Разбейте текст из формулировки второго задания на слова. Проведите стемминг и лемматизацию слов.'''\n",
        "\n",
        "sents = nltk.sent_tokenize(text)\n",
        "sents\n",
        "\n",
        "vectorizer = CountVectorizer()\n",
        "vectorizer.fit(sents)\n",
        "vectorizer.transform(sents).toarray()\n",
        "\n",
        "vectorizer.vocabulary_"
      ]
    },
    {
      "cell_type": "markdown",
      "metadata": {
        "id": "6fVu39fAQUgG"
      },
      "source": [
        "## Лабораторная работа 7"
      ]
    },
    {
      "cell_type": "markdown",
      "metadata": {
        "id": "THB4cdShQUgG"
      },
      "source": [
        "1\\. Загрузите данные из файла `ru_recipes_sample.csv` в виде `pd.DataFrame` `recipes` Используя регулярные выражения, удалите из описаний (столбец `description`) все символы, кроме русских букв, цифр и пробелов. Приведите все слова в описании к нижнему регистру. Сохраните полученный результат в столбец `description`."
      ]
    },
    {
      "cell_type": "code",
      "execution_count": null,
      "metadata": {
        "id": "wpSwXk5hQUgH",
        "outputId": "46ab45fe-8c13-40cc-e66c-c50a7775e50c"
      },
      "outputs": [
        {
          "name": "stdout",
          "output_type": "stream",
          "text": [
            "Collecting python-Levenshtein\n",
            "  Downloading python_Levenshtein-0.20.8-py3-none-any.whl (9.4 kB)\n",
            "Collecting Levenshtein==0.20.8\n",
            "  Downloading Levenshtein-0.20.8-cp38-cp38-win_amd64.whl (100 kB)\n",
            "     ------------------------------------ 100.7/100.7 kB 822.1 kB/s eta 0:00:00\n",
            "Collecting rapidfuzz<3.0.0,>=2.3.0\n",
            "  Downloading rapidfuzz-2.13.6-cp38-cp38-win_amd64.whl (1.0 MB)\n",
            "     ---------------------------------------- 1.0/1.0 MB 3.7 MB/s eta 0:00:00\n",
            "Installing collected packages: rapidfuzz, Levenshtein, python-Levenshtein\n",
            "Successfully installed Levenshtein-0.20.8 python-Levenshtein-0.20.8 rapidfuzz-2.13.6\n",
            "Note: you may need to restart the kernel to use updated packages.\n"
          ]
        }
      ],
      "source": [
        "pip install python-Levenshtein"
      ]
    },
    {
      "cell_type": "code",
      "execution_count": null,
      "metadata": {
        "id": "Ul6yKINPQUgH"
      },
      "outputs": [],
      "source": [
        "import pandas as pd\n",
        "import re\n",
        "from nltk.tokenize import word_tokenize\n",
        "from Levenshtein import distance as lev\n",
        "import random\n",
        "from nltk.stem import SnowballStemmer\n",
        "import pymorphy2\n",
        "from sklearn.feature_extraction.text import (TfidfVectorizer)\n",
        "from sklearn.metrics.pairwise import cosine_similarity"
      ]
    },
    {
      "cell_type": "code",
      "execution_count": null,
      "metadata": {
        "id": "i5RLEx_0QUgI",
        "outputId": "bd3f7bce-48dd-4dc4-c5fb-ca33311f60cc"
      },
      "outputs": [
        {
          "data": {
            "text/html": [
              "<div>\n",
              "<style scoped>\n",
              "    .dataframe tbody tr th:only-of-type {\n",
              "        vertical-align: middle;\n",
              "    }\n",
              "\n",
              "    .dataframe tbody tr th {\n",
              "        vertical-align: top;\n",
              "    }\n",
              "\n",
              "    .dataframe thead th {\n",
              "        text-align: right;\n",
              "    }\n",
              "</style>\n",
              "<table border=\"1\" class=\"dataframe\">\n",
              "  <thead>\n",
              "    <tr style=\"text-align: right;\">\n",
              "      <th></th>\n",
              "      <th>url</th>\n",
              "      <th>name</th>\n",
              "      <th>ingredients</th>\n",
              "      <th>description</th>\n",
              "    </tr>\n",
              "  </thead>\n",
              "  <tbody>\n",
              "    <tr>\n",
              "      <th>0</th>\n",
              "      <td>https://www.povarenok.ru/recipes/show/164365/</td>\n",
              "      <td>Густой молочно-клубничный коктейль</td>\n",
              "      <td>{'Молоко': '250 мл', 'Клубника': '200 г', 'Сах...</td>\n",
              "      <td>этот коктейль готовлю из замороженной клубники...</td>\n",
              "    </tr>\n",
              "    <tr>\n",
              "      <th>1</th>\n",
              "      <td>https://www.povarenok.ru/recipes/show/1306/</td>\n",
              "      <td>Рулетики</td>\n",
              "      <td>{'Сыр твердый': None, 'Чеснок': None, 'Яйцо ку...</td>\n",
              "      <td>быстро и вкусно</td>\n",
              "    </tr>\n",
              "    <tr>\n",
              "      <th>2</th>\n",
              "      <td>https://www.povarenok.ru/recipes/show/10625/</td>\n",
              "      <td>Салат \"Баклажанчик\"</td>\n",
              "      <td>{'Баклажан': '3 шт', 'Лук репчатый': '2 шт', '...</td>\n",
              "      <td>сытный овощной салатик пальчики оближете</td>\n",
              "    </tr>\n",
              "    <tr>\n",
              "      <th>3</th>\n",
              "      <td>https://www.povarenok.ru/recipes/show/167337/</td>\n",
              "      <td>Куриные котлеты с картофельным пюре в духовке</td>\n",
              "      <td>{'Фарш куриный': '800 г', 'Пюре картофельное':...</td>\n",
              "      <td>картофельное пюре и куриные котлеты  вкусная к...</td>\n",
              "    </tr>\n",
              "    <tr>\n",
              "      <th>4</th>\n",
              "      <td>https://www.povarenok.ru/recipes/show/91919/</td>\n",
              "      <td>Рецепт вишневой наливки</td>\n",
              "      <td>{'Вишня': '1 кг', 'Водка': '1 л', 'Сахар': '30...</td>\n",
              "      <td>вишневая наливка имеет яркий вишневый вкус кот...</td>\n",
              "    </tr>\n",
              "    <tr>\n",
              "      <th>...</th>\n",
              "      <td>...</td>\n",
              "      <td>...</td>\n",
              "      <td>...</td>\n",
              "      <td>...</td>\n",
              "    </tr>\n",
              "    <tr>\n",
              "      <th>3462</th>\n",
              "      <td>https://www.povarenok.ru/recipes/show/54574/</td>\n",
              "      <td>Мшош</td>\n",
              "      <td>{'Чечевица': '1 стак.', 'Лук репчатый': '2 шт'...</td>\n",
              "      <td>для тех кто любит чечевицу вам сюда очень вкус...</td>\n",
              "    </tr>\n",
              "    <tr>\n",
              "      <th>3463</th>\n",
              "      <td>https://www.povarenok.ru/recipes/show/113494/</td>\n",
              "      <td>Мясные треугольники с баклажаном</td>\n",
              "      <td>{'Фарш мясной': '400 г', 'Баклажан': '1 шт', '...</td>\n",
              "      <td>баклажановые фантазии продолжаются предлагаю в...</td>\n",
              "    </tr>\n",
              "    <tr>\n",
              "      <th>3464</th>\n",
              "      <td>https://www.povarenok.ru/recipes/show/83228/</td>\n",
              "      <td>\"Болоньез\" по-новому</td>\n",
              "      <td>{'Фарш мясной': '400 г', 'Томаты в собственном...</td>\n",
              "      <td>мое любимое блюдо лазанья но кушать только фар...</td>\n",
              "    </tr>\n",
              "    <tr>\n",
              "      <th>3465</th>\n",
              "      <td>https://www.povarenok.ru/recipes/show/172238/</td>\n",
              "      <td>Варенье из одуванчиков с апельсинами</td>\n",
              "      <td>{'Цветки': '400 г', 'Сахар': '1300 г', 'Апельс...</td>\n",
              "      <td>прошлым летом варила варенье из одуванчиков по...</td>\n",
              "    </tr>\n",
              "    <tr>\n",
              "      <th>3466</th>\n",
              "      <td>https://www.povarenok.ru/recipes/show/52794/</td>\n",
              "      <td>Три корочки хлеба под соусом болоньез для Пино...</td>\n",
              "      <td>{'Хлеб': '3 шт', 'Фарш мясной': '200-250 г', '...</td>\n",
              "      <td>и три корочки хлеба  сделал заказ буратино в ...</td>\n",
              "    </tr>\n",
              "  </tbody>\n",
              "</table>\n",
              "<p>3467 rows × 4 columns</p>\n",
              "</div>"
            ],
            "text/plain": [
              "                                                url  \\\n",
              "0     https://www.povarenok.ru/recipes/show/164365/   \n",
              "1       https://www.povarenok.ru/recipes/show/1306/   \n",
              "2      https://www.povarenok.ru/recipes/show/10625/   \n",
              "3     https://www.povarenok.ru/recipes/show/167337/   \n",
              "4      https://www.povarenok.ru/recipes/show/91919/   \n",
              "...                                             ...   \n",
              "3462   https://www.povarenok.ru/recipes/show/54574/   \n",
              "3463  https://www.povarenok.ru/recipes/show/113494/   \n",
              "3464   https://www.povarenok.ru/recipes/show/83228/   \n",
              "3465  https://www.povarenok.ru/recipes/show/172238/   \n",
              "3466   https://www.povarenok.ru/recipes/show/52794/   \n",
              "\n",
              "                                                   name  \\\n",
              "0                    Густой молочно-клубничный коктейль   \n",
              "1                                              Рулетики   \n",
              "2                                   Салат \"Баклажанчик\"   \n",
              "3         Куриные котлеты с картофельным пюре в духовке   \n",
              "4                               Рецепт вишневой наливки   \n",
              "...                                                 ...   \n",
              "3462                                               Мшош   \n",
              "3463                   Мясные треугольники с баклажаном   \n",
              "3464                               \"Болоньез\" по-новому   \n",
              "3465               Варенье из одуванчиков с апельсинами   \n",
              "3466  Три корочки хлеба под соусом болоньез для Пино...   \n",
              "\n",
              "                                            ingredients  \\\n",
              "0     {'Молоко': '250 мл', 'Клубника': '200 г', 'Сах...   \n",
              "1     {'Сыр твердый': None, 'Чеснок': None, 'Яйцо ку...   \n",
              "2     {'Баклажан': '3 шт', 'Лук репчатый': '2 шт', '...   \n",
              "3     {'Фарш куриный': '800 г', 'Пюре картофельное':...   \n",
              "4     {'Вишня': '1 кг', 'Водка': '1 л', 'Сахар': '30...   \n",
              "...                                                 ...   \n",
              "3462  {'Чечевица': '1 стак.', 'Лук репчатый': '2 шт'...   \n",
              "3463  {'Фарш мясной': '400 г', 'Баклажан': '1 шт', '...   \n",
              "3464  {'Фарш мясной': '400 г', 'Томаты в собственном...   \n",
              "3465  {'Цветки': '400 г', 'Сахар': '1300 г', 'Апельс...   \n",
              "3466  {'Хлеб': '3 шт', 'Фарш мясной': '200-250 г', '...   \n",
              "\n",
              "                                            description  \n",
              "0     этот коктейль готовлю из замороженной клубники...  \n",
              "1                                       быстро и вкусно  \n",
              "2              сытный овощной салатик пальчики оближете  \n",
              "3     картофельное пюре и куриные котлеты  вкусная к...  \n",
              "4     вишневая наливка имеет яркий вишневый вкус кот...  \n",
              "...                                                 ...  \n",
              "3462  для тех кто любит чечевицу вам сюда очень вкус...  \n",
              "3463  баклажановые фантазии продолжаются предлагаю в...  \n",
              "3464  мое любимое блюдо лазанья но кушать только фар...  \n",
              "3465  прошлым летом варила варенье из одуванчиков по...  \n",
              "3466   и три корочки хлеба  сделал заказ буратино в ...  \n",
              "\n",
              "[3467 rows x 4 columns]"
            ]
          },
          "metadata": {},
          "output_type": "display_data"
        }
      ],
      "source": [
        "recipes = pd.read_csv('ru_recipes_sample.csv')\n",
        "simb = r'[а-яё0-9 ]+'\n",
        "recipes['description'] = recipes['description'].str.lower()\n",
        "recipes['description'] = recipes['description'].str.findall(simb)\n",
        "recipes['description'] = recipes['description'].apply(''.join)\n",
        "display(recipes)"
      ]
    },
    {
      "cell_type": "code",
      "execution_count": null,
      "metadata": {
        "id": "pp_kZM9zQUgI",
        "outputId": "3b918058-bc64-4fd2-b426-40cd095c31a4"
      },
      "outputs": [
        {
          "name": "stdout",
          "output_type": "stream",
          "text": [
            "2\n",
            "2\n"
          ]
        }
      ],
      "source": [
        "from nltk.metrics.distance import edit_distance\n",
        "print(edit_distance('пак', 'кап'))\n",
        "print(edit_distance('интернацирнальный', 'йнтернацирнальныи'))"
      ]
    },
    {
      "cell_type": "markdown",
      "metadata": {
        "id": "xIdu_E53QUgJ"
      },
      "source": [
        "### Расстояние редактирования"
      ]
    },
    {
      "cell_type": "markdown",
      "metadata": {
        "id": "gN15AEN5QUgJ"
      },
      "source": [
        "2\\. Получите набор уникальных слов `words`, содержащихся в текстах описаний рецептов (воспользуйтесь `word_tokenize` из `nltk`). Сгенерируйте 5 пар случайно выбранных слов и посчитайте между ними расстояние Левенштейна. Выведите на экран результат в следующем виде:\n",
        "\n",
        "```\n",
        "d(word1, word2) = x\n",
        "```"
      ]
    },
    {
      "cell_type": "code",
      "execution_count": null,
      "metadata": {
        "id": "jb-ve9PYQUgJ",
        "outputId": "79023c53-e837-4115-ce37-f20ec1ddbb67"
      },
      "outputs": [
        {
          "name": "stdout",
          "output_type": "stream",
          "text": [
            "d(присутствие, порадуйте) = 7\n",
            "d(авторов, америку) = 6\n",
            "d(достала, необходимое) = 10\n",
            "d(тушный, коктейль) = 7\n",
            "d(неравнодушным, крекерами) = 12\n"
          ]
        }
      ],
      "source": [
        "words = []\n",
        "def func(s):\n",
        "    for word in word_tokenize(s):\n",
        "        if word not in words and word.isalpha():\n",
        "            words.append(word)\n",
        "recipes['description'].apply(func)\n",
        "rand_index = random.sample(words,10)\n",
        "for i in range(0, 10, 2):\n",
        "    print(f\"d({rand_index[i]}, {rand_index[i+1]}) = {lev(rand_index[i], rand_index[i+1])}\")"
      ]
    },
    {
      "cell_type": "markdown",
      "metadata": {
        "id": "p9mIfIj9QUgK"
      },
      "source": [
        "3\\. Напишите функцию, которая принимает на вход 2 текстовые строки `s1` и `s2` и при помощи расстояния Левенштейна определяет, является ли строка `s2` плагиатом `s1`. Функция должна реализовывать следующую логику: для каждого слова `w1` из `s1` проверяет, есть в `s2` хотя бы одно слово `w2`, такое, что расстояние Левенштейна между `w1` и `w2` меньше 2, и считает количество таких слов в `s1` $P$.\n",
        "\n",
        "$$ P = \\#\\{w_1 \\in s_1\\ | \\exists w_2 \\in s_2 : d(w_1, w_2) < tol\\}$$\n",
        "\n",
        "$$ L = max(|s1|, |s2|) $$\n",
        "\n",
        "Здесь $|\\cdot|$ - количество слов в строке, $\\#A$ - число элементов в множестве $A$, $w \\in s$ означает, что слово $w$ содержится в тексте $s$.\n",
        "\n",
        "Если отношение $P / L$ больше 0.8, то функция должна вернуть True; иначе False.\n",
        "\n",
        "Продемонстрируйте работу вашей функции на примере описаний двух рецептов с ID 135488 и 851934 (ID рецепта - это число, стоящее в конце url рецепта). Выведите на экран описания этих рецептов и результат работы функции."
      ]
    },
    {
      "cell_type": "code",
      "execution_count": null,
      "metadata": {
        "id": "aSK31UuOQUgK",
        "outputId": "53ed6c76-86e4-489d-e9d0-35ee563654aa"
      },
      "outputs": [
        {
          "name": "stdout",
          "output_type": "stream",
          "text": [
            "['прекрасной закуской к крепким напиткам на фуршетном столе станет паштет из сала и авокадо с чесноком который мы спрячем в орешках из бородинского хлеба положив в середину маслину закуска получается необычной оригинальной и ценится особенно мужчинами'\n",
            " 'замечательной закуской к напиткам на фуршетном столе станет паштет из сала и авокадо с чесноком куда мы добавим орешков из бородинского хлеба положив в середину маслины закуска получается крайне необычной оригинальной и ценится особенно мужчинами']\n"
          ]
        },
        {
          "name": "stderr",
          "output_type": "stream",
          "text": [
            "C:\\Users\\user\\AppData\\Local\\Temp\\ipykernel_13596\\1250045789.py:11: UserWarning: This pattern is interpreted as a regular expression, and has match groups. To actually get the groups, use str.extract.\n",
            "  rec = recipes[recipes['url'].str.contains(id)]['description'].values\n"
          ]
        },
        {
          "data": {
            "text/plain": [
              "True"
            ]
          },
          "execution_count": 216,
          "metadata": {},
          "output_type": "execute_result"
        }
      ],
      "source": [
        "def is_plagiarism(s1: str, s2: str) -> bool:\n",
        "    s1, s2 = word_tokenize(s1), word_tokenize(s2)\n",
        "    count = 0\n",
        "    for i in s1:\n",
        "        for j in s1:\n",
        "            if lev(i, j) < 2:\n",
        "                count += 1\n",
        "    l = max(len(s1), len(s2))\n",
        "    return True if count/l > 0.8 else False\n",
        "id = r'(135488|851934)'\n",
        "rec = recipes[recipes['url'].str.contains(id)]['description'].values\n",
        "print(rec)\n",
        "is_plagiarism(rec[0], rec[1])"
      ]
    },
    {
      "cell_type": "markdown",
      "metadata": {
        "id": "_TAvZGVDQUgL"
      },
      "source": [
        "### Стемминг, лемматизация"
      ]
    },
    {
      "cell_type": "markdown",
      "metadata": {
        "id": "7IBoU0c0QUgL"
      },
      "source": [
        "4\\. На основе набора слов из задания 2 создайте `pd.DataFrame` со столбцами `word`, `stemmed_word` и `normalized_word`. В столбец `stemmed_word` поместите версию слова после проведения процедуры стемминга; в столбец `normalized_word` поместите версию слова после проведения процедуры лемматизации. Столбец `word` укажите в качестве индекса.\n",
        "\n",
        "Для стемминга можно воспользоваться `SnowballStemmer` из `nltk`, для лемматизации слов - пакетом `pymorphy2`. Сравните результаты стемминга и лемматизации. Поясните на примере одной из строк получившегося фрейма (в виде текстового комментария), в чем разница между двумя этими подходами."
      ]
    },
    {
      "cell_type": "code",
      "execution_count": null,
      "metadata": {
        "id": "6jHPWAbmQUgL",
        "outputId": "f5efd619-7ffb-43b4-b44c-75a1b2e19be4"
      },
      "outputs": [
        {
          "name": "stdout",
          "output_type": "stream",
          "text": [
            "Parse(word='стали', tag=OpencorporaTag('VERB,perf,intr plur,past,indc'), normal_form='стать', score=0.975342, methods_stack=((DictionaryAnalyzer(), 'стали', 945, 4),))\n"
          ]
        },
        {
          "data": {
            "text/html": [
              "<div>\n",
              "<style scoped>\n",
              "    .dataframe tbody tr th:only-of-type {\n",
              "        vertical-align: middle;\n",
              "    }\n",
              "\n",
              "    .dataframe tbody tr th {\n",
              "        vertical-align: top;\n",
              "    }\n",
              "\n",
              "    .dataframe thead th {\n",
              "        text-align: right;\n",
              "    }\n",
              "</style>\n",
              "<table border=\"1\" class=\"dataframe\">\n",
              "  <thead>\n",
              "    <tr style=\"text-align: right;\">\n",
              "      <th></th>\n",
              "      <th>stemmed_word</th>\n",
              "      <th>normalized_word</th>\n",
              "    </tr>\n",
              "  </thead>\n",
              "  <tbody>\n",
              "    <tr>\n",
              "      <th>этот</th>\n",
              "      <td>этот</td>\n",
              "      <td>этот</td>\n",
              "    </tr>\n",
              "    <tr>\n",
              "      <th>коктейль</th>\n",
              "      <td>коктейл</td>\n",
              "      <td>коктейль</td>\n",
              "    </tr>\n",
              "    <tr>\n",
              "      <th>готовлю</th>\n",
              "      <td>готовл</td>\n",
              "      <td>готовить</td>\n",
              "    </tr>\n",
              "    <tr>\n",
              "      <th>из</th>\n",
              "      <td>из</td>\n",
              "      <td>из</td>\n",
              "    </tr>\n",
              "    <tr>\n",
              "      <th>замороженной</th>\n",
              "      <td>заморожен</td>\n",
              "      <td>заморозить</td>\n",
              "    </tr>\n",
              "    <tr>\n",
              "      <th>...</th>\n",
              "      <td>...</td>\n",
              "      <td>...</td>\n",
              "    </tr>\n",
              "    <tr>\n",
              "      <th>сбывается</th>\n",
              "      <td>сбыва</td>\n",
              "      <td>сбываться</td>\n",
              "    </tr>\n",
              "    <tr>\n",
              "      <th>подружим</th>\n",
              "      <td>подруж</td>\n",
              "      <td>подружить</td>\n",
              "    </tr>\n",
              "    <tr>\n",
              "      <th>одинаковых</th>\n",
              "      <td>одинаков</td>\n",
              "      <td>одинаковый</td>\n",
              "    </tr>\n",
              "    <tr>\n",
              "      <th>задорных</th>\n",
              "      <td>задорн</td>\n",
              "      <td>задорный</td>\n",
              "    </tr>\n",
              "    <tr>\n",
              "      <th>мальчишек</th>\n",
              "      <td>мальчишек</td>\n",
              "      <td>мальчишка</td>\n",
              "    </tr>\n",
              "  </tbody>\n",
              "</table>\n",
              "<p>16630 rows × 2 columns</p>\n",
              "</div>"
            ],
            "text/plain": [
              "             stemmed_word normalized_word\n",
              "этот                 этот            этот\n",
              "коктейль          коктейл        коктейль\n",
              "готовлю            готовл        готовить\n",
              "из                     из              из\n",
              "замороженной    заморожен      заморозить\n",
              "...                   ...             ...\n",
              "сбывается           сбыва       сбываться\n",
              "подружим           подруж       подружить\n",
              "одинаковых       одинаков      одинаковый\n",
              "задорных           задорн        задорный\n",
              "мальчишек       мальчишек       мальчишка\n",
              "\n",
              "[16630 rows x 2 columns]"
            ]
          },
          "execution_count": 21,
          "metadata": {},
          "output_type": "execute_result"
        }
      ],
      "source": [
        "stemmed_word = SnowballStemmer(\"russian\")\n",
        "form_words = pd.DataFrame(data=[stemmed_word.stem(w) for w in words], columns=['stemmed_word'], index=words)\n",
        "morph = pymorphy2.MorphAnalyzer()\n",
        "p = morph.parse('стали')[0]\n",
        "print(p)\n",
        "form_words['normalized_word'] = [morph.parse(w)[0].normal_form for w in words]\n",
        "form_words"
      ]
    },
    {
      "cell_type": "markdown",
      "metadata": {
        "id": "Ps2fXGvQQUgM"
      },
      "source": [
        "5\\. Добавьте в таблицу `recipes` столбец `description_no_stopwords`, в котором содержится текст описания рецепта после удаления из него стоп-слов. Посчитайте и выведите на экран долю стоп-слов среди общего количества слов. Сравните топ-10 самых часто употребляемых слов до и после удаления стоп-слов."
      ]
    },
    {
      "cell_type": "code",
      "execution_count": null,
      "metadata": {
        "id": "Nvzw8JKHQUgM",
        "outputId": "89568baa-9fd5-4aa4-82f6-02f5872977e6"
      },
      "outputs": [
        {
          "data": {
            "text/html": [
              "<div>\n",
              "<style scoped>\n",
              "    .dataframe tbody tr th:only-of-type {\n",
              "        vertical-align: middle;\n",
              "    }\n",
              "\n",
              "    .dataframe tbody tr th {\n",
              "        vertical-align: top;\n",
              "    }\n",
              "\n",
              "    .dataframe thead th {\n",
              "        text-align: right;\n",
              "    }\n",
              "</style>\n",
              "<table border=\"1\" class=\"dataframe\">\n",
              "  <thead>\n",
              "    <tr style=\"text-align: right;\">\n",
              "      <th></th>\n",
              "      <th>url</th>\n",
              "      <th>name</th>\n",
              "      <th>ingredients</th>\n",
              "      <th>description</th>\n",
              "      <th>description_no_stopwords</th>\n",
              "    </tr>\n",
              "  </thead>\n",
              "  <tbody>\n",
              "    <tr>\n",
              "      <th>0</th>\n",
              "      <td>https://www.povarenok.ru/recipes/show/164365/</td>\n",
              "      <td>Густой молочно-клубничный коктейль</td>\n",
              "      <td>{'Молоко': '250 мл', 'Клубника': '200 г', 'Сах...</td>\n",
              "      <td>этот коктейль готовлю из замороженной клубники...</td>\n",
              "      <td>коктейль готовлю замороженной клубники клубник...</td>\n",
              "    </tr>\n",
              "    <tr>\n",
              "      <th>1</th>\n",
              "      <td>https://www.povarenok.ru/recipes/show/1306/</td>\n",
              "      <td>Рулетики</td>\n",
              "      <td>{'Сыр твердый': None, 'Чеснок': None, 'Яйцо ку...</td>\n",
              "      <td>быстро и вкусно</td>\n",
              "      <td>быстро вкусно</td>\n",
              "    </tr>\n",
              "    <tr>\n",
              "      <th>2</th>\n",
              "      <td>https://www.povarenok.ru/recipes/show/10625/</td>\n",
              "      <td>Салат \"Баклажанчик\"</td>\n",
              "      <td>{'Баклажан': '3 шт', 'Лук репчатый': '2 шт', '...</td>\n",
              "      <td>сытный овощной салатик пальчики оближете</td>\n",
              "      <td>сытный овощной салатик пальчики оближете</td>\n",
              "    </tr>\n",
              "    <tr>\n",
              "      <th>3</th>\n",
              "      <td>https://www.povarenok.ru/recipes/show/167337/</td>\n",
              "      <td>Куриные котлеты с картофельным пюре в духовке</td>\n",
              "      <td>{'Фарш куриный': '800 г', 'Пюре картофельное':...</td>\n",
              "      <td>картофельное пюре и куриные котлеты  вкусная к...</td>\n",
              "      <td>картофельное пюре куриные котлеты вкусная клас...</td>\n",
              "    </tr>\n",
              "    <tr>\n",
              "      <th>4</th>\n",
              "      <td>https://www.povarenok.ru/recipes/show/91919/</td>\n",
              "      <td>Рецепт вишневой наливки</td>\n",
              "      <td>{'Вишня': '1 кг', 'Водка': '1 л', 'Сахар': '30...</td>\n",
              "      <td>вишневая наливка имеет яркий вишневый вкус кот...</td>\n",
              "      <td>вишневая наливка имеет яркий вишневый вкус кот...</td>\n",
              "    </tr>\n",
              "    <tr>\n",
              "      <th>...</th>\n",
              "      <td>...</td>\n",
              "      <td>...</td>\n",
              "      <td>...</td>\n",
              "      <td>...</td>\n",
              "      <td>...</td>\n",
              "    </tr>\n",
              "    <tr>\n",
              "      <th>3462</th>\n",
              "      <td>https://www.povarenok.ru/recipes/show/54574/</td>\n",
              "      <td>Мшош</td>\n",
              "      <td>{'Чечевица': '1 стак.', 'Лук репчатый': '2 шт'...</td>\n",
              "      <td>для тех кто любит чечевицу вам сюда очень вкус...</td>\n",
              "      <td>тех любит чечевицу сюда очень вкусная чечевичн...</td>\n",
              "    </tr>\n",
              "    <tr>\n",
              "      <th>3463</th>\n",
              "      <td>https://www.povarenok.ru/recipes/show/113494/</td>\n",
              "      <td>Мясные треугольники с баклажаном</td>\n",
              "      <td>{'Фарш мясной': '400 г', 'Баклажан': '1 шт', '...</td>\n",
              "      <td>баклажановые фантазии продолжаются предлагаю в...</td>\n",
              "      <td>баклажановые фантазии продолжаются предлагаю в...</td>\n",
              "    </tr>\n",
              "    <tr>\n",
              "      <th>3464</th>\n",
              "      <td>https://www.povarenok.ru/recipes/show/83228/</td>\n",
              "      <td>\"Болоньез\" по-новому</td>\n",
              "      <td>{'Фарш мясной': '400 г', 'Томаты в собственном...</td>\n",
              "      <td>мое любимое блюдо лазанья но кушать только фар...</td>\n",
              "      <td>мое любимое блюдо лазанья кушать фарш поднадое...</td>\n",
              "    </tr>\n",
              "    <tr>\n",
              "      <th>3465</th>\n",
              "      <td>https://www.povarenok.ru/recipes/show/172238/</td>\n",
              "      <td>Варенье из одуванчиков с апельсинами</td>\n",
              "      <td>{'Цветки': '400 г', 'Сахар': '1300 г', 'Апельс...</td>\n",
              "      <td>прошлым летом варила варенье из одуванчиков по...</td>\n",
              "      <td>прошлым летом варила варенье одуванчиков рецеп...</td>\n",
              "    </tr>\n",
              "    <tr>\n",
              "      <th>3466</th>\n",
              "      <td>https://www.povarenok.ru/recipes/show/52794/</td>\n",
              "      <td>Три корочки хлеба под соусом болоньез для Пино...</td>\n",
              "      <td>{'Хлеб': '3 шт', 'Фарш мясной': '200-250 г', '...</td>\n",
              "      <td>и три корочки хлеба  сделал заказ буратино в ...</td>\n",
              "      <td>корочки хлеба сделал заказ буратино таверне до...</td>\n",
              "    </tr>\n",
              "  </tbody>\n",
              "</table>\n",
              "<p>3467 rows × 5 columns</p>\n",
              "</div>"
            ],
            "text/plain": [
              "                                                url  \\\n",
              "0     https://www.povarenok.ru/recipes/show/164365/   \n",
              "1       https://www.povarenok.ru/recipes/show/1306/   \n",
              "2      https://www.povarenok.ru/recipes/show/10625/   \n",
              "3     https://www.povarenok.ru/recipes/show/167337/   \n",
              "4      https://www.povarenok.ru/recipes/show/91919/   \n",
              "...                                             ...   \n",
              "3462   https://www.povarenok.ru/recipes/show/54574/   \n",
              "3463  https://www.povarenok.ru/recipes/show/113494/   \n",
              "3464   https://www.povarenok.ru/recipes/show/83228/   \n",
              "3465  https://www.povarenok.ru/recipes/show/172238/   \n",
              "3466   https://www.povarenok.ru/recipes/show/52794/   \n",
              "\n",
              "                                                   name  \\\n",
              "0                    Густой молочно-клубничный коктейль   \n",
              "1                                              Рулетики   \n",
              "2                                   Салат \"Баклажанчик\"   \n",
              "3         Куриные котлеты с картофельным пюре в духовке   \n",
              "4                               Рецепт вишневой наливки   \n",
              "...                                                 ...   \n",
              "3462                                               Мшош   \n",
              "3463                   Мясные треугольники с баклажаном   \n",
              "3464                               \"Болоньез\" по-новому   \n",
              "3465               Варенье из одуванчиков с апельсинами   \n",
              "3466  Три корочки хлеба под соусом болоньез для Пино...   \n",
              "\n",
              "                                            ingredients  \\\n",
              "0     {'Молоко': '250 мл', 'Клубника': '200 г', 'Сах...   \n",
              "1     {'Сыр твердый': None, 'Чеснок': None, 'Яйцо ку...   \n",
              "2     {'Баклажан': '3 шт', 'Лук репчатый': '2 шт', '...   \n",
              "3     {'Фарш куриный': '800 г', 'Пюре картофельное':...   \n",
              "4     {'Вишня': '1 кг', 'Водка': '1 л', 'Сахар': '30...   \n",
              "...                                                 ...   \n",
              "3462  {'Чечевица': '1 стак.', 'Лук репчатый': '2 шт'...   \n",
              "3463  {'Фарш мясной': '400 г', 'Баклажан': '1 шт', '...   \n",
              "3464  {'Фарш мясной': '400 г', 'Томаты в собственном...   \n",
              "3465  {'Цветки': '400 г', 'Сахар': '1300 г', 'Апельс...   \n",
              "3466  {'Хлеб': '3 шт', 'Фарш мясной': '200-250 г', '...   \n",
              "\n",
              "                                            description  \\\n",
              "0     этот коктейль готовлю из замороженной клубники...   \n",
              "1                                       быстро и вкусно   \n",
              "2              сытный овощной салатик пальчики оближете   \n",
              "3     картофельное пюре и куриные котлеты  вкусная к...   \n",
              "4     вишневая наливка имеет яркий вишневый вкус кот...   \n",
              "...                                                 ...   \n",
              "3462  для тех кто любит чечевицу вам сюда очень вкус...   \n",
              "3463  баклажановые фантазии продолжаются предлагаю в...   \n",
              "3464  мое любимое блюдо лазанья но кушать только фар...   \n",
              "3465  прошлым летом варила варенье из одуванчиков по...   \n",
              "3466   и три корочки хлеба  сделал заказ буратино в ...   \n",
              "\n",
              "                               description_no_stopwords  \n",
              "0     коктейль готовлю замороженной клубники клубник...  \n",
              "1                                         быстро вкусно  \n",
              "2              сытный овощной салатик пальчики оближете  \n",
              "3     картофельное пюре куриные котлеты вкусная клас...  \n",
              "4     вишневая наливка имеет яркий вишневый вкус кот...  \n",
              "...                                                 ...  \n",
              "3462  тех любит чечевицу сюда очень вкусная чечевичн...  \n",
              "3463  баклажановые фантазии продолжаются предлагаю в...  \n",
              "3464  мое любимое блюдо лазанья кушать фарш поднадое...  \n",
              "3465  прошлым летом варила варенье одуванчиков рецеп...  \n",
              "3466  корочки хлеба сделал заказ буратино таверне до...  \n",
              "\n",
              "[3467 rows x 5 columns]"
            ]
          },
          "metadata": {},
          "output_type": "display_data"
        },
        {
          "name": "stdout",
          "output_type": "stream",
          "text": [
            "16.528816063654062 %\n",
            "и         5043\n",
            "в         2567\n",
            "с         1932\n",
            "на        1642\n",
            "очень     1594\n",
            "не        1515\n",
            "из        1005\n",
            "я          972\n",
            "а          850\n",
            "рецепт     843\n",
            "dtype: int64\n",
            "очень          1594\n",
            "рецепт          843\n",
            "это             728\n",
            "блюдо           521\n",
            "вкусный         459\n",
            "просто          434\n",
            "вкусно          366\n",
            "приготовить     342\n",
            "вкус            319\n",
            "салат           312\n",
            "dtype: int64\n"
          ]
        }
      ],
      "source": [
        "from nltk.corpus import stopwords\n",
        "ru_stop_words = stopwords.words('russian')\n",
        "\n",
        "def stop(s):\n",
        "    mass = []\n",
        "    for word in word_tokenize(s):\n",
        "        if word not in ru_stop_words:\n",
        "            mass.append(word)\n",
        "    return ' '.join(mass)\n",
        "\n",
        "recipes['description_no_stopwords'] = recipes.description.apply(stop)\n",
        "display(recipes)\n",
        "\n",
        "len_desc = sum(recipes.description.str.len())\n",
        "len_desc_no_stopwords = sum(recipes.description_no_stopwords.str.len())\n",
        "print(f'{(len_desc-len_desc_no_stopwords)/len_desc * 100} %')\n",
        "\n",
        "\n",
        "def words_count(s, lst):\n",
        "    for word in word_tokenize(s):\n",
        "        if word.isalpha():\n",
        "            lst.append(word)\n",
        "\n",
        "lst_desc = []\n",
        "lst_desc_no_stop = []\n",
        "recipes.description.apply(lambda s: words_count(s, lst_desc))\n",
        "recipes.description_no_stopwords.apply(lambda s: words_count(s, lst_desc_no_stop))\n",
        "\n",
        "print(pd.Series(lst_desc).value_counts()[:10])\n",
        "print(pd.Series(lst_desc_no_stop).value_counts()[:10])"
      ]
    },
    {
      "cell_type": "markdown",
      "metadata": {
        "id": "BRk6bBtyQUgN"
      },
      "source": [
        "### Векторное представление текста"
      ]
    },
    {
      "cell_type": "markdown",
      "metadata": {
        "id": "pwEv4DIYQUgN"
      },
      "source": [
        "6\\. Выберите случайным образом 5 рецептов из набора данных, в названии которых есть слово \"оладьи\" (без учета регистра). Представьте описание каждого рецепта в виде числового вектора при помощи `TfidfVectorizer`. На основе полученных векторов создайте `pd.DataFrame`, в котором названия колонок соответствуют словам из словаря объекта-векторизатора.\n",
        "\n",
        "Примечание: обратите внимание на порядок слов при создании колонок."
      ]
    },
    {
      "cell_type": "code",
      "execution_count": null,
      "metadata": {
        "id": "r-1HcMmcQUgN",
        "outputId": "46738f18-bda1-43eb-ba3e-544e218f1f9b"
      },
      "outputs": [
        {
          "data": {
            "text/html": [
              "<div>\n",
              "<style scoped>\n",
              "    .dataframe tbody tr th:only-of-type {\n",
              "        vertical-align: middle;\n",
              "    }\n",
              "\n",
              "    .dataframe tbody tr th {\n",
              "        vertical-align: top;\n",
              "    }\n",
              "\n",
              "    .dataframe thead th {\n",
              "        text-align: right;\n",
              "    }\n",
              "</style>\n",
              "<table border=\"1\" class=\"dataframe\">\n",
              "  <thead>\n",
              "    <tr style=\"text-align: right;\">\n",
              "      <th></th>\n",
              "      <th>без</th>\n",
              "      <th>белки</th>\n",
              "      <th>блюдаособенно</th>\n",
              "      <th>богу</th>\n",
              "      <th>вам</th>\n",
              "      <th>вас</th>\n",
              "      <th>вкус</th>\n",
              "      <th>вкусно</th>\n",
              "      <th>встретила</th>\n",
              "      <th>главное</th>\n",
              "      <th>...</th>\n",
              "      <th>украине</th>\n",
              "      <th>улучшает</th>\n",
              "      <th>урожай</th>\n",
              "      <th>хороши</th>\n",
              "      <th>хороший</th>\n",
              "      <th>черешки</th>\n",
              "      <th>чечевица</th>\n",
              "      <th>читайте</th>\n",
              "      <th>этих</th>\n",
              "      <th>этом</th>\n",
              "    </tr>\n",
              "  </thead>\n",
              "  <tbody>\n",
              "    <tr>\n",
              "      <th>0</th>\n",
              "      <td>0.000000</td>\n",
              "      <td>0.171618</td>\n",
              "      <td>0.171618</td>\n",
              "      <td>0.000000</td>\n",
              "      <td>0.000000</td>\n",
              "      <td>0.000000</td>\n",
              "      <td>0.138460</td>\n",
              "      <td>0.000000</td>\n",
              "      <td>0.000000</td>\n",
              "      <td>0.000000</td>\n",
              "      <td>...</td>\n",
              "      <td>0.000000</td>\n",
              "      <td>0.171618</td>\n",
              "      <td>0.000000</td>\n",
              "      <td>0.171618</td>\n",
              "      <td>0.000000</td>\n",
              "      <td>0.171618</td>\n",
              "      <td>0.171618</td>\n",
              "      <td>0.000000</td>\n",
              "      <td>0.000000</td>\n",
              "      <td>0.138460</td>\n",
              "    </tr>\n",
              "    <tr>\n",
              "      <th>1</th>\n",
              "      <td>0.000000</td>\n",
              "      <td>0.000000</td>\n",
              "      <td>0.000000</td>\n",
              "      <td>0.000000</td>\n",
              "      <td>0.000000</td>\n",
              "      <td>0.000000</td>\n",
              "      <td>0.000000</td>\n",
              "      <td>0.000000</td>\n",
              "      <td>0.000000</td>\n",
              "      <td>0.000000</td>\n",
              "      <td>...</td>\n",
              "      <td>0.000000</td>\n",
              "      <td>0.000000</td>\n",
              "      <td>0.000000</td>\n",
              "      <td>0.000000</td>\n",
              "      <td>0.000000</td>\n",
              "      <td>0.000000</td>\n",
              "      <td>0.000000</td>\n",
              "      <td>0.000000</td>\n",
              "      <td>0.000000</td>\n",
              "      <td>0.000000</td>\n",
              "    </tr>\n",
              "    <tr>\n",
              "      <th>2</th>\n",
              "      <td>0.000000</td>\n",
              "      <td>0.000000</td>\n",
              "      <td>0.000000</td>\n",
              "      <td>0.195547</td>\n",
              "      <td>0.157766</td>\n",
              "      <td>0.000000</td>\n",
              "      <td>0.000000</td>\n",
              "      <td>0.000000</td>\n",
              "      <td>0.000000</td>\n",
              "      <td>0.000000</td>\n",
              "      <td>...</td>\n",
              "      <td>0.195547</td>\n",
              "      <td>0.000000</td>\n",
              "      <td>0.195547</td>\n",
              "      <td>0.000000</td>\n",
              "      <td>0.195547</td>\n",
              "      <td>0.000000</td>\n",
              "      <td>0.000000</td>\n",
              "      <td>0.195547</td>\n",
              "      <td>0.000000</td>\n",
              "      <td>0.157766</td>\n",
              "    </tr>\n",
              "    <tr>\n",
              "      <th>3</th>\n",
              "      <td>0.250808</td>\n",
              "      <td>0.000000</td>\n",
              "      <td>0.000000</td>\n",
              "      <td>0.000000</td>\n",
              "      <td>0.000000</td>\n",
              "      <td>0.000000</td>\n",
              "      <td>0.000000</td>\n",
              "      <td>0.000000</td>\n",
              "      <td>0.250808</td>\n",
              "      <td>0.000000</td>\n",
              "      <td>...</td>\n",
              "      <td>0.000000</td>\n",
              "      <td>0.000000</td>\n",
              "      <td>0.000000</td>\n",
              "      <td>0.000000</td>\n",
              "      <td>0.000000</td>\n",
              "      <td>0.000000</td>\n",
              "      <td>0.000000</td>\n",
              "      <td>0.000000</td>\n",
              "      <td>0.250808</td>\n",
              "      <td>0.000000</td>\n",
              "    </tr>\n",
              "    <tr>\n",
              "      <th>4</th>\n",
              "      <td>0.000000</td>\n",
              "      <td>0.000000</td>\n",
              "      <td>0.000000</td>\n",
              "      <td>0.000000</td>\n",
              "      <td>0.211869</td>\n",
              "      <td>0.262607</td>\n",
              "      <td>0.211869</td>\n",
              "      <td>0.262607</td>\n",
              "      <td>0.000000</td>\n",
              "      <td>0.262607</td>\n",
              "      <td>...</td>\n",
              "      <td>0.000000</td>\n",
              "      <td>0.000000</td>\n",
              "      <td>0.000000</td>\n",
              "      <td>0.000000</td>\n",
              "      <td>0.000000</td>\n",
              "      <td>0.000000</td>\n",
              "      <td>0.000000</td>\n",
              "      <td>0.000000</td>\n",
              "      <td>0.000000</td>\n",
              "      <td>0.000000</td>\n",
              "    </tr>\n",
              "  </tbody>\n",
              "</table>\n",
              "<p>5 rows × 96 columns</p>\n",
              "</div>"
            ],
            "text/plain": [
              "        без     белки  блюдаособенно      богу       вам       вас      вкус  \\\n",
              "0  0.000000  0.171618       0.171618  0.000000  0.000000  0.000000  0.138460   \n",
              "1  0.000000  0.000000       0.000000  0.000000  0.000000  0.000000  0.000000   \n",
              "2  0.000000  0.000000       0.000000  0.195547  0.157766  0.000000  0.000000   \n",
              "3  0.250808  0.000000       0.000000  0.000000  0.000000  0.000000  0.000000   \n",
              "4  0.000000  0.000000       0.000000  0.000000  0.211869  0.262607  0.211869   \n",
              "\n",
              "     вкусно  встретила   главное  ...   украине  улучшает    урожай    хороши  \\\n",
              "0  0.000000   0.000000  0.000000  ...  0.000000  0.171618  0.000000  0.171618   \n",
              "1  0.000000   0.000000  0.000000  ...  0.000000  0.000000  0.000000  0.000000   \n",
              "2  0.000000   0.000000  0.000000  ...  0.195547  0.000000  0.195547  0.000000   \n",
              "3  0.000000   0.250808  0.000000  ...  0.000000  0.000000  0.000000  0.000000   \n",
              "4  0.262607   0.000000  0.262607  ...  0.000000  0.000000  0.000000  0.000000   \n",
              "\n",
              "    хороший   черешки  чечевица   читайте      этих      этом  \n",
              "0  0.000000  0.171618  0.171618  0.000000  0.000000  0.138460  \n",
              "1  0.000000  0.000000  0.000000  0.000000  0.000000  0.000000  \n",
              "2  0.195547  0.000000  0.000000  0.195547  0.000000  0.157766  \n",
              "3  0.000000  0.000000  0.000000  0.000000  0.250808  0.000000  \n",
              "4  0.000000  0.000000  0.000000  0.000000  0.000000  0.000000  \n",
              "\n",
              "[5 rows x 96 columns]"
            ]
          },
          "metadata": {},
          "output_type": "display_data"
        }
      ],
      "source": [
        "def olad(s):\n",
        "    if 'оладьи' in s.lower():\n",
        "        return True\n",
        "    return False\n",
        "\n",
        "oladyi = recipes[recipes.name.apply(olad)]\n",
        "sample_5_olad = oladyi.sample(5)\n",
        "vect_olad = sample_5_olad.description\n",
        "tv = TfidfVectorizer()\n",
        "corpus_tv = tv.fit_transform(vect_olad)\n",
        "df_olad = pd.DataFrame(data=corpus_tv.toarray(), columns=tv.get_feature_names_out())\n",
        "display(df_olad)"
      ]
    },
    {
      "cell_type": "markdown",
      "metadata": {
        "id": "5nptRnMVQUgO"
      },
      "source": [
        "7\\. Вычислите близость между каждой парой рецептов, выбранных в задании 6, используя косинусное расстояние (можно воспользоваться функциями из любого пакета: `scipy`, `scikit-learn` или реализовать функцию самому). Результаты оформите в виде таблицы `pd.DataFrame`. В качестве названий строк и столбцов используйте названия рецептов.\n",
        "\n",
        "Примечание: обратите внимание, что $d_{cosine}(x, x) = 0$"
      ]
    },
    {
      "cell_type": "code",
      "execution_count": null,
      "metadata": {
        "id": "jAZx3ajLQUgO",
        "outputId": "c56f6e55-cce5-415c-a464-afda8606baca"
      },
      "outputs": [
        {
          "data": {
            "text/html": [
              "<div>\n",
              "<style scoped>\n",
              "    .dataframe tbody tr th:only-of-type {\n",
              "        vertical-align: middle;\n",
              "    }\n",
              "\n",
              "    .dataframe tbody tr th {\n",
              "        vertical-align: top;\n",
              "    }\n",
              "\n",
              "    .dataframe thead th {\n",
              "        text-align: right;\n",
              "    }\n",
              "</style>\n",
              "<table border=\"1\" class=\"dataframe\">\n",
              "  <thead>\n",
              "    <tr style=\"text-align: right;\">\n",
              "      <th>name</th>\n",
              "      <th>Оладьи из сельдерея, кабачков, феты и чечевицы</th>\n",
              "      <th>Тыквенные оладьи с лимоном</th>\n",
              "      <th>Оладьи кабачковые с секретом</th>\n",
              "      <th>Оладьи \"Кошкин пир\"</th>\n",
              "      <th>Оладьи из кабачков и киноа</th>\n",
              "    </tr>\n",
              "    <tr>\n",
              "      <th>name</th>\n",
              "      <th></th>\n",
              "      <th></th>\n",
              "      <th></th>\n",
              "      <th></th>\n",
              "      <th></th>\n",
              "    </tr>\n",
              "  </thead>\n",
              "  <tbody>\n",
              "    <tr>\n",
              "      <th>Оладьи из сельдерея, кабачков, феты и чечевицы</th>\n",
              "      <td>1.000000</td>\n",
              "      <td>0.0</td>\n",
              "      <td>0.043689</td>\n",
              "      <td>0.000000</td>\n",
              "      <td>0.029335</td>\n",
              "    </tr>\n",
              "    <tr>\n",
              "      <th>Тыквенные оладьи с лимоном</th>\n",
              "      <td>0.000000</td>\n",
              "      <td>1.0</td>\n",
              "      <td>0.000000</td>\n",
              "      <td>0.000000</td>\n",
              "      <td>0.000000</td>\n",
              "    </tr>\n",
              "    <tr>\n",
              "      <th>Оладьи кабачковые с секретом</th>\n",
              "      <td>0.043689</td>\n",
              "      <td>0.0</td>\n",
              "      <td>1.000000</td>\n",
              "      <td>0.043995</td>\n",
              "      <td>0.146341</td>\n",
              "    </tr>\n",
              "    <tr>\n",
              "      <th>Оладьи \"Кошкин пир\"</th>\n",
              "      <td>0.000000</td>\n",
              "      <td>0.0</td>\n",
              "      <td>0.043995</td>\n",
              "      <td>1.000000</td>\n",
              "      <td>0.059082</td>\n",
              "    </tr>\n",
              "    <tr>\n",
              "      <th>Оладьи из кабачков и киноа</th>\n",
              "      <td>0.029335</td>\n",
              "      <td>0.0</td>\n",
              "      <td>0.146341</td>\n",
              "      <td>0.059082</td>\n",
              "      <td>1.000000</td>\n",
              "    </tr>\n",
              "  </tbody>\n",
              "</table>\n",
              "</div>"
            ],
            "text/plain": [
              "name                                            Оладьи из сельдерея, кабачков, феты и чечевицы  \\\n",
              "name                                                                                             \n",
              "Оладьи из сельдерея, кабачков, феты и чечевицы                                        1.000000   \n",
              "Тыквенные оладьи с лимоном                                                            0.000000   \n",
              "Оладьи кабачковые с секретом                                                          0.043689   \n",
              "Оладьи \"Кошкин пир\"                                                                   0.000000   \n",
              "Оладьи из кабачков и киноа                                                            0.029335   \n",
              "\n",
              "name                                            Тыквенные оладьи с лимоном  \\\n",
              "name                                                                         \n",
              "Оладьи из сельдерея, кабачков, феты и чечевицы                         0.0   \n",
              "Тыквенные оладьи с лимоном                                             1.0   \n",
              "Оладьи кабачковые с секретом                                           0.0   \n",
              "Оладьи \"Кошкин пир\"                                                    0.0   \n",
              "Оладьи из кабачков и киноа                                             0.0   \n",
              "\n",
              "name                                            Оладьи кабачковые с секретом  \\\n",
              "name                                                                           \n",
              "Оладьи из сельдерея, кабачков, феты и чечевицы                      0.043689   \n",
              "Тыквенные оладьи с лимоном                                          0.000000   \n",
              "Оладьи кабачковые с секретом                                        1.000000   \n",
              "Оладьи \"Кошкин пир\"                                                 0.043995   \n",
              "Оладьи из кабачков и киноа                                          0.146341   \n",
              "\n",
              "name                                            Оладьи \"Кошкин пир\"  \\\n",
              "name                                                                  \n",
              "Оладьи из сельдерея, кабачков, феты и чечевицы             0.000000   \n",
              "Тыквенные оладьи с лимоном                                 0.000000   \n",
              "Оладьи кабачковые с секретом                               0.043995   \n",
              "Оладьи \"Кошкин пир\"                                        1.000000   \n",
              "Оладьи из кабачков и киноа                                 0.059082   \n",
              "\n",
              "name                                            Оладьи из кабачков и киноа  \n",
              "name                                                                        \n",
              "Оладьи из сельдерея, кабачков, феты и чечевицы                    0.029335  \n",
              "Тыквенные оладьи с лимоном                                        0.000000  \n",
              "Оладьи кабачковые с секретом                                      0.146341  \n",
              "Оладьи \"Кошкин пир\"                                               0.059082  \n",
              "Оладьи из кабачков и киноа                                        1.000000  "
            ]
          },
          "execution_count": 207,
          "metadata": {},
          "output_type": "execute_result"
        }
      ],
      "source": [
        "name_olad = sample_5_olad.name\n",
        "cosin_olad = pd.DataFrame(data=cosine_similarity(df_olad, df_olad), columns=name_olad, index=name_olad)\n",
        "cosin_olad"
      ]
    },
    {
      "cell_type": "markdown",
      "metadata": {
        "id": "NAzYWk6XQUgP"
      },
      "source": [
        "8\\. Напишите функцию, которая принимает на вход `pd.DataFrame`, полученный в задании 7, и возвращает в виде кортежа названия двух различных рецептов, которые являются наиболее похожими. Прокомментируйте результат (в виде текстового комментария). Для объяснения результата сравните слова в описаниях двух этих отзывов."
      ]
    },
    {
      "cell_type": "code",
      "execution_count": null,
      "metadata": {
        "id": "y-dVJ5AmQUgQ",
        "outputId": "45478afc-b2fa-4b99-d023-a085f87ad88a"
      },
      "outputs": [
        {
          "name": "stdout",
          "output_type": "stream",
          "text": [
            "('Оладьи кабачковые с секретом', 'Оладьи из кабачков и киноа')\n"
          ]
        }
      ],
      "source": [
        "def find_closest(df):\n",
        "    max = 0\n",
        "    recipeCos = []\n",
        "    for i in df.index:\n",
        "        for j in df.columns:\n",
        "            if i!= j and df.loc[i,j] > max:\n",
        "                max = df.loc[i,j]\n",
        "                recipeCos = [i, j]\n",
        "    return (recipeCos[0], recipeCos[1])\n",
        "print(find_closest(cosin_olad) )"
      ]
    },
    {
      "cell_type": "code",
      "execution_count": null,
      "metadata": {
        "id": "6kdSg5u3QUgS",
        "outputId": "7b84e418-f905-4717-dbee-239906bcd9d6"
      },
      "outputs": [
        {
          "data": {
            "text/html": [
              "<div>\n",
              "<style scoped>\n",
              "    .dataframe tbody tr th:only-of-type {\n",
              "        vertical-align: middle;\n",
              "    }\n",
              "\n",
              "    .dataframe tbody tr th {\n",
              "        vertical-align: top;\n",
              "    }\n",
              "\n",
              "    .dataframe thead th {\n",
              "        text-align: right;\n",
              "    }\n",
              "</style>\n",
              "<table border=\"1\" class=\"dataframe\">\n",
              "  <thead>\n",
              "    <tr style=\"text-align: right;\">\n",
              "      <th></th>\n",
              "      <th>url</th>\n",
              "      <th>name</th>\n",
              "      <th>ingredients</th>\n",
              "      <th>description</th>\n",
              "      <th>description_no_stopwords</th>\n",
              "    </tr>\n",
              "  </thead>\n",
              "  <tbody>\n",
              "    <tr>\n",
              "      <th>1139</th>\n",
              "      <td>https://www.povarenok.ru/recipes/show/6443/</td>\n",
              "      <td>Куриные оладьи</td>\n",
              "      <td>{'Грудка куриная': None, 'Лук репчатый': '2 шт...</td>\n",
              "      <td>на скорую руку за фото к рецепту спасибо людми...</td>\n",
              "      <td>скорую руку фото рецепту спасибо людмиле сурик</td>\n",
              "    </tr>\n",
              "    <tr>\n",
              "      <th>2506</th>\n",
              "      <td>https://www.povarenok.ru/recipes/show/57827/</td>\n",
              "      <td>Нежные куриные оладьи</td>\n",
              "      <td>{'Филе куриное': '500 г', 'Сыр плавленый': '2 ...</td>\n",
              "      <td>нежные сочные оладьи и очень очень очень вкусные</td>\n",
              "      <td>нежные сочные оладьи очень очень очень вкусные</td>\n",
              "    </tr>\n",
              "    <tr>\n",
              "      <th>2830</th>\n",
              "      <td>https://www.povarenok.ru/recipes/show/161557/</td>\n",
              "      <td>Оладьи из печени</td>\n",
              "      <td>{'Печень говяжья': '1000 г', 'Лук репчатый': '...</td>\n",
              "      <td>31 декабря рабочий день  времени на подготовку...</td>\n",
              "      <td>31 декабря рабочий день времени подготовку пра...</td>\n",
              "    </tr>\n",
              "    <tr>\n",
              "      <th>1846</th>\n",
              "      <td>https://www.povarenok.ru/recipes/show/138148/</td>\n",
              "      <td>Оладьи с изюмом</td>\n",
              "      <td>{'Кефир': '0.5 л', 'Яйцо куриное': '1 шт', 'Со...</td>\n",
              "      <td>вкусные домашние оладушки с изюмомугощайтесь</td>\n",
              "      <td>вкусные домашние оладушки изюмомугощайтесь</td>\n",
              "    </tr>\n",
              "    <tr>\n",
              "      <th>1595</th>\n",
              "      <td>https://www.povarenok.ru/recipes/show/109738/</td>\n",
              "      <td>Оладьи из кабачков и киноа</td>\n",
              "      <td>{'Киноа': '100 г', 'Вода': '200 мл', 'Кабачок'...</td>\n",
              "      <td>предлагаю вам попробовать интересный вкус олад...</td>\n",
              "      <td>предлагаю попробовать интересный вкус оладушек...</td>\n",
              "    </tr>\n",
              "  </tbody>\n",
              "</table>\n",
              "</div>"
            ],
            "text/plain": [
              "                                                url  \\\n",
              "1139    https://www.povarenok.ru/recipes/show/6443/   \n",
              "2506   https://www.povarenok.ru/recipes/show/57827/   \n",
              "2830  https://www.povarenok.ru/recipes/show/161557/   \n",
              "1846  https://www.povarenok.ru/recipes/show/138148/   \n",
              "1595  https://www.povarenok.ru/recipes/show/109738/   \n",
              "\n",
              "                            name  \\\n",
              "1139              Куриные оладьи   \n",
              "2506       Нежные куриные оладьи   \n",
              "2830            Оладьи из печени   \n",
              "1846             Оладьи с изюмом   \n",
              "1595  Оладьи из кабачков и киноа   \n",
              "\n",
              "                                            ingredients  \\\n",
              "1139  {'Грудка куриная': None, 'Лук репчатый': '2 шт...   \n",
              "2506  {'Филе куриное': '500 г', 'Сыр плавленый': '2 ...   \n",
              "2830  {'Печень говяжья': '1000 г', 'Лук репчатый': '...   \n",
              "1846  {'Кефир': '0.5 л', 'Яйцо куриное': '1 шт', 'Со...   \n",
              "1595  {'Киноа': '100 г', 'Вода': '200 мл', 'Кабачок'...   \n",
              "\n",
              "                                            description  \\\n",
              "1139  на скорую руку за фото к рецепту спасибо людми...   \n",
              "2506   нежные сочные оладьи и очень очень очень вкусные   \n",
              "2830  31 декабря рабочий день  времени на подготовку...   \n",
              "1846       вкусные домашние оладушки с изюмомугощайтесь   \n",
              "1595  предлагаю вам попробовать интересный вкус олад...   \n",
              "\n",
              "                               description_no_stopwords  \n",
              "1139     скорую руку фото рецепту спасибо людмиле сурик  \n",
              "2506     нежные сочные оладьи очень очень очень вкусные  \n",
              "2830  31 декабря рабочий день времени подготовку пра...  \n",
              "1846         вкусные домашние оладушки изюмомугощайтесь  \n",
              "1595  предлагаю попробовать интересный вкус оладушек...  "
            ]
          },
          "execution_count": 196,
          "metadata": {},
          "output_type": "execute_result"
        }
      ],
      "source": [
        "sample_5_olad"
      ]
    },
    {
      "cell_type": "code",
      "execution_count": null,
      "metadata": {
        "id": "Yd1oNv2mQUgT",
        "outputId": "e1728e65-f2e0-4cbc-fd5c-db15a8fdfabd"
      },
      "outputs": [
        {
          "name": "stdout",
          "output_type": "stream",
          "text": [
            "['предлагаю вам свою интерпретацию оладьи из кабачков лето с секретомкабачок сезонный овощ к тому же очень доступныйа в этом году слава богу у нас в украине хороший урожай овощей и зеленио секрете читайте пожалуйста в рецепте']\n",
            "['предлагаю вам попробовать интересный вкус оладушек из кабачков и киноа сочетание очень интересное а главное вкусно приглашаю вас угоститься']\n"
          ]
        }
      ],
      "source": [
        "print(sample_5_olad[sample_5_olad['name'] == 'Оладьи кабачковые с секретом']['description'].values)\n",
        "print(sample_5_olad[sample_5_olad['name'] == 'Оладьи из кабачков и киноа']['description'].values)"
      ]
    },
    {
      "cell_type": "code",
      "execution_count": null,
      "metadata": {
        "id": "s00i1ZsbQUgU"
      },
      "outputs": [],
      "source": []
    }
  ],
  "metadata": {
    "kernelspec": {
      "display_name": "Python 3 (ipykernel)",
      "language": "python",
      "name": "python3"
    },
    "language_info": {
      "codemirror_mode": {
        "name": "ipython",
        "version": 3
      },
      "file_extension": ".py",
      "mimetype": "text/x-python",
      "name": "python",
      "nbconvert_exporter": "python",
      "pygments_lexer": "ipython3",
      "version": "3.8.15"
    },
    "colab": {
      "provenance": []
    }
  },
  "nbformat": 4,
  "nbformat_minor": 0
}