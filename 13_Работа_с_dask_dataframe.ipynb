{
  "cells": [
    {
      "cell_type": "markdown",
      "metadata": {
        "id": "aPBs7D90ScoX"
      },
      "source": [
        "# Dask DataFrame"
      ]
    },
    {
      "cell_type": "markdown",
      "metadata": {
        "id": "xZ8-gqxFScob"
      },
      "source": [
        "Материалы:\n",
        "* Макрушин С.В. Лекция 13: Dask DataFrame\n",
        "* https://docs.dask.org/en/latest/dataframe.html\n",
        "* JESSE C. DANIEL. Data Science with Python and Dask."
      ]
    },
    {
      "cell_type": "markdown",
      "metadata": {
        "id": "92-WDlwEScod"
      },
      "source": [
        "## Задачи для совместного разбора"
      ]
    },
    {
      "cell_type": "markdown",
      "metadata": {
        "id": "X-Gro-axScoe"
      },
      "source": [
        "1. Считать данные из файлов в каталоге `accounts`. Содержат ли какие-либо из столбцов пропуски?"
      ]
    },
    {
      "cell_type": "code",
      "execution_count": null,
      "metadata": {
        "id": "w7oh0gD5Scog"
      },
      "outputs": [],
      "source": [
        "import pandas as pd\n",
        "import numpy as np\n",
        "import operator\n",
        "import os\n",
        "import dask\n",
        "import dask.dataframe as dd"
      ]
    },
    {
      "cell_type": "code",
      "execution_count": null,
      "metadata": {
        "id": "6G66Kh-oScoi"
      },
      "outputs": [],
      "source": [
        "df = dd.read_csv('accounts/*.csv', dtype={'amount': 'float64'})"
      ]
    },
    {
      "cell_type": "code",
      "execution_count": null,
      "metadata": {
        "id": "I1t2ni9_Scoi",
        "outputId": "e134824f-9f5e-4c97-9edb-f4e02d02c3ae"
      },
      "outputs": [
        {
          "data": {
            "text/html": [
              "<div>\n",
              "<style scoped>\n",
              "    .dataframe tbody tr th:only-of-type {\n",
              "        vertical-align: middle;\n",
              "    }\n",
              "\n",
              "    .dataframe tbody tr th {\n",
              "        vertical-align: top;\n",
              "    }\n",
              "\n",
              "    .dataframe thead th {\n",
              "        text-align: right;\n",
              "    }\n",
              "</style>\n",
              "<table border=\"1\" class=\"dataframe\">\n",
              "  <thead>\n",
              "    <tr style=\"text-align: right;\">\n",
              "      <th></th>\n",
              "      <th>id</th>\n",
              "      <th>names</th>\n",
              "      <th>amount</th>\n",
              "    </tr>\n",
              "  </thead>\n",
              "  <tbody>\n",
              "    <tr>\n",
              "      <th>0</th>\n",
              "      <td>39</td>\n",
              "      <td>Victor</td>\n",
              "      <td>205.0</td>\n",
              "    </tr>\n",
              "    <tr>\n",
              "      <th>1</th>\n",
              "      <td>289</td>\n",
              "      <td>Hannah</td>\n",
              "      <td>87.0</td>\n",
              "    </tr>\n",
              "    <tr>\n",
              "      <th>2</th>\n",
              "      <td>234</td>\n",
              "      <td>Victor</td>\n",
              "      <td>1820.0</td>\n",
              "    </tr>\n",
              "    <tr>\n",
              "      <th>3</th>\n",
              "      <td>155</td>\n",
              "      <td>Ray</td>\n",
              "      <td>-600.0</td>\n",
              "    </tr>\n",
              "    <tr>\n",
              "      <th>4</th>\n",
              "      <td>266</td>\n",
              "      <td>Ray</td>\n",
              "      <td>572.0</td>\n",
              "    </tr>\n",
              "    <tr>\n",
              "      <th>...</th>\n",
              "      <td>...</td>\n",
              "      <td>...</td>\n",
              "      <td>...</td>\n",
              "    </tr>\n",
              "    <tr>\n",
              "      <th>999995</th>\n",
              "      <td>270</td>\n",
              "      <td>Edith</td>\n",
              "      <td>810.0</td>\n",
              "    </tr>\n",
              "    <tr>\n",
              "      <th>999996</th>\n",
              "      <td>249</td>\n",
              "      <td>Norbert</td>\n",
              "      <td>132.0</td>\n",
              "    </tr>\n",
              "    <tr>\n",
              "      <th>999997</th>\n",
              "      <td>308</td>\n",
              "      <td>Kevin</td>\n",
              "      <td>20.0</td>\n",
              "    </tr>\n",
              "    <tr>\n",
              "      <th>999998</th>\n",
              "      <td>302</td>\n",
              "      <td>Tim</td>\n",
              "      <td>33.0</td>\n",
              "    </tr>\n",
              "    <tr>\n",
              "      <th>999999</th>\n",
              "      <td>288</td>\n",
              "      <td>Michael</td>\n",
              "      <td>2465.0</td>\n",
              "    </tr>\n",
              "  </tbody>\n",
              "</table>\n",
              "<p>3000000 rows × 3 columns</p>\n",
              "</div>"
            ],
            "text/plain": [
              "         id    names  amount\n",
              "0        39   Victor   205.0\n",
              "1       289   Hannah    87.0\n",
              "2       234   Victor  1820.0\n",
              "3       155      Ray  -600.0\n",
              "4       266      Ray   572.0\n",
              "...     ...      ...     ...\n",
              "999995  270    Edith   810.0\n",
              "999996  249  Norbert   132.0\n",
              "999997  308    Kevin    20.0\n",
              "999998  302      Tim    33.0\n",
              "999999  288  Michael  2465.0\n",
              "\n",
              "[3000000 rows x 3 columns]"
            ]
          },
          "execution_count": 3,
          "metadata": {},
          "output_type": "execute_result"
        }
      ],
      "source": [
        "df.compute()"
      ]
    },
    {
      "cell_type": "markdown",
      "metadata": {
        "id": "TwX9pukxScoj"
      },
      "source": [
        "2. Подсчитать количество раз, которое то или иное имя встретилось в выборке. Вывести самое часто встречающееся имя."
      ]
    },
    {
      "cell_type": "code",
      "execution_count": null,
      "metadata": {
        "id": "L28DyqMoScok",
        "outputId": "f4451a06-ffe2-42c3-b821-573126f79cce"
      },
      "outputs": [
        {
          "data": {
            "text/plain": [
              "Norbert     188147\n",
              "Alice       185892\n",
              "George      183249\n",
              "Tim         162432\n",
              "Bob         157065\n",
              "Michael     148372\n",
              "Ingrid      132067\n",
              "Oliver      121907\n",
              "Quinn       118071\n",
              "Wendy       110657\n",
              "Charlie     109236\n",
              "Ursula      108745\n",
              "Hannah      108632\n",
              "Ray         108610\n",
              "Sarah       104781\n",
              "Victor      102656\n",
              "Frank        99984\n",
              "Laura        97216\n",
              "Jerry        96378\n",
              "Xavier       94445\n",
              "Edith        89991\n",
              "Zelda        89047\n",
              "Kevin        84784\n",
              "Dan          73293\n",
              "Patricia     62881\n",
              "Yvonne       61462\n",
              "Name: names, dtype: int64"
            ]
          },
          "execution_count": 6,
          "metadata": {},
          "output_type": "execute_result"
        }
      ],
      "source": [
        "name_count = df['names'].value_counts().compute()\n",
        "name_count"
      ]
    },
    {
      "cell_type": "markdown",
      "metadata": {
        "id": "MjIEwiedScok"
      },
      "source": [
        "3. Создать новую колонку, которая является результатом от деления значения `amount` нацело на 100, если `amount` > 100, и нулём в противном случае."
      ]
    },
    {
      "cell_type": "code",
      "execution_count": null,
      "metadata": {
        "id": "bqg21qCeScol",
        "outputId": "a3727a84-397b-4ffd-9a95-4a762ec1309a"
      },
      "outputs": [
        {
          "data": {
            "text/html": [
              "<div>\n",
              "<style scoped>\n",
              "    .dataframe tbody tr th:only-of-type {\n",
              "        vertical-align: middle;\n",
              "    }\n",
              "\n",
              "    .dataframe tbody tr th {\n",
              "        vertical-align: top;\n",
              "    }\n",
              "\n",
              "    .dataframe thead th {\n",
              "        text-align: right;\n",
              "    }\n",
              "</style>\n",
              "<table border=\"1\" class=\"dataframe\">\n",
              "  <thead>\n",
              "    <tr style=\"text-align: right;\">\n",
              "      <th></th>\n",
              "      <th>id</th>\n",
              "      <th>names</th>\n",
              "      <th>amount</th>\n",
              "      <th>new_col</th>\n",
              "    </tr>\n",
              "  </thead>\n",
              "  <tbody>\n",
              "    <tr>\n",
              "      <th>0</th>\n",
              "      <td>39</td>\n",
              "      <td>Victor</td>\n",
              "      <td>205.0</td>\n",
              "      <td>2.0</td>\n",
              "    </tr>\n",
              "    <tr>\n",
              "      <th>1</th>\n",
              "      <td>289</td>\n",
              "      <td>Hannah</td>\n",
              "      <td>87.0</td>\n",
              "      <td>0.0</td>\n",
              "    </tr>\n",
              "    <tr>\n",
              "      <th>2</th>\n",
              "      <td>234</td>\n",
              "      <td>Victor</td>\n",
              "      <td>1820.0</td>\n",
              "      <td>18.0</td>\n",
              "    </tr>\n",
              "    <tr>\n",
              "      <th>3</th>\n",
              "      <td>155</td>\n",
              "      <td>Ray</td>\n",
              "      <td>-600.0</td>\n",
              "      <td>0.0</td>\n",
              "    </tr>\n",
              "    <tr>\n",
              "      <th>4</th>\n",
              "      <td>266</td>\n",
              "      <td>Ray</td>\n",
              "      <td>572.0</td>\n",
              "      <td>5.0</td>\n",
              "    </tr>\n",
              "    <tr>\n",
              "      <th>...</th>\n",
              "      <td>...</td>\n",
              "      <td>...</td>\n",
              "      <td>...</td>\n",
              "      <td>...</td>\n",
              "    </tr>\n",
              "    <tr>\n",
              "      <th>999995</th>\n",
              "      <td>270</td>\n",
              "      <td>Edith</td>\n",
              "      <td>810.0</td>\n",
              "      <td>8.0</td>\n",
              "    </tr>\n",
              "    <tr>\n",
              "      <th>999996</th>\n",
              "      <td>249</td>\n",
              "      <td>Norbert</td>\n",
              "      <td>132.0</td>\n",
              "      <td>1.0</td>\n",
              "    </tr>\n",
              "    <tr>\n",
              "      <th>999997</th>\n",
              "      <td>308</td>\n",
              "      <td>Kevin</td>\n",
              "      <td>20.0</td>\n",
              "      <td>0.0</td>\n",
              "    </tr>\n",
              "    <tr>\n",
              "      <th>999998</th>\n",
              "      <td>302</td>\n",
              "      <td>Tim</td>\n",
              "      <td>33.0</td>\n",
              "      <td>0.0</td>\n",
              "    </tr>\n",
              "    <tr>\n",
              "      <th>999999</th>\n",
              "      <td>288</td>\n",
              "      <td>Michael</td>\n",
              "      <td>2465.0</td>\n",
              "      <td>24.0</td>\n",
              "    </tr>\n",
              "  </tbody>\n",
              "</table>\n",
              "<p>3000000 rows × 4 columns</p>\n",
              "</div>"
            ],
            "text/plain": [
              "         id    names  amount  new_col\n",
              "0        39   Victor   205.0      2.0\n",
              "1       289   Hannah    87.0      0.0\n",
              "2       234   Victor  1820.0     18.0\n",
              "3       155      Ray  -600.0      0.0\n",
              "4       266      Ray   572.0      5.0\n",
              "...     ...      ...     ...      ...\n",
              "999995  270    Edith   810.0      8.0\n",
              "999996  249  Norbert   132.0      1.0\n",
              "999997  308    Kevin    20.0      0.0\n",
              "999998  302      Tim    33.0      0.0\n",
              "999999  288  Michael  2465.0     24.0\n",
              "\n",
              "[3000000 rows x 4 columns]"
            ]
          },
          "execution_count": 7,
          "metadata": {},
          "output_type": "execute_result"
        }
      ],
      "source": [
        "def divide_by_100(x):\n",
        "    if x > 100:\n",
        "        return x // 100\n",
        "    else:\n",
        "        return 0\n",
        "\n",
        "#meta самостоятельно указывает тип данных для новой колонки\n",
        "df['new_col'] = df['amount'].apply(divide_by_100, meta=('amount', 'int64'))\n",
        "df.compute()"
      ]
    },
    {
      "cell_type": "markdown",
      "metadata": {
        "id": "ftDHGUYUScol"
      },
      "source": [
        "## Лабораторная работа 13"
      ]
    },
    {
      "cell_type": "code",
      "execution_count": null,
      "metadata": {
        "id": "dB-XUmESScom"
      },
      "outputs": [],
      "source": [
        "import dask.dataframe as dd\n",
        "import pandas as pd\n",
        "import dask.bag as db\n",
        "import json\n",
        "import dask"
      ]
    },
    {
      "cell_type": "markdown",
      "metadata": {
        "id": "ZSBb0uBVScom"
      },
      "source": [
        "1. В архиве `recipes_full.zip` находятся файлы, содержащие информацию об рецептах блюд. Загрузите данные из файлов этого архива в виде `dd.DataFrame` с названием `recipes`. Укажите, что в столбце `submitted` содержатся даты."
      ]
    },
    {
      "cell_type": "code",
      "execution_count": null,
      "metadata": {
        "id": "Zbmk56_UScom",
        "outputId": "e3c690d1-e93d-4c1b-92c6-fa4e376c1b57"
      },
      "outputs": [
        {
          "data": {
            "text/html": [
              "<div>\n",
              "<style scoped>\n",
              "    .dataframe tbody tr th:only-of-type {\n",
              "        vertical-align: middle;\n",
              "    }\n",
              "\n",
              "    .dataframe tbody tr th {\n",
              "        vertical-align: top;\n",
              "    }\n",
              "\n",
              "    .dataframe thead th {\n",
              "        text-align: right;\n",
              "    }\n",
              "</style>\n",
              "<table border=\"1\" class=\"dataframe\">\n",
              "  <thead>\n",
              "    <tr style=\"text-align: right;\">\n",
              "      <th></th>\n",
              "      <th>id</th>\n",
              "      <th>name</th>\n",
              "      <th>minutes</th>\n",
              "      <th>contributor_id</th>\n",
              "      <th>submitted</th>\n",
              "      <th>n_steps</th>\n",
              "      <th>description</th>\n",
              "      <th>n_ingredients</th>\n",
              "    </tr>\n",
              "  </thead>\n",
              "  <tbody>\n",
              "    <tr>\n",
              "      <th>0</th>\n",
              "      <td>683970</td>\n",
              "      <td>vant ivoire mickies nothing</td>\n",
              "      <td>33.0</td>\n",
              "      <td>803776</td>\n",
              "      <td>2019-08-22</td>\n",
              "      <td>4.0</td>\n",
              "      <td>pat and gina neely and their family own and op...</td>\n",
              "      <td>9</td>\n",
              "    </tr>\n",
              "    <tr>\n",
              "      <th>1</th>\n",
              "      <td>1089012</td>\n",
              "      <td>kremsils mariposa baccala cookies class borage...</td>\n",
              "      <td>23.0</td>\n",
              "      <td>51579</td>\n",
              "      <td>2013-03-02</td>\n",
              "      <td>1.0</td>\n",
              "      <td>a light, tasty and easy to put together chicke...</td>\n",
              "      <td>5</td>\n",
              "    </tr>\n",
              "    <tr>\n",
              "      <th>2</th>\n",
              "      <td>1428572</td>\n",
              "      <td>tania lander</td>\n",
              "      <td>0.0</td>\n",
              "      <td>68884</td>\n",
              "      <td>1980-11-09</td>\n",
              "      <td>1.0</td>\n",
              "      <td>a delicious melt in your mouth appetizer. for ...</td>\n",
              "      <td>5</td>\n",
              "    </tr>\n",
              "    <tr>\n",
              "      <th>3</th>\n",
              "      <td>1400250</td>\n",
              "      <td>heloise milli asher doogh zojirushi</td>\n",
              "      <td>24.0</td>\n",
              "      <td>678862</td>\n",
              "      <td>2018-04-29</td>\n",
              "      <td>3.0</td>\n",
              "      <td>delicious cream cheese and peach filled cresce...</td>\n",
              "      <td>1</td>\n",
              "    </tr>\n",
              "    <tr>\n",
              "      <th>4</th>\n",
              "      <td>387709</td>\n",
              "      <td>nutty chocolate chunk cookies</td>\n",
              "      <td>47.0</td>\n",
              "      <td>489552</td>\n",
              "      <td>2009-08-31</td>\n",
              "      <td>8.0</td>\n",
              "      <td>everyone loves these buttery cookies chock ful...</td>\n",
              "      <td>10</td>\n",
              "    </tr>\n",
              "    <tr>\n",
              "      <th>...</th>\n",
              "      <td>...</td>\n",
              "      <td>...</td>\n",
              "      <td>...</td>\n",
              "      <td>...</td>\n",
              "      <td>...</td>\n",
              "      <td>...</td>\n",
              "      <td>...</td>\n",
              "      <td>...</td>\n",
              "    </tr>\n",
              "    <tr>\n",
              "      <th>278949</th>\n",
              "      <td>1029131</td>\n",
              "      <td>tuti waffle snackies steakhouse</td>\n",
              "      <td>19.0</td>\n",
              "      <td>171345</td>\n",
              "      <td>1973-10-18</td>\n",
              "      <td>4.0</td>\n",
              "      <td>according to a providence journal article, ama...</td>\n",
              "      <td>4</td>\n",
              "    </tr>\n",
              "    <tr>\n",
              "      <th>278950</th>\n",
              "      <td>1700703</td>\n",
              "      <td>noelias cheats crocante fleisch zitumbuwa</td>\n",
              "      <td>1.0</td>\n",
              "      <td>30228</td>\n",
              "      <td>2007-07-01</td>\n",
              "      <td>6.0</td>\n",
              "      <td>if possible sauté the onions and garlic in abo...</td>\n",
              "      <td>1</td>\n",
              "    </tr>\n",
              "    <tr>\n",
              "      <th>278951</th>\n",
              "      <td>1910650</td>\n",
              "      <td>rubbed restuffed pelmeni bedouin flavourful</td>\n",
              "      <td>60.0</td>\n",
              "      <td>591905</td>\n",
              "      <td>2009-09-26</td>\n",
              "      <td>3.0</td>\n",
              "      <td>another great recipe to add to the growing swe...</td>\n",
              "      <td>2</td>\n",
              "    </tr>\n",
              "    <tr>\n",
              "      <th>278952</th>\n",
              "      <td>713836</td>\n",
              "      <td>stems polpettine peezi</td>\n",
              "      <td>NaN</td>\n",
              "      <td>357389</td>\n",
              "      <td>2003-09-30</td>\n",
              "      <td>4.0</td>\n",
              "      <td>adapted from top secret recipes. love this!</td>\n",
              "      <td>9</td>\n",
              "    </tr>\n",
              "    <tr>\n",
              "      <th>278953</th>\n",
              "      <td>660699</td>\n",
              "      <td>clementines</td>\n",
              "      <td>64.0</td>\n",
              "      <td>29196</td>\n",
              "      <td>1973-06-03</td>\n",
              "      <td>6.0</td>\n",
              "      <td>this would make a great start to your holiday ...</td>\n",
              "      <td>8</td>\n",
              "    </tr>\n",
              "  </tbody>\n",
              "</table>\n",
              "<p>2231637 rows × 8 columns</p>\n",
              "</div>"
            ],
            "text/plain": [
              "             id                                               name  minutes  \\\n",
              "0        683970                        vant ivoire mickies nothing     33.0   \n",
              "1       1089012  kremsils mariposa baccala cookies class borage...     23.0   \n",
              "2       1428572                                       tania lander      0.0   \n",
              "3       1400250                heloise milli asher doogh zojirushi     24.0   \n",
              "4        387709                      nutty chocolate chunk cookies     47.0   \n",
              "...         ...                                                ...      ...   \n",
              "278949  1029131                    tuti waffle snackies steakhouse     19.0   \n",
              "278950  1700703          noelias cheats crocante fleisch zitumbuwa      1.0   \n",
              "278951  1910650        rubbed restuffed pelmeni bedouin flavourful     60.0   \n",
              "278952   713836                             stems polpettine peezi      NaN   \n",
              "278953   660699                                        clementines     64.0   \n",
              "\n",
              "        contributor_id  submitted  n_steps  \\\n",
              "0               803776 2019-08-22      4.0   \n",
              "1                51579 2013-03-02      1.0   \n",
              "2                68884 1980-11-09      1.0   \n",
              "3               678862 2018-04-29      3.0   \n",
              "4               489552 2009-08-31      8.0   \n",
              "...                ...        ...      ...   \n",
              "278949          171345 1973-10-18      4.0   \n",
              "278950           30228 2007-07-01      6.0   \n",
              "278951          591905 2009-09-26      3.0   \n",
              "278952          357389 2003-09-30      4.0   \n",
              "278953           29196 1973-06-03      6.0   \n",
              "\n",
              "                                              description  n_ingredients  \n",
              "0       pat and gina neely and their family own and op...              9  \n",
              "1       a light, tasty and easy to put together chicke...              5  \n",
              "2       a delicious melt in your mouth appetizer. for ...              5  \n",
              "3       delicious cream cheese and peach filled cresce...              1  \n",
              "4       everyone loves these buttery cookies chock ful...             10  \n",
              "...                                                   ...            ...  \n",
              "278949  according to a providence journal article, ama...              4  \n",
              "278950  if possible sauté the onions and garlic in abo...              1  \n",
              "278951  another great recipe to add to the growing swe...              2  \n",
              "278952        adapted from top secret recipes. love this!              9  \n",
              "278953  this would make a great start to your holiday ...              8  \n",
              "\n",
              "[2231637 rows x 8 columns]"
            ]
          },
          "execution_count": 9,
          "metadata": {},
          "output_type": "execute_result"
        }
      ],
      "source": [
        "recipes = dd.read_csv('recipes_full/*.csv', parse_dates=['submitted'], dtype={'minutes': 'float64', 'n_steps': 'float64'})\n",
        "recipes.compute()"
      ]
    },
    {
      "cell_type": "markdown",
      "metadata": {
        "id": "ngRFbFvwScon"
      },
      "source": [
        "2. Выведите метаинформацию о таблице: `npartitions` и типы столбцов."
      ]
    },
    {
      "cell_type": "code",
      "execution_count": null,
      "metadata": {
        "scrolled": true,
        "id": "sQp-4oHFScon",
        "outputId": "f620ec92-3c9e-4b34-9d2b-6dfadd1e4696"
      },
      "outputs": [
        {
          "name": "stdout",
          "output_type": "stream",
          "text": [
            "Количество npartitions:  8\n"
          ]
        },
        {
          "data": {
            "text/plain": [
              "id                         int64\n",
              "name                      object\n",
              "minutes                  float64\n",
              "contributor_id             int64\n",
              "submitted         datetime64[ns]\n",
              "n_steps                  float64\n",
              "description               object\n",
              "n_ingredients              int64\n",
              "dtype: object"
            ]
          },
          "execution_count": 10,
          "metadata": {},
          "output_type": "execute_result"
        }
      ],
      "source": [
        "print(\"Количество npartitions: \", recipes.npartitions)\n",
        "recipes.dtypes"
      ]
    },
    {
      "cell_type": "markdown",
      "metadata": {
        "id": "rMgtZKlDScoo"
      },
      "source": [
        "3. Выведите на экран 5 первых строк таблицы. Выведите на экран 5 последних строк таблицы. В случае сообщения об ошибки объясните причину и исправьте ошибку."
      ]
    },
    {
      "cell_type": "code",
      "execution_count": null,
      "metadata": {
        "id": "XLKGZfGoScoo",
        "outputId": "a4e16752-6dc6-4259-b29b-2f9d46aeb3c4"
      },
      "outputs": [
        {
          "data": {
            "text/html": [
              "<div>\n",
              "<style scoped>\n",
              "    .dataframe tbody tr th:only-of-type {\n",
              "        vertical-align: middle;\n",
              "    }\n",
              "\n",
              "    .dataframe tbody tr th {\n",
              "        vertical-align: top;\n",
              "    }\n",
              "\n",
              "    .dataframe thead th {\n",
              "        text-align: right;\n",
              "    }\n",
              "</style>\n",
              "<table border=\"1\" class=\"dataframe\">\n",
              "  <thead>\n",
              "    <tr style=\"text-align: right;\">\n",
              "      <th></th>\n",
              "      <th>id</th>\n",
              "      <th>name</th>\n",
              "      <th>minutes</th>\n",
              "      <th>contributor_id</th>\n",
              "      <th>submitted</th>\n",
              "      <th>n_steps</th>\n",
              "      <th>description</th>\n",
              "      <th>n_ingredients</th>\n",
              "    </tr>\n",
              "  </thead>\n",
              "  <tbody>\n",
              "    <tr>\n",
              "      <th>0</th>\n",
              "      <td>683970</td>\n",
              "      <td>vant ivoire mickies nothing</td>\n",
              "      <td>33.0</td>\n",
              "      <td>803776</td>\n",
              "      <td>2019-08-22</td>\n",
              "      <td>4.0</td>\n",
              "      <td>pat and gina neely and their family own and op...</td>\n",
              "      <td>9</td>\n",
              "    </tr>\n",
              "    <tr>\n",
              "      <th>1</th>\n",
              "      <td>1089012</td>\n",
              "      <td>kremsils mariposa baccala cookies class borage...</td>\n",
              "      <td>23.0</td>\n",
              "      <td>51579</td>\n",
              "      <td>2013-03-02</td>\n",
              "      <td>1.0</td>\n",
              "      <td>a light, tasty and easy to put together chicke...</td>\n",
              "      <td>5</td>\n",
              "    </tr>\n",
              "    <tr>\n",
              "      <th>2</th>\n",
              "      <td>1428572</td>\n",
              "      <td>tania lander</td>\n",
              "      <td>0.0</td>\n",
              "      <td>68884</td>\n",
              "      <td>1980-11-09</td>\n",
              "      <td>1.0</td>\n",
              "      <td>a delicious melt in your mouth appetizer. for ...</td>\n",
              "      <td>5</td>\n",
              "    </tr>\n",
              "    <tr>\n",
              "      <th>3</th>\n",
              "      <td>1400250</td>\n",
              "      <td>heloise milli asher doogh zojirushi</td>\n",
              "      <td>24.0</td>\n",
              "      <td>678862</td>\n",
              "      <td>2018-04-29</td>\n",
              "      <td>3.0</td>\n",
              "      <td>delicious cream cheese and peach filled cresce...</td>\n",
              "      <td>1</td>\n",
              "    </tr>\n",
              "    <tr>\n",
              "      <th>4</th>\n",
              "      <td>387709</td>\n",
              "      <td>nutty chocolate chunk cookies</td>\n",
              "      <td>47.0</td>\n",
              "      <td>489552</td>\n",
              "      <td>2009-08-31</td>\n",
              "      <td>8.0</td>\n",
              "      <td>everyone loves these buttery cookies chock ful...</td>\n",
              "      <td>10</td>\n",
              "    </tr>\n",
              "  </tbody>\n",
              "</table>\n",
              "</div>"
            ],
            "text/plain": [
              "        id                                               name  minutes  \\\n",
              "0   683970                        vant ivoire mickies nothing     33.0   \n",
              "1  1089012  kremsils mariposa baccala cookies class borage...     23.0   \n",
              "2  1428572                                       tania lander      0.0   \n",
              "3  1400250                heloise milli asher doogh zojirushi     24.0   \n",
              "4   387709                      nutty chocolate chunk cookies     47.0   \n",
              "\n",
              "   contributor_id  submitted  n_steps  \\\n",
              "0          803776 2019-08-22      4.0   \n",
              "1           51579 2013-03-02      1.0   \n",
              "2           68884 1980-11-09      1.0   \n",
              "3          678862 2018-04-29      3.0   \n",
              "4          489552 2009-08-31      8.0   \n",
              "\n",
              "                                         description  n_ingredients  \n",
              "0  pat and gina neely and their family own and op...              9  \n",
              "1  a light, tasty and easy to put together chicke...              5  \n",
              "2  a delicious melt in your mouth appetizer. for ...              5  \n",
              "3  delicious cream cheese and peach filled cresce...              1  \n",
              "4  everyone loves these buttery cookies chock ful...             10  "
            ]
          },
          "execution_count": 11,
          "metadata": {},
          "output_type": "execute_result"
        }
      ],
      "source": [
        "recipes.head(5)"
      ]
    },
    {
      "cell_type": "code",
      "execution_count": null,
      "metadata": {
        "id": "vc3Nz25zScoo",
        "outputId": "edbd88b2-ab85-4e84-cc32-ad323dd5b80d"
      },
      "outputs": [
        {
          "data": {
            "text/html": [
              "<div>\n",
              "<style scoped>\n",
              "    .dataframe tbody tr th:only-of-type {\n",
              "        vertical-align: middle;\n",
              "    }\n",
              "\n",
              "    .dataframe tbody tr th {\n",
              "        vertical-align: top;\n",
              "    }\n",
              "\n",
              "    .dataframe thead th {\n",
              "        text-align: right;\n",
              "    }\n",
              "</style>\n",
              "<table border=\"1\" class=\"dataframe\">\n",
              "  <thead>\n",
              "    <tr style=\"text-align: right;\">\n",
              "      <th></th>\n",
              "      <th>id</th>\n",
              "      <th>name</th>\n",
              "      <th>minutes</th>\n",
              "      <th>contributor_id</th>\n",
              "      <th>submitted</th>\n",
              "      <th>n_steps</th>\n",
              "      <th>description</th>\n",
              "      <th>n_ingredients</th>\n",
              "    </tr>\n",
              "  </thead>\n",
              "  <tbody>\n",
              "    <tr>\n",
              "      <th>278949</th>\n",
              "      <td>1029131</td>\n",
              "      <td>tuti waffle snackies steakhouse</td>\n",
              "      <td>19.0</td>\n",
              "      <td>171345</td>\n",
              "      <td>1973-10-18</td>\n",
              "      <td>4.0</td>\n",
              "      <td>according to a providence journal article, ama...</td>\n",
              "      <td>4</td>\n",
              "    </tr>\n",
              "    <tr>\n",
              "      <th>278950</th>\n",
              "      <td>1700703</td>\n",
              "      <td>noelias cheats crocante fleisch zitumbuwa</td>\n",
              "      <td>1.0</td>\n",
              "      <td>30228</td>\n",
              "      <td>2007-07-01</td>\n",
              "      <td>6.0</td>\n",
              "      <td>if possible sauté the onions and garlic in abo...</td>\n",
              "      <td>1</td>\n",
              "    </tr>\n",
              "    <tr>\n",
              "      <th>278951</th>\n",
              "      <td>1910650</td>\n",
              "      <td>rubbed restuffed pelmeni bedouin flavourful</td>\n",
              "      <td>60.0</td>\n",
              "      <td>591905</td>\n",
              "      <td>2009-09-26</td>\n",
              "      <td>3.0</td>\n",
              "      <td>another great recipe to add to the growing swe...</td>\n",
              "      <td>2</td>\n",
              "    </tr>\n",
              "    <tr>\n",
              "      <th>278952</th>\n",
              "      <td>713836</td>\n",
              "      <td>stems polpettine peezi</td>\n",
              "      <td>NaN</td>\n",
              "      <td>357389</td>\n",
              "      <td>2003-09-30</td>\n",
              "      <td>4.0</td>\n",
              "      <td>adapted from top secret recipes. love this!</td>\n",
              "      <td>9</td>\n",
              "    </tr>\n",
              "    <tr>\n",
              "      <th>278953</th>\n",
              "      <td>660699</td>\n",
              "      <td>clementines</td>\n",
              "      <td>64.0</td>\n",
              "      <td>29196</td>\n",
              "      <td>1973-06-03</td>\n",
              "      <td>6.0</td>\n",
              "      <td>this would make a great start to your holiday ...</td>\n",
              "      <td>8</td>\n",
              "    </tr>\n",
              "  </tbody>\n",
              "</table>\n",
              "</div>"
            ],
            "text/plain": [
              "             id                                         name  minutes  \\\n",
              "278949  1029131              tuti waffle snackies steakhouse     19.0   \n",
              "278950  1700703    noelias cheats crocante fleisch zitumbuwa      1.0   \n",
              "278951  1910650  rubbed restuffed pelmeni bedouin flavourful     60.0   \n",
              "278952   713836                       stems polpettine peezi      NaN   \n",
              "278953   660699                                  clementines     64.0   \n",
              "\n",
              "        contributor_id  submitted  n_steps  \\\n",
              "278949          171345 1973-10-18      4.0   \n",
              "278950           30228 2007-07-01      6.0   \n",
              "278951          591905 2009-09-26      3.0   \n",
              "278952          357389 2003-09-30      4.0   \n",
              "278953           29196 1973-06-03      6.0   \n",
              "\n",
              "                                              description  n_ingredients  \n",
              "278949  according to a providence journal article, ama...              4  \n",
              "278950  if possible sauté the onions and garlic in abo...              1  \n",
              "278951  another great recipe to add to the growing swe...              2  \n",
              "278952        adapted from top secret recipes. love this!              9  \n",
              "278953  this would make a great start to your holiday ...              8  "
            ]
          },
          "execution_count": 12,
          "metadata": {},
          "output_type": "execute_result"
        }
      ],
      "source": [
        "recipes.tail(5)"
      ]
    },
    {
      "cell_type": "markdown",
      "metadata": {
        "id": "H32nyjZqScop"
      },
      "source": [
        "4. Посчитайте, сколько строк содержит каждый из блоков"
      ]
    },
    {
      "cell_type": "markdown",
      "metadata": {
        "id": "eK5lq8anScop"
      },
      "source": [
        "map_partitions позволяет применить функцию к каждой партиции Dask DataFrame отдельно. Таким образом, можно выполнять операции на каждом блоке данных параллельно. Функция len принимает объект и возвращает количество элементов в этом объекте."
      ]
    },
    {
      "cell_type": "code",
      "execution_count": null,
      "metadata": {
        "id": "JhcRf4UvScoq",
        "outputId": "dc56f2a9-2da2-42c7-8aaa-db480ef4e96b"
      },
      "outputs": [
        {
          "name": "stdout",
          "output_type": "stream",
          "text": [
            "0    278955\n",
            "1    278955\n",
            "2    278955\n",
            "3    278955\n",
            "4    278955\n",
            "5    278954\n",
            "6    278954\n",
            "7    278954\n",
            "dtype: int64\n"
          ]
        }
      ],
      "source": [
        "nrows = recipes.map_partitions(len).compute()\n",
        "\n",
        "print(nrows)"
      ]
    },
    {
      "cell_type": "markdown",
      "metadata": {
        "id": "vtsnMZFLScoq"
      },
      "source": [
        "5. Найдите максимум в столбце `n_steps`. Визуализируйте граф вычислений для этой задачи. Прокомментируйте логику работы `dask` в этом случае."
      ]
    },
    {
      "cell_type": "code",
      "execution_count": null,
      "metadata": {
        "id": "FEWO-uLTScoq",
        "outputId": "693f9b96-676b-4393-97d6-9714560395cb"
      },
      "outputs": [
        {
          "name": "stdout",
          "output_type": "stream",
          "text": [
            "145.0\n"
          ]
        }
      ],
      "source": [
        "max_n_steps = recipes['n_steps'].max().compute()\n",
        "print(max_n_steps)"
      ]
    },
    {
      "cell_type": "markdown",
      "metadata": {
        "id": "B7lOkI2qScor"
      },
      "source": [
        "Граф вычислений будет состоять из нескольких блоков, представляющих партиции Dask DataFrame, каждый из которых будет вычислять свой максимум. Затем результаты будут объединены в единый результат."
      ]
    },
    {
      "cell_type": "code",
      "execution_count": null,
      "metadata": {
        "id": "TyxOdbxzScor",
        "outputId": "8a832d38-08ab-4f6b-b668-2b99cede7549"
      },
      "outputs": [
        {
          "data": {
            "image/png": "[encoded data removed]",
            "text/plain": [
              "<IPython.core.display.Image object>"
            ]
          },
          "execution_count": 15,
          "metadata": {},
          "output_type": "execute_result"
        }
      ],
      "source": [
        "recipes['n_steps'].max().visualize()"
      ]
    },
    {
      "cell_type": "markdown",
      "metadata": {
        "id": "XSmMDNRqScor"
      },
      "source": [
        "6. Посчитайте количество отзывов с группировкой по месяцам добавления отзыва в базу."
      ]
    },
    {
      "cell_type": "code",
      "execution_count": null,
      "metadata": {
        "id": "2x87V2OvScos"
      },
      "outputs": [],
      "source": [
        "#создаем столбец, на основе которого будем группировать, strftime для форматирования значений даты в строку в формате YYYY-MM\n",
        "recipes['month'] = recipes['submitted'].dt.strftime('%Y-%m')\n",
        "# Группируем по месяцам и считаем количество отзывов\n",
        "count_by_month = recipes.groupby('month')['id'].count().compute()"
      ]
    },
    {
      "cell_type": "code",
      "execution_count": null,
      "metadata": {
        "id": "kSXtY7zpScos",
        "outputId": "19781a79-9d12-4c38-90cc-b6f8e0de014a"
      },
      "outputs": [
        {
          "data": {
            "text/plain": [
              "month\n",
              "1970-01    3306\n",
              "1970-02    2943\n",
              "1970-03    3324\n",
              "1970-04    3245\n",
              "1970-05    3284\n",
              "           ... \n",
              "2021-04    3139\n",
              "2021-05    3223\n",
              "2021-06    3128\n",
              "2021-07    3342\n",
              "2021-08    1195\n",
              "Name: id, Length: 620, dtype: int64"
            ]
          },
          "execution_count": 17,
          "metadata": {},
          "output_type": "execute_result"
        }
      ],
      "source": [
        "count_by_month"
      ]
    },
    {
      "cell_type": "code",
      "execution_count": null,
      "metadata": {
        "id": "L5WFH0jiScot"
      },
      "outputs": [],
      "source": [
        "#создаем столбец, на основе которого будем группировать, strftime для форматирования значений даты в строку в формате MM\n",
        "recipes['month'] = recipes['submitted'].dt.strftime('%m')\n",
        "# Группируем по месяцам и считаем количество отзывов\n",
        "count_by_month = recipes.groupby('month')['id'].count().compute()"
      ]
    },
    {
      "cell_type": "code",
      "execution_count": null,
      "metadata": {
        "id": "i55u_MIpScot",
        "outputId": "9751f318-003a-4da0-c25c-e6e42619afd7"
      },
      "outputs": [
        {
          "data": {
            "text/plain": [
              "month\n",
              "01    193363\n",
              "02    173834\n",
              "03    192389\n",
              "04    186049\n",
              "05    192487\n",
              "06    184205\n",
              "07    189337\n",
              "08    187276\n",
              "09    181081\n",
              "10    187018\n",
              "11    180974\n",
              "12    183624\n",
              "Name: id, dtype: int64"
            ]
          },
          "execution_count": 19,
          "metadata": {},
          "output_type": "execute_result"
        }
      ],
      "source": [
        "count_by_month"
      ]
    },
    {
      "cell_type": "markdown",
      "metadata": {
        "id": "657P8z0yScot"
      },
      "source": [
        "7. Считайте файлы из архива `reviews_full.zip` (__ЛР12__) в виде `dask.bag`. Пользуясь результатом лабораторной работы 12, рассчитайте среднее значение оценок отзывов с группировкой по месяцам. После завершения всех вычислений преобразуйте результат к `pd.Series`."
      ]
    },
    {
      "cell_type": "code",
      "execution_count": null,
      "metadata": {
        "id": "fMX7cRnIScou"
      },
      "outputs": [],
      "source": [
        "import json\n",
        "import glob\n",
        "import re\n",
        "\n",
        "def parse_review_json_with_rating(json_string, include_path):\n",
        "    json_obj = json.loads(json_string)\n",
        "    match = re.search(r'reviews_(\\d+)\\.json', include_path)\n",
        "    if match:\n",
        "        rating = int(match.group(1))\n",
        "        json_obj['rating'] = rating\n",
        "    return json_obj\n"
      ]
    },
    {
      "cell_type": "code",
      "execution_count": null,
      "metadata": {
        "id": "uvQUNzh-Scou",
        "outputId": "dda254fc-0741-42fc-8996-74efe8ec6e11"
      },
      "outputs": [
        {
          "name": "stdout",
          "output_type": "stream",
          "text": [
            "['reviews_full\\\\reviews_0.json', 'reviews_full\\\\reviews_1.json', 'reviews_full\\\\reviews_2.json', 'reviews_full\\\\reviews_3.json', 'reviews_full\\\\reviews_4.json', 'reviews_full\\\\reviews_5.json']\n"
          ]
        }
      ],
      "source": [
        "# Читаем все файлы в список\n",
        "files = glob.glob('reviews_full/reviews_*.json')\n",
        "print(files)\n",
        "# Создаем первый dask.bag\n",
        "b_ratings = db.read_text(files[0]).map(parse_review_json_with_rating, include_path=files[0])\n",
        "\n",
        "#Объединяем остальные dask.bag\n",
        "for file in files[1:]:\n",
        "    cur = db.read_text(file).map(parse_review_json_with_rating, include_path=file)\n",
        "    b_ratings = db.concat([b_ratings, cur])"
      ]
    },
    {
      "cell_type": "code",
      "execution_count": null,
      "metadata": {
        "id": "qnwTPUCWScov",
        "outputId": "bea2b840-0fd0-444e-922f-a98ed8cf809b"
      },
      "outputs": [
        {
          "data": {
            "text/plain": [
              "({'user_id': 452355,\n",
              "  'recipe_id': 292657,\n",
              "  'date': '2016-05-08',\n",
              "  'review': 'WOW!!! This is the best. I have never been able to make homemade enchiladas that taste like the Mexican restaurants. I made this last night for my family and they said they will never have enchiladas at the Mexican Restaurants again. Thanks for sharing.',\n",
              "  'rating': 0},\n",
              " {'user_id': 329304,\n",
              "  'recipe_id': 433404,\n",
              "  'date': '2006-06-14',\n",
              "  'review': 'This was good but the dressing needed something and I found it to be a little too sweet, next time I will experiment with some garlic and herbs and reduce the sugar slightly, thanks for sharing kcdlong!...Kitten',\n",
              "  'rating': 0},\n",
              " {'user_id': 227932,\n",
              "  'recipe_id': 2008187,\n",
              "  'date': '1985-11-19',\n",
              "  'review': 'Very good,it was a hit for my family. I used 6 cloves of garlic and had 1 lb beef and  Johnsonville sausage,1/2 lb hot and  1/2 lb honey garlic( which I wanted to use). That was a perfect combo for us. The sausage gave it nice flavor No guestion , I will be making this often.',\n",
              "  'rating': 0})"
            ]
          },
          "execution_count": 28,
          "metadata": {},
          "output_type": "execute_result"
        }
      ],
      "source": [
        "b_ratings.take(3)"
      ]
    },
    {
      "cell_type": "code",
      "execution_count": null,
      "metadata": {
        "id": "dq1UIf42Scov"
      },
      "outputs": [],
      "source": [
        "def average_by_month(dask_bag):\n",
        "    mas_rating = []\n",
        "    for i in range(1, 13):\n",
        "        mean_rating = dask_bag.filter(lambda rec: int(rec['date'][5:7]) == i).pluck('rating').mean().compute()\n",
        "        mas_rating.append(mean_rating)\n",
        "    return mas_rating"
      ]
    },
    {
      "cell_type": "code",
      "execution_count": null,
      "metadata": {
        "id": "NhGCs73MScow"
      },
      "outputs": [],
      "source": [
        "rating_by_month = average_by_month(b_ratings)"
      ]
    },
    {
      "cell_type": "code",
      "execution_count": null,
      "metadata": {
        "id": "nb0yVpQeScow",
        "outputId": "ea0c2929-26ab-4584-c26b-98f81607583b"
      },
      "outputs": [
        {
          "name": "stdout",
          "output_type": "stream",
          "text": [
            "1 : 4.408552653653274\n",
            "2 : 4.4071352170488645\n",
            "3 : 4.406910862714342\n",
            "4 : 4.4122590698057165\n",
            "5 : 4.41540140444107\n",
            "6 : 4.418419464177926\n",
            "7 : 4.411716955901544\n",
            "8 : 4.410821624883572\n",
            "9 : 4.410660721980786\n",
            "10 : 4.4114520536121296\n",
            "11 : 4.4088292754368075\n",
            "12 : 4.4069079012853605\n"
          ]
        }
      ],
      "source": [
        "for num, rating in enumerate(rating_by_month):\n",
        "    print(num + 1, \":\", rating)"
      ]
    },
    {
      "cell_type": "markdown",
      "metadata": {
        "id": "ubpa4ZmdScox"
      },
      "source": [
        "8. Пользуясь результатами решения задач 6 и 7, создайте `pd.DataFrame`, содержащий два столбца: `mean_rating`, `recipes_count`"
      ]
    },
    {
      "cell_type": "code",
      "execution_count": null,
      "metadata": {
        "id": "GoRcnlvYScox"
      },
      "outputs": [],
      "source": [
        "dataframe = pd.DataFrame({\"mean_rating\": rating_by_month, \"recipes_count\": list(count_by_month), })\n",
        "dataframe.index += 1"
      ]
    },
    {
      "cell_type": "code",
      "execution_count": null,
      "metadata": {
        "id": "c6sUA6xUScoy",
        "outputId": "d6afa6f3-83b3-4ef6-b6f3-e932ec8e6aec"
      },
      "outputs": [
        {
          "data": {
            "text/html": [
              "<div>\n",
              "<style scoped>\n",
              "    .dataframe tbody tr th:only-of-type {\n",
              "        vertical-align: middle;\n",
              "    }\n",
              "\n",
              "    .dataframe tbody tr th {\n",
              "        vertical-align: top;\n",
              "    }\n",
              "\n",
              "    .dataframe thead th {\n",
              "        text-align: right;\n",
              "    }\n",
              "</style>\n",
              "<table border=\"1\" class=\"dataframe\">\n",
              "  <thead>\n",
              "    <tr style=\"text-align: right;\">\n",
              "      <th></th>\n",
              "      <th>mean_rating</th>\n",
              "      <th>recipes_count</th>\n",
              "    </tr>\n",
              "  </thead>\n",
              "  <tbody>\n",
              "    <tr>\n",
              "      <th>1</th>\n",
              "      <td>4.408553</td>\n",
              "      <td>193363</td>\n",
              "    </tr>\n",
              "    <tr>\n",
              "      <th>2</th>\n",
              "      <td>4.407135</td>\n",
              "      <td>173834</td>\n",
              "    </tr>\n",
              "    <tr>\n",
              "      <th>3</th>\n",
              "      <td>4.406911</td>\n",
              "      <td>192389</td>\n",
              "    </tr>\n",
              "    <tr>\n",
              "      <th>4</th>\n",
              "      <td>4.412259</td>\n",
              "      <td>186049</td>\n",
              "    </tr>\n",
              "    <tr>\n",
              "      <th>5</th>\n",
              "      <td>4.415401</td>\n",
              "      <td>192487</td>\n",
              "    </tr>\n",
              "    <tr>\n",
              "      <th>6</th>\n",
              "      <td>4.418419</td>\n",
              "      <td>184205</td>\n",
              "    </tr>\n",
              "    <tr>\n",
              "      <th>7</th>\n",
              "      <td>4.411717</td>\n",
              "      <td>189337</td>\n",
              "    </tr>\n",
              "    <tr>\n",
              "      <th>8</th>\n",
              "      <td>4.410822</td>\n",
              "      <td>187276</td>\n",
              "    </tr>\n",
              "    <tr>\n",
              "      <th>9</th>\n",
              "      <td>4.410661</td>\n",
              "      <td>181081</td>\n",
              "    </tr>\n",
              "    <tr>\n",
              "      <th>10</th>\n",
              "      <td>4.411452</td>\n",
              "      <td>187018</td>\n",
              "    </tr>\n",
              "    <tr>\n",
              "      <th>11</th>\n",
              "      <td>4.408829</td>\n",
              "      <td>180974</td>\n",
              "    </tr>\n",
              "    <tr>\n",
              "      <th>12</th>\n",
              "      <td>4.406908</td>\n",
              "      <td>183624</td>\n",
              "    </tr>\n",
              "  </tbody>\n",
              "</table>\n",
              "</div>"
            ],
            "text/plain": [
              "    mean_rating  recipes_count\n",
              "1      4.408553         193363\n",
              "2      4.407135         173834\n",
              "3      4.406911         192389\n",
              "4      4.412259         186049\n",
              "5      4.415401         192487\n",
              "6      4.418419         184205\n",
              "7      4.411717         189337\n",
              "8      4.410822         187276\n",
              "9      4.410661         181081\n",
              "10     4.411452         187018\n",
              "11     4.408829         180974\n",
              "12     4.406908         183624"
            ]
          },
          "execution_count": 36,
          "metadata": {},
          "output_type": "execute_result"
        }
      ],
      "source": [
        "dataframe"
      ]
    },
    {
      "cell_type": "code",
      "execution_count": null,
      "metadata": {
        "id": "9f1GezH3Scoy"
      },
      "outputs": [],
      "source": []
    }
  ],
  "metadata": {
    "kernelspec": {
      "display_name": "Python 3 (ipykernel)",
      "language": "python",
      "name": "python3"
    },
    "language_info": {
      "codemirror_mode": {
        "name": "ipython",
        "version": 3
      },
      "file_extension": ".py",
      "mimetype": "text/x-python",
      "name": "python",
      "nbconvert_exporter": "python",
      "pygments_lexer": "ipython3",
      "version": "3.8.15"
    },
    "colab": {
      "provenance": []
    }
  },
  "nbformat": 4,
  "nbformat_minor": 0
}