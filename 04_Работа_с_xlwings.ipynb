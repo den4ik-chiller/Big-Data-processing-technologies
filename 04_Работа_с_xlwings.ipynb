{
  "cells": [
    {
      "cell_type": "markdown",
      "metadata": {
        "id": "soZ3kHTmOzK-"
      },
      "source": [
        "# Работа с Excel"
      ]
    },
    {
      "cell_type": "markdown",
      "metadata": {
        "id": "FtmnmfDEOzLC"
      },
      "source": [
        "Материалы:\n",
        "* Макрушин С.В. Лекция 7: Работа с Excel\n",
        "* https://docs.xlwings.org/en/stable/quickstart.html\n",
        "* https://nbviewer.jupyter.org/github/pybokeh/jupyter_notebooks/blob/master/xlwings/Excel_Formatting.ipynb#search_text\n"
      ]
    },
    {
      "cell_type": "markdown",
      "metadata": {
        "id": "4jOWNDdrOzLE"
      },
      "source": [
        "## Задачи для совместного разбора"
      ]
    },
    {
      "cell_type": "markdown",
      "metadata": {
        "id": "xvIE_UlFOzLF"
      },
      "source": [
        "1. На листе \"Рецептура\" файла `себестоимостьА_в1.xlsx` для области \"Пшеничный хлеб\" рассчитать себестоимость всех видов продукции."
      ]
    },
    {
      "cell_type": "code",
      "execution_count": null,
      "metadata": {
        "id": "JV_XzoAmOzLG",
        "outputId": "6effcdfc-33f5-49a0-a5e4-14adcabe5deb"
      },
      "outputs": [
        {
          "name": "stdout",
          "output_type": "stream",
          "text": [
            "[1.0, 'Хлеб Венгерский', 0.4, 35.0, 50.0, 0.2, 0.4, 0.02, 0.02, 0.01, 0.005, 0.1, None, None, None, None, None, 0.3]\n",
            "[2.0, 'Хлеб \"Барбари\"', 0.25, 28.0, 40.0, 0.07, 0.25, 0.01, 0.06, 0.015, None, 0.06, 0.05, None, None, None, None, 0.2]\n",
            "[3.0, 'Багет парижский', 0.25, 35.0, 50.0, 0.12, 0.22, 0.005, None, 0.009, 0.005, None, 0.05, 0.03, None, None, None, 0.3]\n",
            "[4.0, 'Чиабатта', 0.25, 35.0, 50.0, 0.12, 0.23, 0.01, None, 0.015, None, None, None, 0.05, None, None, None, 0.2]\n"
          ]
        }
      ],
      "source": [
        "import xlwings as xw\n",
        "wb = xw.Book('себестоимостьА_в1.xlsx')\n",
        "sht = wb.sheets['Рецептура']\n",
        "veng = sht.range('G7').expand('right').value\n",
        "price = 0\n",
        "resource_price = sht.range('G14').expand('right').value\n",
        "for i in range(len(veng)):\n",
        "    price += veng[i] * resource_price[i]\n",
        "price\n",
        "recipe1 = sht.range('рцп_пшеничный_хлеб').value[3:7]\n",
        "for i in range(len(recipe1)):\n",
        "    res = recipe1[i]\n",
        "    summ = 0\n",
        "    print(res)\n",
        "\n",
        ""
      ]
    },
    {
      "cell_type": "markdown",
      "metadata": {
        "id": "9z9TfN_JOzLK"
      },
      "source": [
        "2. Результаты расчетов 1.1 сохранить в отдельном столбце области \"Пшеничный хлеб\""
      ]
    },
    {
      "cell_type": "markdown",
      "metadata": {
        "id": "8Ju_pIrVOzLL"
      },
      "source": [
        "3. Приблизить форматирование столбца, добавленного в задаче 2 к оформлению всей области."
      ]
    },
    {
      "cell_type": "markdown",
      "metadata": {
        "id": "G1xrK4SVOzLL"
      },
      "source": [
        "4. Выполнить 3 с помощью \"протягиваемых\" формул."
      ]
    },
    {
      "cell_type": "markdown",
      "metadata": {
        "id": "OywNkeRgOzLM"
      },
      "source": [
        "## Лабораторная работа 7.1"
      ]
    },
    {
      "cell_type": "markdown",
      "metadata": {
        "id": "4eQx3jtJOzLM"
      },
      "source": [
        "1. Загрузите данные из файлов `reviews_sample.csv` (__ЛР2__) и `recipes_sample.csv` (__ЛР5__) в виде `pd.DataFrame`. Обратите внимание на корректное считывание столбца(ов) с индексами. Оставьте в таблице с рецептами следующие столбцы: `id`, `name`, `minutes`, `submitted`, `description`, `n_ingredients`"
      ]
    },
    {
      "cell_type": "code",
      "execution_count": null,
      "metadata": {
        "id": "5-OYgM_FOzLN",
        "outputId": "fbd6ba96-dfe9-466e-d969-7dd5399aa12b"
      },
      "outputs": [
        {
          "data": {
            "text/html": [
              "<div>\n",
              "<style scoped>\n",
              "    .dataframe tbody tr th:only-of-type {\n",
              "        vertical-align: middle;\n",
              "    }\n",
              "\n",
              "    .dataframe tbody tr th {\n",
              "        vertical-align: top;\n",
              "    }\n",
              "\n",
              "    .dataframe thead th {\n",
              "        text-align: right;\n",
              "    }\n",
              "</style>\n",
              "<table border=\"1\" class=\"dataframe\">\n",
              "  <thead>\n",
              "    <tr style=\"text-align: right;\">\n",
              "      <th></th>\n",
              "      <th>id</th>\n",
              "      <th>name</th>\n",
              "      <th>minutes</th>\n",
              "      <th>submitted</th>\n",
              "      <th>description</th>\n",
              "      <th>n_ingredients</th>\n",
              "    </tr>\n",
              "  </thead>\n",
              "  <tbody>\n",
              "    <tr>\n",
              "      <th>0</th>\n",
              "      <td>44123</td>\n",
              "      <td>george s at the cove  black bean soup</td>\n",
              "      <td>90</td>\n",
              "      <td>2002-10-25</td>\n",
              "      <td>an original recipe created by chef scott meska...</td>\n",
              "      <td>18.0</td>\n",
              "    </tr>\n",
              "    <tr>\n",
              "      <th>1</th>\n",
              "      <td>67664</td>\n",
              "      <td>healthy for them  yogurt popsicles</td>\n",
              "      <td>10</td>\n",
              "      <td>2003-07-26</td>\n",
              "      <td>my children and their friends ask for my homem...</td>\n",
              "      <td>NaN</td>\n",
              "    </tr>\n",
              "    <tr>\n",
              "      <th>2</th>\n",
              "      <td>38798</td>\n",
              "      <td>i can t believe it s spinach</td>\n",
              "      <td>30</td>\n",
              "      <td>2002-08-29</td>\n",
              "      <td>these were so go, it surprised even me.</td>\n",
              "      <td>8.0</td>\n",
              "    </tr>\n",
              "    <tr>\n",
              "      <th>3</th>\n",
              "      <td>35173</td>\n",
              "      <td>italian  gut busters</td>\n",
              "      <td>45</td>\n",
              "      <td>2002-07-27</td>\n",
              "      <td>my sister-in-law made these for us at a family...</td>\n",
              "      <td>NaN</td>\n",
              "    </tr>\n",
              "    <tr>\n",
              "      <th>4</th>\n",
              "      <td>84797</td>\n",
              "      <td>love is in the air  beef fondue   sauces</td>\n",
              "      <td>25</td>\n",
              "      <td>2004-02-23</td>\n",
              "      <td>i think a fondue is a very romantic casual din...</td>\n",
              "      <td>NaN</td>\n",
              "    </tr>\n",
              "    <tr>\n",
              "      <th>...</th>\n",
              "      <td>...</td>\n",
              "      <td>...</td>\n",
              "      <td>...</td>\n",
              "      <td>...</td>\n",
              "      <td>...</td>\n",
              "      <td>...</td>\n",
              "    </tr>\n",
              "    <tr>\n",
              "      <th>29995</th>\n",
              "      <td>267661</td>\n",
              "      <td>zurie s holey rustic olive and cheddar bread</td>\n",
              "      <td>80</td>\n",
              "      <td>2007-11-25</td>\n",
              "      <td>this is based on a french recipe but i changed...</td>\n",
              "      <td>10.0</td>\n",
              "    </tr>\n",
              "    <tr>\n",
              "      <th>29996</th>\n",
              "      <td>386977</td>\n",
              "      <td>zwetschgenkuchen  bavarian plum cake</td>\n",
              "      <td>240</td>\n",
              "      <td>2009-08-24</td>\n",
              "      <td>this is a traditional fresh plum cake, thought...</td>\n",
              "      <td>11.0</td>\n",
              "    </tr>\n",
              "    <tr>\n",
              "      <th>29997</th>\n",
              "      <td>103312</td>\n",
              "      <td>zwiebelkuchen   southwest german onion cake</td>\n",
              "      <td>75</td>\n",
              "      <td>2004-11-03</td>\n",
              "      <td>this is a traditional late summer early fall s...</td>\n",
              "      <td>NaN</td>\n",
              "    </tr>\n",
              "    <tr>\n",
              "      <th>29998</th>\n",
              "      <td>486161</td>\n",
              "      <td>zydeco soup</td>\n",
              "      <td>60</td>\n",
              "      <td>2012-08-29</td>\n",
              "      <td>this is a delicious soup that i originally fou...</td>\n",
              "      <td>NaN</td>\n",
              "    </tr>\n",
              "    <tr>\n",
              "      <th>29999</th>\n",
              "      <td>298512</td>\n",
              "      <td>cookies by design   cookies on a stick</td>\n",
              "      <td>29</td>\n",
              "      <td>2008-04-15</td>\n",
              "      <td>i've heard of the 'cookies by design' company,...</td>\n",
              "      <td>10.0</td>\n",
              "    </tr>\n",
              "  </tbody>\n",
              "</table>\n",
              "<p>30000 rows × 6 columns</p>\n",
              "</div>"
            ],
            "text/plain": [
              "           id                                          name  minutes  \\\n",
              "0       44123         george s at the cove  black bean soup       90   \n",
              "1       67664            healthy for them  yogurt popsicles       10   \n",
              "2       38798                  i can t believe it s spinach       30   \n",
              "3       35173                          italian  gut busters       45   \n",
              "4       84797      love is in the air  beef fondue   sauces       25   \n",
              "...       ...                                           ...      ...   \n",
              "29995  267661  zurie s holey rustic olive and cheddar bread       80   \n",
              "29996  386977          zwetschgenkuchen  bavarian plum cake      240   \n",
              "29997  103312   zwiebelkuchen   southwest german onion cake       75   \n",
              "29998  486161                                   zydeco soup       60   \n",
              "29999  298512        cookies by design   cookies on a stick       29   \n",
              "\n",
              "       submitted                                        description  \\\n",
              "0     2002-10-25  an original recipe created by chef scott meska...   \n",
              "1     2003-07-26  my children and their friends ask for my homem...   \n",
              "2     2002-08-29            these were so go, it surprised even me.   \n",
              "3     2002-07-27  my sister-in-law made these for us at a family...   \n",
              "4     2004-02-23  i think a fondue is a very romantic casual din...   \n",
              "...          ...                                                ...   \n",
              "29995 2007-11-25  this is based on a french recipe but i changed...   \n",
              "29996 2009-08-24  this is a traditional fresh plum cake, thought...   \n",
              "29997 2004-11-03  this is a traditional late summer early fall s...   \n",
              "29998 2012-08-29  this is a delicious soup that i originally fou...   \n",
              "29999 2008-04-15  i've heard of the 'cookies by design' company,...   \n",
              "\n",
              "       n_ingredients  \n",
              "0               18.0  \n",
              "1                NaN  \n",
              "2                8.0  \n",
              "3                NaN  \n",
              "4                NaN  \n",
              "...              ...  \n",
              "29995           10.0  \n",
              "29996           11.0  \n",
              "29997            NaN  \n",
              "29998            NaN  \n",
              "29999           10.0  \n",
              "\n",
              "[30000 rows x 6 columns]"
            ]
          },
          "metadata": {},
          "output_type": "display_data"
        },
        {
          "data": {
            "text/html": [
              "<div>\n",
              "<style scoped>\n",
              "    .dataframe tbody tr th:only-of-type {\n",
              "        vertical-align: middle;\n",
              "    }\n",
              "\n",
              "    .dataframe tbody tr th {\n",
              "        vertical-align: top;\n",
              "    }\n",
              "\n",
              "    .dataframe thead th {\n",
              "        text-align: right;\n",
              "    }\n",
              "</style>\n",
              "<table border=\"1\" class=\"dataframe\">\n",
              "  <thead>\n",
              "    <tr style=\"text-align: right;\">\n",
              "      <th></th>\n",
              "      <th>user_id</th>\n",
              "      <th>recipe_id</th>\n",
              "      <th>date</th>\n",
              "      <th>rating</th>\n",
              "      <th>review</th>\n",
              "    </tr>\n",
              "  </thead>\n",
              "  <tbody>\n",
              "    <tr>\n",
              "      <th>370476</th>\n",
              "      <td>21752</td>\n",
              "      <td>57993</td>\n",
              "      <td>2003-05-01</td>\n",
              "      <td>5</td>\n",
              "      <td>Last week whole sides of frozen salmon fillet ...</td>\n",
              "    </tr>\n",
              "    <tr>\n",
              "      <th>624300</th>\n",
              "      <td>431813</td>\n",
              "      <td>142201</td>\n",
              "      <td>2007-09-16</td>\n",
              "      <td>5</td>\n",
              "      <td>So simple and so tasty!  I used a yellow capsi...</td>\n",
              "    </tr>\n",
              "    <tr>\n",
              "      <th>187037</th>\n",
              "      <td>400708</td>\n",
              "      <td>252013</td>\n",
              "      <td>2008-01-10</td>\n",
              "      <td>4</td>\n",
              "      <td>Very nice breakfast HH, easy to make and yummy...</td>\n",
              "    </tr>\n",
              "    <tr>\n",
              "      <th>706134</th>\n",
              "      <td>2001852463</td>\n",
              "      <td>404716</td>\n",
              "      <td>2017-12-11</td>\n",
              "      <td>5</td>\n",
              "      <td>These are a favorite for the holidays and so e...</td>\n",
              "    </tr>\n",
              "    <tr>\n",
              "      <th>312179</th>\n",
              "      <td>95810</td>\n",
              "      <td>129396</td>\n",
              "      <td>2008-03-14</td>\n",
              "      <td>5</td>\n",
              "      <td>Excellent soup!  The tomato flavor is just gre...</td>\n",
              "    </tr>\n",
              "    <tr>\n",
              "      <th>...</th>\n",
              "      <td>...</td>\n",
              "      <td>...</td>\n",
              "      <td>...</td>\n",
              "      <td>...</td>\n",
              "      <td>...</td>\n",
              "    </tr>\n",
              "    <tr>\n",
              "      <th>1013457</th>\n",
              "      <td>1270706</td>\n",
              "      <td>335534</td>\n",
              "      <td>2009-05-17</td>\n",
              "      <td>4</td>\n",
              "      <td>This recipe was great! I made it last night. I...</td>\n",
              "    </tr>\n",
              "    <tr>\n",
              "      <th>158736</th>\n",
              "      <td>2282344</td>\n",
              "      <td>8701</td>\n",
              "      <td>2012-06-03</td>\n",
              "      <td>0</td>\n",
              "      <td>This recipe is outstanding. I followed the rec...</td>\n",
              "    </tr>\n",
              "    <tr>\n",
              "      <th>1059834</th>\n",
              "      <td>689540</td>\n",
              "      <td>222001</td>\n",
              "      <td>2008-04-08</td>\n",
              "      <td>5</td>\n",
              "      <td>Well, we were not a crowd but it was a fabulou...</td>\n",
              "    </tr>\n",
              "    <tr>\n",
              "      <th>453285</th>\n",
              "      <td>2000242659</td>\n",
              "      <td>354979</td>\n",
              "      <td>2015-06-02</td>\n",
              "      <td>5</td>\n",
              "      <td>I have been a steak eater and dedicated BBQ gr...</td>\n",
              "    </tr>\n",
              "    <tr>\n",
              "      <th>691207</th>\n",
              "      <td>463435</td>\n",
              "      <td>415599</td>\n",
              "      <td>2010-09-30</td>\n",
              "      <td>5</td>\n",
              "      <td>Wonderful and simple to prepare seasoning blen...</td>\n",
              "    </tr>\n",
              "  </tbody>\n",
              "</table>\n",
              "<p>126696 rows × 5 columns</p>\n",
              "</div>"
            ],
            "text/plain": [
              "            user_id  recipe_id       date  rating  \\\n",
              "370476        21752      57993 2003-05-01       5   \n",
              "624300       431813     142201 2007-09-16       5   \n",
              "187037       400708     252013 2008-01-10       4   \n",
              "706134   2001852463     404716 2017-12-11       5   \n",
              "312179        95810     129396 2008-03-14       5   \n",
              "...             ...        ...        ...     ...   \n",
              "1013457     1270706     335534 2009-05-17       4   \n",
              "158736      2282344       8701 2012-06-03       0   \n",
              "1059834      689540     222001 2008-04-08       5   \n",
              "453285   2000242659     354979 2015-06-02       5   \n",
              "691207       463435     415599 2010-09-30       5   \n",
              "\n",
              "                                                    review  \n",
              "370476   Last week whole sides of frozen salmon fillet ...  \n",
              "624300   So simple and so tasty!  I used a yellow capsi...  \n",
              "187037   Very nice breakfast HH, easy to make and yummy...  \n",
              "706134   These are a favorite for the holidays and so e...  \n",
              "312179   Excellent soup!  The tomato flavor is just gre...  \n",
              "...                                                    ...  \n",
              "1013457  This recipe was great! I made it last night. I...  \n",
              "158736   This recipe is outstanding. I followed the rec...  \n",
              "1059834  Well, we were not a crowd but it was a fabulou...  \n",
              "453285   I have been a steak eater and dedicated BBQ gr...  \n",
              "691207   Wonderful and simple to prepare seasoning blen...  \n",
              "\n",
              "[126696 rows x 5 columns]"
            ]
          },
          "metadata": {},
          "output_type": "display_data"
        }
      ],
      "source": [
        "import pandas as pd\n",
        "recipes = pd.read_csv('recipes_sample.csv', delimiter=',', parse_dates=['submitted'])\n",
        "reviews = pd.read_csv('reviews_sample.csv', delimiter=',', parse_dates=['date'], index_col = 0)\n",
        "recipes = recipes[['id', 'name', 'minutes', 'submitted', 'description', 'n_ingredients']]\n",
        "display(recipes, reviews)"
      ]
    },
    {
      "cell_type": "markdown",
      "metadata": {
        "id": "yJv-dFpDOzLN"
      },
      "source": [
        "2. Случайным образом выберите 5% строк из каждой таблицы и сохраните две таблицы на разные листы в один файл `recipes.xlsx`. Дайте листам названия \"Рецепты\" и \"Отзывы\", соответствующие содержанию таблиц."
      ]
    },
    {
      "cell_type": "code",
      "execution_count": null,
      "metadata": {
        "id": "t_9451YUOzLO"
      },
      "outputs": [],
      "source": [
        "random_recipes = recipes.sample(int(0.05 * len(recipes)))\n",
        "random_reviews = reviews.sample(int(0.05 * len(reviews)))\n",
        "with pd.ExcelWriter('recipes.xlsx') as writer:\n",
        "    random_recipes.to_excel(writer, sheet_name='Рецепты')\n",
        "    random_reviews.to_excel(writer, sheet_name='Отзывы')"
      ]
    },
    {
      "cell_type": "markdown",
      "metadata": {
        "id": "TWc8ddfoOzLP"
      },
      "source": [
        "3. Используя `xlwings`, добавьте на лист `Рецепты` столбец `seconds_assign`, показывающий время выполнения рецепта в секундах. Выполните задание при помощи присваивания массива значений диапазону ячеек."
      ]
    },
    {
      "cell_type": "code",
      "execution_count": null,
      "metadata": {
        "id": "GLOdqUArOzLP"
      },
      "outputs": [],
      "source": [
        "import xlwings as xw\n",
        "wb_recipes = xw.Book('recipes.xlsx')\n",
        "rec = wb_recipes.sheets['Рецепты']\n",
        "random_recipes['seconds_assign'] = random_recipes['minutes'] * 60\n",
        "rec.range('H1').options(index=False).value = random_recipes['seconds_assign']"
      ]
    },
    {
      "cell_type": "markdown",
      "metadata": {
        "id": "LAUnF5lhOzLP"
      },
      "source": [
        "4. Используя `xlwings`, добавьте на лист `Рецепты` столбец `seconds_formula`, показывающий время выполнения рецепта в секундах. Выполните задание при помощи формул Excel."
      ]
    },
    {
      "cell_type": "code",
      "execution_count": null,
      "metadata": {
        "id": "V6PmLvY-OzLQ"
      },
      "outputs": [],
      "source": [
        "rec.range('I1').value = 'seconds_formula'\n",
        "formula = '=60 * D2'\n",
        "rec.range('I2:I1501').formula = formula"
      ]
    },
    {
      "cell_type": "markdown",
      "metadata": {
        "id": "1oop6UzAOzLQ"
      },
      "source": [
        "5. Сделайте названия всех добавленных столбцов полужирными и выровняйте по центру ячейки."
      ]
    },
    {
      "cell_type": "code",
      "execution_count": null,
      "metadata": {
        "id": "XrLeSEwFOzLQ"
      },
      "outputs": [],
      "source": [
        "rec.range('B1').expand('right').font.bold = True\n",
        "rec.range('B1').expand('right').api.HorizontalAlignment = xw.constants.HAlign.xlHAlignCenter"
      ]
    },
    {
      "cell_type": "markdown",
      "metadata": {
        "id": "xI97beC2OzLR"
      },
      "source": [
        "6. Раскрасьте ячейки столбца `minutes` в соответствии со следующим правилом: если рецепт выполняется быстрее 5 минут, то цвет - зеленый; от 5 до 10 минут - жёлтый; и больше 10 - красный."
      ]
    },
    {
      "cell_type": "code",
      "execution_count": null,
      "metadata": {
        "id": "ml_bldiwOzLR",
        "outputId": "d97edd05-bd9f-43d7-8760-0553a2ebb9b0"
      },
      "outputs": [
        {
          "ename": "TypeError",
          "evalue": "'<' not supported between instances of 'datetime.datetime' and 'int'",
          "output_type": "error",
          "traceback": [
            "\u001b[1;31m---------------------------------------------------------------------------\u001b[0m",
            "\u001b[1;31mTypeError\u001b[0m                                 Traceback (most recent call last)",
            "\u001b[1;32m<ipython-input-7-04cf0bc3e8e3>\u001b[0m in \u001b[0;36m<module>\u001b[1;34m\u001b[0m\n\u001b[0;32m      1\u001b[0m \u001b[1;32mfor\u001b[0m \u001b[0mi\u001b[0m \u001b[1;32min\u001b[0m \u001b[0mrange\u001b[0m\u001b[1;33m(\u001b[0m\u001b[0mlen\u001b[0m\u001b[1;33m(\u001b[0m\u001b[0mrec\u001b[0m\u001b[1;33m.\u001b[0m\u001b[0mrange\u001b[0m\u001b[1;33m(\u001b[0m\u001b[1;34m'D2'\u001b[0m\u001b[1;33m)\u001b[0m\u001b[1;33m.\u001b[0m\u001b[0mexpand\u001b[0m\u001b[1;33m(\u001b[0m\u001b[1;34m'down'\u001b[0m\u001b[1;33m)\u001b[0m\u001b[1;33m.\u001b[0m\u001b[0mvalue\u001b[0m\u001b[1;33m)\u001b[0m\u001b[1;33m)\u001b[0m\u001b[1;33m:\u001b[0m\u001b[1;33m\u001b[0m\u001b[1;33m\u001b[0m\u001b[0m\n\u001b[1;32m----> 2\u001b[1;33m     \u001b[1;32mif\u001b[0m \u001b[0mxw\u001b[0m\u001b[1;33m.\u001b[0m\u001b[0mRange\u001b[0m\u001b[1;33m(\u001b[0m\u001b[1;33m(\u001b[0m\u001b[0mi\u001b[0m\u001b[1;33m+\u001b[0m\u001b[1;36m2\u001b[0m\u001b[1;33m,\u001b[0m \u001b[1;36m4\u001b[0m\u001b[1;33m)\u001b[0m\u001b[1;33m)\u001b[0m\u001b[1;33m.\u001b[0m\u001b[0mvalue\u001b[0m \u001b[1;33m<\u001b[0m \u001b[1;36m5\u001b[0m\u001b[1;33m:\u001b[0m\u001b[1;33m\u001b[0m\u001b[1;33m\u001b[0m\u001b[0m\n\u001b[0m\u001b[0;32m      3\u001b[0m         \u001b[0mxw\u001b[0m\u001b[1;33m.\u001b[0m\u001b[0mRange\u001b[0m\u001b[1;33m(\u001b[0m\u001b[1;33m(\u001b[0m\u001b[0mi\u001b[0m\u001b[1;33m+\u001b[0m\u001b[1;36m2\u001b[0m\u001b[1;33m,\u001b[0m \u001b[1;36m4\u001b[0m\u001b[1;33m)\u001b[0m\u001b[1;33m)\u001b[0m\u001b[1;33m.\u001b[0m\u001b[0mcolor\u001b[0m \u001b[1;33m=\u001b[0m \u001b[1;33m(\u001b[0m\u001b[1;36m0\u001b[0m\u001b[1;33m,\u001b[0m \u001b[1;36m255\u001b[0m\u001b[1;33m,\u001b[0m \u001b[1;36m0\u001b[0m\u001b[1;33m)\u001b[0m\u001b[1;33m\u001b[0m\u001b[1;33m\u001b[0m\u001b[0m\n\u001b[0;32m      4\u001b[0m     \u001b[1;32mif\u001b[0m \u001b[0mxw\u001b[0m\u001b[1;33m.\u001b[0m\u001b[0mRange\u001b[0m\u001b[1;33m(\u001b[0m\u001b[1;33m(\u001b[0m\u001b[0mi\u001b[0m\u001b[1;33m+\u001b[0m\u001b[1;36m2\u001b[0m\u001b[1;33m,\u001b[0m \u001b[1;36m4\u001b[0m\u001b[1;33m)\u001b[0m\u001b[1;33m)\u001b[0m\u001b[1;33m.\u001b[0m\u001b[0mvalue\u001b[0m \u001b[1;33m>=\u001b[0m \u001b[1;36m5\u001b[0m \u001b[1;32mand\u001b[0m \u001b[0mxw\u001b[0m\u001b[1;33m.\u001b[0m\u001b[0mRange\u001b[0m\u001b[1;33m(\u001b[0m\u001b[1;33m(\u001b[0m\u001b[0mi\u001b[0m\u001b[1;33m+\u001b[0m\u001b[1;36m2\u001b[0m\u001b[1;33m,\u001b[0m \u001b[1;36m4\u001b[0m\u001b[1;33m)\u001b[0m\u001b[1;33m)\u001b[0m\u001b[1;33m.\u001b[0m\u001b[0mvalue\u001b[0m \u001b[1;33m<=\u001b[0m \u001b[1;36m10\u001b[0m\u001b[1;33m:\u001b[0m\u001b[1;33m\u001b[0m\u001b[1;33m\u001b[0m\u001b[0m\n\u001b[0;32m      5\u001b[0m         \u001b[0mxw\u001b[0m\u001b[1;33m.\u001b[0m\u001b[0mRange\u001b[0m\u001b[1;33m(\u001b[0m\u001b[1;33m(\u001b[0m\u001b[0mi\u001b[0m\u001b[1;33m+\u001b[0m\u001b[1;36m2\u001b[0m\u001b[1;33m,\u001b[0m \u001b[1;36m4\u001b[0m\u001b[1;33m)\u001b[0m\u001b[1;33m)\u001b[0m\u001b[1;33m.\u001b[0m\u001b[0mcolor\u001b[0m \u001b[1;33m=\u001b[0m \u001b[1;33m(\u001b[0m\u001b[1;36m255\u001b[0m\u001b[1;33m,\u001b[0m \u001b[1;36m255\u001b[0m\u001b[1;33m,\u001b[0m \u001b[1;36m0\u001b[0m\u001b[1;33m)\u001b[0m\u001b[1;33m\u001b[0m\u001b[1;33m\u001b[0m\u001b[0m\n",
            "\u001b[1;31mTypeError\u001b[0m: '<' not supported between instances of 'datetime.datetime' and 'int'"
          ]
        }
      ],
      "source": [
        "for i in range(len(rec.range('D2').expand('down').value)):\n",
        "    if xw.Range((i+2, 4)).value < 5:\n",
        "        xw.Range((i+2, 4)).color = (0, 255, 0)\n",
        "    if xw.Range((i+2, 4)).value >= 5 and xw.Range((i+2, 4)).value <= 10:\n",
        "        xw.Range((i+2, 4)).color = (255, 255, 0)\n",
        "    if xw.Range((i+2, 4)).value > 10:\n",
        "        xw.Range((i+2, 4)).color = (255, 0, 0)"
      ]
    },
    {
      "cell_type": "markdown",
      "metadata": {
        "id": "0YWiiMf6OzLS"
      },
      "source": [
        "7. Добавьте на лист `Рецепты`  столбец `n_reviews`, содержащий кол-во отзывов для этого рецепта. Выполните задание при помощи формул Excel."
      ]
    },
    {
      "cell_type": "code",
      "execution_count": null,
      "metadata": {
        "id": "jVK7kRnPOzLS"
      },
      "outputs": [],
      "source": [
        "rev = wb_recipes.sheets['Отзывы']\n",
        "rec.range('J1').value = 'n_reviews'\n",
        "formula = '=COUNTIF(Отзывы!C:C, Рецепты!B2)'\n",
        "rec.range('J2:J1501').formula = formula\n",
        "rec.range('B1').expand('right').font.bold = True\n",
        "rec.range('B1').expand('right').api.HorizontalAlignment = xw.constants.HAlign.xlHAlignCenter"
      ]
    },
    {
      "cell_type": "markdown",
      "metadata": {
        "id": "WAyblJGLOzLS"
      },
      "source": [
        "## Лабораторная работа 7.2"
      ]
    },
    {
      "cell_type": "markdown",
      "metadata": {
        "id": "C7ebr-GQOzLT"
      },
      "source": [
        "8. Напишите функцию `validate()`, которая проверяет соответствие всех строк из листа `Отзывы` следующим правилам:\n",
        "    * Рейтинг - это число от 0 до 5 включительно\n",
        "    * Соответствующий рецепт имеется на листе `Рецепты`\n",
        "    \n",
        "В случае несоответствия этим правилам, выделите строку красным цветом"
      ]
    },
    {
      "cell_type": "code",
      "execution_count": null,
      "metadata": {
        "id": "jRB75o3gOzLT"
      },
      "outputs": [],
      "source": [
        "def validate():\n",
        "    for i in range(len(rev.range('E2').expand('down').value)):\n",
        "        if not(xw.Range((i+2, 3)).value in rec.range('B2').expand('down').value and 0 <= xw.Range((i+2, 5)).value <= 5):\n",
        "            rev.range(f'A{i+2}').expand('right').color = (255, 0, 0)\n",
        "\n",
        "validate()\n"
      ]
    },
    {
      "cell_type": "markdown",
      "metadata": {
        "id": "ZFjr2mliOzLT"
      },
      "source": [
        "9. В файле `recipes_model.csv` находится модель данных предметной области \"рецепты\". При помощи пакета `csv` считайте эти данные. При помощи пакета `xlwings` запишите данные на лист `Модель` книги `recipes_model.xlsx`, начиная с ячейки `A2`, не используя циклы. Сделайте скриншот текущего состояния листа и прикрепите в ячейку ноутбука."
      ]
    },
    {
      "cell_type": "code",
      "execution_count": null,
      "metadata": {
        "id": "lQUMC_gpOzLU"
      },
      "outputs": [],
      "source": [
        "import csv\n",
        "import xlwings as xw\n",
        "text = []\n",
        "with open('recipes_model.csv', encoding='utf-8') as f:\n",
        "    reader = csv.reader(f, delimiter='\\t')\n",
        "    for row in reader:\n",
        "        text.append(row)\n",
        "wb = xw.Book()\n",
        "model = wb.sheets[0]\n",
        "model.name = 'Модель'\n",
        "model.range('A2').value = text\n",
        "wb.save('recipes_model.xlsx')"
      ]
    },
    {
      "cell_type": "markdown",
      "metadata": {
        "id": "6MGxyR3SOzLU"
      },
      "source": [
        "![image.png](attachment:image.png)"
      ]
    },
    {
      "cell_type": "markdown",
      "metadata": {
        "id": "Ftkl-XstOzLV"
      },
      "source": [
        "10. При помощи пакета `xlwings` добавьте в столбец J формулу для описания столбца на языке SQL. Формула должна реализовывать следующую логику:\n",
        "\n",
        "    1\\. в начале строки идут значения из столбцов В и C (значение столбца С приведено к верхнему регистру), разделенные пробелом\n",
        "    \n",
        "    2\\. далее идут слова на основе столбца \"Ключ\"\n",
        "        2.1 если в столбце \"Ключ\" указано значение \"PK\", то дальше через пробел идет ключевое слово \"PRIMARY KEY\"\n",
        "        2.2 если в столбце \"Ключ\" указано значение \"FK\", то дальше через пробел идет ключевое слово \"REFERENCES\", затем значения столбцов H и I в формате \"название_таблицы(название_столбца)\"\n",
        "        \n",
        "    3\\. если в столбце \"Обязательно к заполнению\" указано значение \"Y\" и в столбце \"Ключ\" указано не \"PK\", то дальше через пробел идет ключевое слово \"NOT NULL\".\n",
        "\n",
        "Заполните этой формулой необходимое количество строк, используя \"протягивание\". Количество строк для протягивания определите на основе данных.\n",
        "\n",
        "Сделайте скриншот текущего состояния листа и прикрепите в ячейку ноутбука."
      ]
    },
    {
      "cell_type": "code",
      "execution_count": null,
      "metadata": {
        "id": "pygQF-UkOzLV"
      },
      "outputs": [],
      "source": [
        "formula = '=CONCAT(B2,\" \", UPPER(C2), \" \", IF(G2=\"PK\", \"PRIMARY  KEY\", IF(G2=\"FK\", CONCAT(\"REFERENCES\", \" \", H2, \"(\", I2, \")\"),)), \" \", IF(AND(D2=\"Y\", G2<>\"PK\"), \"NOT NULL\",))'\n",
        "model.range('J2:J18').formula = formula"
      ]
    },
    {
      "cell_type": "markdown",
      "metadata": {
        "id": "Jt6-1JoyOzLV"
      },
      "source": [
        "![image.png](attachment:image.png)"
      ]
    },
    {
      "cell_type": "markdown",
      "metadata": {
        "id": "E7cvZq19OzLW"
      },
      "source": [
        "11. При помощи пакета `xlwings` измените стилизацию листа `Модель`.\n",
        "* для заголовков добавьте заливку цвета `00ccff`\n",
        "* примените автоподбор ширины столбца;\n",
        "* сделайте шрифт заголовков полужирным;\n",
        "* добавьте таблице автофильтр.\n",
        "\n",
        "Сделайте скриншот текущего состояния листа и прикрепите в ячейку ноутбука."
      ]
    },
    {
      "cell_type": "code",
      "execution_count": null,
      "metadata": {
        "id": "n6BeFnR8OzLW"
      },
      "outputs": [],
      "source": [
        "title = ['Таблица', 'Атрибут', 'Тип', 'Обязательно к выполнению', 'Название таблицы', 'Название атрибута', 'Ключ', 'Родительское отношение', 'Внешний ключ', 'Формула SQL']\n",
        "model.range('A1').value = title\n",
        "# model.range('A1').expand('right').color = '#00ccff'\n",
        "model.range('A1').expand('right').color = (0, 204, 255)\n",
        "model.autofit('c')\n",
        "model.range(\"A1\").expand(\"right\").font.bold = True\n",
        "model.show_autofilter = True"
      ]
    },
    {
      "cell_type": "markdown",
      "metadata": {
        "id": "OTVhJituOzLW"
      },
      "source": [
        "![image.png](attachment:image.png)"
      ]
    },
    {
      "cell_type": "markdown",
      "metadata": {
        "id": "tXxRsQ2rOzLX"
      },
      "source": [
        "12. Посчитайте количество атрибутов для каждой из сущностей. Создайте лист `Статистика` и запишите в него результат группировки, начиная с ячейки \"А1\". Визуализируйте полученный результат при помощи столбчатой диаграммы. Сохраните полученную визуализацию на лист `Статистика`, начиная с ячейки \"E2\".  Сделайте скриншот листа `Статистика` и прикрепите в ячейку ноутбука.\n",
        "\n",
        "* Вы можете воспользоваться методами для визуализации, которые поставляются вместе с объектами `pandas` (см. https://pandas.pydata.org/docs/reference/api/pandas.DataFrame.plot)"
      ]
    },
    {
      "cell_type": "code",
      "execution_count": null,
      "metadata": {
        "id": "T1e371x8OzLX",
        "outputId": "eaea1a59-45b0-45bd-9654-9eb16d223e01"
      },
      "outputs": [
        {
          "data": {
            "text/html": [
              "<div>\n",
              "<style scoped>\n",
              "    .dataframe tbody tr th:only-of-type {\n",
              "        vertical-align: middle;\n",
              "    }\n",
              "\n",
              "    .dataframe tbody tr th {\n",
              "        vertical-align: top;\n",
              "    }\n",
              "\n",
              "    .dataframe thead th {\n",
              "        text-align: right;\n",
              "    }\n",
              "</style>\n",
              "<table border=\"1\" class=\"dataframe\">\n",
              "  <thead>\n",
              "    <tr style=\"text-align: right;\">\n",
              "      <th></th>\n",
              "      <th>Сущность</th>\n",
              "      <th>Атрибут</th>\n",
              "    </tr>\n",
              "  </thead>\n",
              "  <tbody>\n",
              "    <tr>\n",
              "      <th>0</th>\n",
              "      <td>recipe</td>\n",
              "      <td>name</td>\n",
              "    </tr>\n",
              "    <tr>\n",
              "      <th>1</th>\n",
              "      <td>recipe</td>\n",
              "      <td>id</td>\n",
              "    </tr>\n",
              "    <tr>\n",
              "      <th>2</th>\n",
              "      <td>recipe</td>\n",
              "      <td>minutes</td>\n",
              "    </tr>\n",
              "    <tr>\n",
              "      <th>3</th>\n",
              "      <td>recipe</td>\n",
              "      <td>contributor_id</td>\n",
              "    </tr>\n",
              "    <tr>\n",
              "      <th>4</th>\n",
              "      <td>recipe</td>\n",
              "      <td>submitted</td>\n",
              "    </tr>\n",
              "    <tr>\n",
              "      <th>5</th>\n",
              "      <td>recipe</td>\n",
              "      <td>n_steps</td>\n",
              "    </tr>\n",
              "    <tr>\n",
              "      <th>6</th>\n",
              "      <td>recipe</td>\n",
              "      <td>description</td>\n",
              "    </tr>\n",
              "    <tr>\n",
              "      <th>7</th>\n",
              "      <td>recipe</td>\n",
              "      <td>n_ingredients</td>\n",
              "    </tr>\n",
              "    <tr>\n",
              "      <th>8</th>\n",
              "      <td>review</td>\n",
              "      <td>id</td>\n",
              "    </tr>\n",
              "    <tr>\n",
              "      <th>9</th>\n",
              "      <td>review</td>\n",
              "      <td>user_id</td>\n",
              "    </tr>\n",
              "    <tr>\n",
              "      <th>10</th>\n",
              "      <td>review</td>\n",
              "      <td>recipe_id</td>\n",
              "    </tr>\n",
              "    <tr>\n",
              "      <th>11</th>\n",
              "      <td>review</td>\n",
              "      <td>date</td>\n",
              "    </tr>\n",
              "    <tr>\n",
              "      <th>12</th>\n",
              "      <td>review</td>\n",
              "      <td>rating</td>\n",
              "    </tr>\n",
              "    <tr>\n",
              "      <th>13</th>\n",
              "      <td>review</td>\n",
              "      <td>review</td>\n",
              "    </tr>\n",
              "    <tr>\n",
              "      <th>14</th>\n",
              "      <td>user</td>\n",
              "      <td>id</td>\n",
              "    </tr>\n",
              "    <tr>\n",
              "      <th>15</th>\n",
              "      <td>user</td>\n",
              "      <td>login</td>\n",
              "    </tr>\n",
              "    <tr>\n",
              "      <th>16</th>\n",
              "      <td>user</td>\n",
              "      <td>registered</td>\n",
              "    </tr>\n",
              "  </tbody>\n",
              "</table>\n",
              "</div>"
            ],
            "text/plain": [
              "   Сущность         Атрибут\n",
              "0    recipe            name\n",
              "1    recipe              id\n",
              "2    recipe         minutes\n",
              "3    recipe  contributor_id\n",
              "4    recipe       submitted\n",
              "5    recipe         n_steps\n",
              "6    recipe     description\n",
              "7    recipe   n_ingredients\n",
              "8    review              id\n",
              "9    review         user_id\n",
              "10   review       recipe_id\n",
              "11   review            date\n",
              "12   review          rating\n",
              "13   review          review\n",
              "14     user              id\n",
              "15     user           login\n",
              "16     user      registered"
            ]
          },
          "metadata": {},
          "output_type": "display_data"
        },
        {
          "data": {
            "text/html": [
              "<div>\n",
              "<style scoped>\n",
              "    .dataframe tbody tr th:only-of-type {\n",
              "        vertical-align: middle;\n",
              "    }\n",
              "\n",
              "    .dataframe tbody tr th {\n",
              "        vertical-align: top;\n",
              "    }\n",
              "\n",
              "    .dataframe thead th {\n",
              "        text-align: right;\n",
              "    }\n",
              "</style>\n",
              "<table border=\"1\" class=\"dataframe\">\n",
              "  <thead>\n",
              "    <tr style=\"text-align: right;\">\n",
              "      <th></th>\n",
              "      <th>Атрибут</th>\n",
              "    </tr>\n",
              "    <tr>\n",
              "      <th>Сущность</th>\n",
              "      <th></th>\n",
              "    </tr>\n",
              "  </thead>\n",
              "  <tbody>\n",
              "    <tr>\n",
              "      <th>recipe</th>\n",
              "      <td>8</td>\n",
              "    </tr>\n",
              "    <tr>\n",
              "      <th>review</th>\n",
              "      <td>6</td>\n",
              "    </tr>\n",
              "    <tr>\n",
              "      <th>user</th>\n",
              "      <td>3</td>\n",
              "    </tr>\n",
              "  </tbody>\n",
              "</table>\n",
              "</div>"
            ],
            "text/plain": [
              "          Атрибут\n",
              "Сущность         \n",
              "recipe          8\n",
              "review          6\n",
              "user            3"
            ]
          },
          "metadata": {},
          "output_type": "display_data"
        }
      ],
      "source": [
        "table = model.range('A2').expand('down').value\n",
        "atribut = model.range('B2').expand('down').value\n",
        "dataframe = pd.DataFrame({'Сущность':table, 'Атрибут':atribut})\n",
        "display(dataframe)\n",
        "dataframe = dataframe.groupby('Сущность').count()\n",
        "display(dataframe)\n",
        "# stat = wb.sheets.add('Статистика')"
      ]
    },
    {
      "cell_type": "code",
      "execution_count": null,
      "metadata": {
        "id": "DeKtaxlTOzLY",
        "outputId": "a429228f-321a-4573-801e-e9d4ab67db33"
      },
      "outputs": [
        {
          "data": {
            "image/png": "[encoded data removed]",
            "text/plain": [
              "<Figure size 432x288 with 1 Axes>"
            ]
          },
          "metadata": {
            "needs_background": "light"
          },
          "output_type": "display_data"
        }
      ],
      "source": [
        "stat.range('A1').value = dataframe\n",
        "image = dataframe.plot.bar()"
      ]
    },
    {
      "cell_type": "code",
      "execution_count": null,
      "metadata": {
        "id": "lEJVF6HFOzLY",
        "outputId": "91f90d02-2fba-46f4-d359-16eb3fc57af7"
      },
      "outputs": [
        {
          "data": {
            "text/plain": [
              "<Picture 'Статистика' in <Sheet [recipes_model.xlsx]Статистика>>"
            ]
          },
          "execution_count": 42,
          "metadata": {},
          "output_type": "execute_result"
        }
      ],
      "source": [
        "fig = image.get_figure()\n",
        "stat.pictures.add(fig, name='Статистика', left=stat.range('E2').left, top=stat.range('E2').top)"
      ]
    },
    {
      "cell_type": "markdown",
      "metadata": {
        "id": "1DPD_qKBOzLa"
      },
      "source": [
        "![image.png](attachment:image.png)"
      ]
    },
    {
      "cell_type": "code",
      "execution_count": null,
      "metadata": {
        "id": "eSQ07B7eOzLb"
      },
      "outputs": [],
      "source": []
    }
  ],
  "metadata": {
    "kernelspec": {
      "display_name": "Python 3",
      "language": "python",
      "name": "python3"
    },
    "language_info": {
      "codemirror_mode": {
        "name": "ipython",
        "version": 3
      },
      "file_extension": ".py",
      "mimetype": "text/x-python",
      "name": "python",
      "nbconvert_exporter": "python",
      "pygments_lexer": "ipython3",
      "version": "3.8.8"
    },
    "colab": {
      "provenance": []
    }
  },
  "nbformat": 4,
  "nbformat_minor": 0
}