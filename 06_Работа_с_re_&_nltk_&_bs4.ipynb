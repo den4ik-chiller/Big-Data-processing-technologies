{
  "cells": [
    {
      "cell_type": "markdown",
      "metadata": {
        "id": "XETjffDFTfdF"
      },
      "source": [
        "# Работа со строковыми значениями"
      ]
    },
    {
      "cell_type": "markdown",
      "metadata": {
        "id": "JuLnYGV1TfdI"
      },
      "source": [
        "__Автор задач: Блохин Н.В. (NVBlokhin@fa.ru)__\n",
        "\n",
        "Материалы:\n",
        "* Макрушин С.В. Лекция \"Работа со строковыми значениям\"\n",
        "* https://pyformat.info/\n",
        "* https://docs.python.org/3/library/re.html\n",
        "    * https://docs.python.org/3/library/re.html#flags\n",
        "    * https://docs.python.org/3/library/re.html#functions\n",
        "* https://pythonru.com/primery/primery-primeneniya-regulyarnyh-vyrazheniy-v-python\n",
        "* https://kanoki.org/2019/11/12/how-to-use-regex-in-pandas/\n",
        "* https://realpython.com/nltk-nlp-python/"
      ]
    },
    {
      "cell_type": "markdown",
      "metadata": {
        "id": "bpLYb3wlTfdJ"
      },
      "source": [
        "## Задачи для совместного разбора"
      ]
    },
    {
      "cell_type": "markdown",
      "metadata": {
        "id": "OBJ3xhIUTfdJ"
      },
      "source": [
        "1. Вывести на экран данные из словаря `obj` построчно в виде `k = v`, задав формат таким образом, чтобы знак равенства оказался на одной и той же позиции во всех строках. Строковые литералы обернуть в кавычки."
      ]
    },
    {
      "cell_type": "code",
      "execution_count": null,
      "metadata": {
        "id": "A9fAiJ5sTfdK"
      },
      "outputs": [],
      "source": [
        "obj = {\n",
        "    \"home_page\": \"https://github.com/pypa/sampleproject\",\n",
        "    \"keywords\": \"sample setuptools development\",\n",
        "    \"license\": \"MIT\",\n",
        "}"
      ]
    },
    {
      "cell_type": "markdown",
      "metadata": {
        "id": "t2lEnVhCTfdL"
      },
      "source": [
        "2. Написать регулярное выражение,которое позволит найти номера групп студентов."
      ]
    },
    {
      "cell_type": "code",
      "execution_count": null,
      "metadata": {
        "id": "ErYsWXcVTfdL",
        "outputId": "6da20ee5-eed0-478c-b449-948cabf28706"
      },
      "outputs": [
        {
          "data": {
            "text/plain": [
              "0    Евгения гр.ПМ19-1\n",
              "1         Илья пм 20-4\n",
              "2            Анна 20-3\n",
              "dtype: object"
            ]
          },
          "execution_count": 4,
          "metadata": {},
          "output_type": "execute_result"
        }
      ],
      "source": [
        "obj = pd.Series([\"Евгения гр.ПМ19-1\", \"Илья пм 20-4\", \"Анна 20-3\"])\n",
        "obj"
      ]
    },
    {
      "cell_type": "markdown",
      "metadata": {
        "id": "12PEACuqTfdS"
      },
      "source": [
        "3. Разбейте текст формулировки задачи 2 на слова."
      ]
    },
    {
      "cell_type": "markdown",
      "metadata": {
        "id": "8rTYhX9qTfdS"
      },
      "source": [
        "---\n",
        "## Лабораторная работа 6.1"
      ]
    },
    {
      "cell_type": "markdown",
      "metadata": {
        "id": "8nrmuIYyTfdS"
      },
      "source": [
        "### Форматирование строк"
      ]
    },
    {
      "cell_type": "markdown",
      "metadata": {
        "id": "qfV57872TfdT"
      },
      "source": [
        "6\\.1\\.1\\. Загрузите данные из файла `recipes_sample.csv` (__ЛР2__) в виде `pd.DataFrame` `recipes` При помощи форматирования строк выведите информацию об id рецепта и времени выполнения 5 случайных рецептов в виде таблицы следующего вида:\n",
        "\n",
        "    \n",
        "    |      id      |  minutes  |\n",
        "    |--------------------------|\n",
        "    |    61178     |    65     |\n",
        "    |    202352    |    80     |\n",
        "    |    364322    |    150    |\n",
        "    |    26177     |    20     |\n",
        "    |    224785    |    35     |\n",
        "    \n",
        "Обратите внимание, что ширина столбцов заранее неизвестна и должна рассчитываться динамически, в зависимости от тех данных, которые были выбраны."
      ]
    },
    {
      "cell_type": "code",
      "execution_count": null,
      "metadata": {
        "id": "Y0ss9S8LTfdT",
        "outputId": "589e2533-1549-4cd6-81f4-74a2561d67da"
      },
      "outputs": [
        {
          "name": "stdout",
          "output_type": "stream",
          "text": [
            "|    id    |  minutes  |\n",
            "|----------------------|\n",
            "|  124388  |    12     |\n",
            "|  461103  |    15     |\n",
            "|  427063  |    15     |\n",
            "|   3304   |    15     |\n",
            "|  100312  |    30     |\n"
          ]
        }
      ],
      "source": [
        "import pandas as pd\n",
        "from bs4 import BeautifulSoup\n",
        "import re\n",
        "recipes = pd.read_csv('recipes_sample.csv')\n",
        "rand_5 = recipes.loc[:, ['id', 'minutes']].sample(5)\n",
        "ln = len(str(max(rand_5['id'])))\n",
        "print(f'|{\"id\":^{ln + 4}}|{\"minutes\":^{ln + 5}}|')\n",
        "print(f'|{\"\":-^{2 * ln + 10}}|')\n",
        "for index, row in rand_5.iterrows():\n",
        "    print(f'|{row[\"id\"]:^{ln + 4}}|{row[\"minutes\"]: ^{ln + 5}}|')"
      ]
    },
    {
      "cell_type": "markdown",
      "metadata": {
        "id": "Q2UaewFCTfdU"
      },
      "source": [
        "6\\.1\\.2\\. Напишите функцию `show_info`, которая по данным о рецепте создает строку (в смысле объекта python) с описанием следующего вида:\n",
        "\n",
        "```\n",
        "\"Название Из Нескольких Слов\"\n",
        "\n",
        "1. Шаг 1\n",
        "2. Шаг 2\n",
        "----------\n",
        "Автор: contributor_id\n",
        "Среднее время приготовления: minutes минут\n",
        "```\n",
        "\n",
        "    \n",
        "Данные для создания строки получите из файлов `recipes_sample.csv` (__ЛР2__) и `steps_sample.xml` (__ЛР3__).\n",
        "Вызовите данную функцию для рецепта с id `170895` и выведите (через `print`) полученную строку на экран."
      ]
    },
    {
      "cell_type": "code",
      "execution_count": 1,
      "metadata": {
        "id": "UM73g4JlTfdV"
      },
      "outputs": [],
      "source": [
        "# from bs4 import BeautifulSoup\n",
        "# with open('steps_sample.xml') as f:\n",
        "#     rec = BeautifulSoup(f, 'xml')\n",
        "# rec"
      ]
    },
    {
      "cell_type": "code",
      "execution_count": null,
      "metadata": {
        "id": "WfVfTILpTfdV",
        "outputId": "77f2f44b-4ba6-4bdb-cfd1-fe24777af701"
      },
      "outputs": [
        {
          "name": "stdout",
          "output_type": "stream",
          "text": [
            "\"Leeks And Parsnips  Sauteed Or Creamed\"\n",
            "1. Clean the leeks and discard the dark green portions\n",
            "2. Cut the leeks lengthwise then into one-inch pieces\n",
            "3. Melt the butter in a medium skillet , med\n",
            "4. Heat\n",
            "5. Add the garlic and fry 'til fragrant\n",
            "6. Add leeks and fry until the leeks are tender , about 6-minutes\n",
            "7. Meanwhile , peel and chunk the parsnips into one-inch pieces\n",
            "8. Place in a steaming basket and steam 'til they are as tender as you prefer\n",
            "9. I like them fork-tender\n",
            "10. Drain parsnips and add to the skillet with the leeks\n",
            "11. Add salt and pepper\n",
            "12. Gently sautee together for 5-minutes\n",
            "13. At this point you can serve it , or continue on and cream it:\n",
            "14. In a jar with a screw top , add the half-n-half and arrowroot\n",
            "15. Shake 'til blended\n",
            "16. Turn heat to low under the leeks and parsnips\n",
            "17. Pour in the arrowroot mixture , stirring gently as you pour\n",
            "18. If too thick , gradually add the water\n",
            "19. Let simmer for a couple of minutes\n",
            "20. Taste to adjust seasoning , probably an additional 1 / 2 teaspoon salt\n",
            "21. Serve warm\n",
            "----------\n",
            "Автор: 8377\n",
            "Среднее время приготовления: 27 минут\n"
          ]
        }
      ],
      "source": [
        "def show_info(id):\n",
        "    ans =''\n",
        "    ans = f'\"{recipes[recipes[\"id\"] == id].name.values[0].title()}\"\\n'\n",
        "    recipe = rec.find_all('recipe')\n",
        "    for recipe in recipe:\n",
        "        if recipe.id.text == str(id):\n",
        "            num = 1\n",
        "            for step in recipe.steps:\n",
        "                if step != '\\n':\n",
        "                    ans += f'{num}. {step.text.capitalize()}\\n'\n",
        "                    num += 1\n",
        "    ans += f'----------\\nАвтор: {recipes[recipes[\"id\"] == id][\"contributor_id\"].values[0]}\\n'\n",
        "    ans += f'Среднее время приготовления: {recipes[recipes[\"id\"] == id][\"minutes\"].values[0]} минут'\n",
        "    return ans\n",
        "print(show_info(170895))"
      ]
    },
    {
      "cell_type": "code",
      "execution_count": null,
      "metadata": {
        "id": "ZhiTdYc5TfdW",
        "outputId": "ddbc349f-960a-4ea9-ecfd-82d78a3348c8"
      },
      "outputs": [
        {
          "data": {
            "text/html": [
              "<div>\n",
              "<style scoped>\n",
              "    .dataframe tbody tr th:only-of-type {\n",
              "        vertical-align: middle;\n",
              "    }\n",
              "\n",
              "    .dataframe tbody tr th {\n",
              "        vertical-align: top;\n",
              "    }\n",
              "\n",
              "    .dataframe thead th {\n",
              "        text-align: right;\n",
              "    }\n",
              "</style>\n",
              "<table border=\"1\" class=\"dataframe\">\n",
              "  <thead>\n",
              "    <tr style=\"text-align: right;\">\n",
              "      <th></th>\n",
              "      <th>name</th>\n",
              "      <th>id</th>\n",
              "      <th>minutes</th>\n",
              "      <th>contributor_id</th>\n",
              "      <th>submitted</th>\n",
              "      <th>n_steps</th>\n",
              "      <th>description</th>\n",
              "      <th>n_ingredients</th>\n",
              "    </tr>\n",
              "  </thead>\n",
              "  <tbody>\n",
              "    <tr>\n",
              "      <th>15754</th>\n",
              "      <td>leeks and parsnips  sauteed or creamed</td>\n",
              "      <td>170895</td>\n",
              "      <td>27</td>\n",
              "      <td>8377</td>\n",
              "      <td>2006-05-31</td>\n",
              "      <td>21.0</td>\n",
              "      <td>this is good sauteed only or creamed. very eas...</td>\n",
              "      <td>9.0</td>\n",
              "    </tr>\n",
              "  </tbody>\n",
              "</table>\n",
              "</div>"
            ],
            "text/plain": [
              "                                         name      id  minutes  \\\n",
              "15754  leeks and parsnips  sauteed or creamed  170895       27   \n",
              "\n",
              "       contributor_id   submitted  n_steps  \\\n",
              "15754            8377  2006-05-31     21.0   \n",
              "\n",
              "                                             description  n_ingredients  \n",
              "15754  this is good sauteed only or creamed. very eas...            9.0  "
            ]
          },
          "metadata": {},
          "output_type": "display_data"
        }
      ],
      "source": [
        "display(recipes[recipes['id'] == 170895])\n",
        "p = re.compile(r'\\d+ (?:hours|hour|minutes|minute)')"
      ]
    },
    {
      "cell_type": "markdown",
      "metadata": {
        "id": "wiYU9n-dTfdW"
      },
      "source": [
        "## Работа с регулярными выражениями"
      ]
    },
    {
      "cell_type": "markdown",
      "metadata": {
        "id": "9VsMXllhTfdW"
      },
      "source": [
        "6\\.1\\.3\\. Напишите регулярное выражение, которое ищет следующий паттерн в строке: число (1 цифра или более), затем пробел, затем слова: hour или hours или minute или minutes. Произведите поиск по данному регулярному выражению в каждом шаге рецепта с id 25082. Выведите на экран все непустые результаты, найденные по данному шаблону."
      ]
    },
    {
      "cell_type": "code",
      "execution_count": null,
      "metadata": {
        "id": "nvolOdY6TfdX",
        "outputId": "9e4bd228-8afe-4400-d942-158219b7c47f"
      },
      "outputs": [
        {
          "name": "stdout",
          "output_type": "stream",
          "text": [
            "['20 minutes', '10 minutes', '2 hours', '10 minutes', '20 minutes', '30 minutes']\n",
            "\"Basic Whole Wheat Bread\"\n",
            "1. Proof yeast in half a cup of the water , with about a teaspoon of flour- let it sit , covered , until it becomes bubbly& active\n",
            "2. Combine the rest of the water with the yeast / water in a large bowl , and gradually add about half of the flour\n",
            "3. Stir the mixture about 100 times in the same direction , until it is well-mixed and strands are beginning to form\n",
            "4. Stir in the salt and oil\n",
            "5. Add the remaining flour half a cup at a time , stirring well , until it is too stiff to stir with a spoon\n",
            "6. Turn out onto a lightly floured board and knead for about 20 minutes , adding flour as nescessary to keep the dough from sticking to the board\n",
            "7. The dough should be springy and nice to work with\n",
            "8. When it has been sufficiently kneaded , cover it with a damp cloth for about 10 minutes and wash and grease the bowl lightly\n",
            "9. After it has rested , knead the dough a few more times and place it in the bowl , covered with the damp cloth , a plastic bag , and maybe a plate\n",
            "10. Let the dough rise until it springs back when you stick your finger in it , and it is about twice the size as it was before (this takes about 2 hours\n",
            "11. Longer or shorter depending on the room temperature- i prefer a longer rise , because it allows the flavour to develop more\n",
            "12. But sometimes you just don't have time for that sort of thing)\n",
            "13. Deflate the dough by punching or kneading it a few times , and let it rise again- this time , it should take about half the amount of time as it did before\n",
            "14. When the dough has risen twice , deflate it again and cover it with the damp cloth again for about 10 minutes , then divide it into and shape it into loaves , buns , etc\n",
            "15. Let the shaped dough rise on a baking sheet or in a loaf-pan for about an hour maybe- it will rise a bit more in the oven\n",
            "16. Slash the top of the bread if you want , so that it doesn't bust open in the oven\n",
            "17. Bake at 400 for 20 minutes , and then turn the oven down to 350 and bake for 20-30 minutes longer , until the loaf is a lovely brown and sounds hollow when you thump it on the bottom\n",
            "18. Try to let the loaf cool before you tear into it\n",
            "----------\n",
            "Автор: 25483\n",
            "Среднее время приготовления: 290 минут\n"
          ]
        }
      ],
      "source": [
        "string = show_info(25082)\n",
        "p = re.compile(r'[\\d]+ (?:hours|hour|minutes|minute)')\n",
        "print(p.findall(string))\n",
        "print(string)"
      ]
    },
    {
      "cell_type": "markdown",
      "metadata": {
        "id": "UST869Q7TfdX"
      },
      "source": [
        "6\\.1\\.4\\. Напишите регулярное выражение, которое ищет шаблон вида \"this..., but\" _в начале строки_ . Между словом \"this\" и частью \", but\" может находиться произвольное число букв, цифр, знаков подчеркивания и пробелов. Никаких других символов вместо многоточия быть не может. Пробел между запятой и словом \"but\" может присутствовать или отсутствовать.\n",
        "\n",
        "Используя строковые методы `pd.Series`, выясните, для каких рецептов данный шаблон содержится в тексте описания. Выведите на экран количество таких рецептов и 3 примера подходящих описаний (текст описания должен быть виден на экране полностью)."
      ]
    },
    {
      "cell_type": "code",
      "execution_count": null,
      "metadata": {
        "id": "BeltBh19TfdX",
        "outputId": "de3db231-c2c9-4c0d-bbb2-2e962cf81d3b"
      },
      "outputs": [
        {
          "name": "stdout",
          "output_type": "stream",
          "text": [
            "0        False\n",
            "1        False\n",
            "2        False\n",
            "3        False\n",
            "4        False\n",
            "         ...  \n",
            "29995    False\n",
            "29996    False\n",
            "29997    False\n",
            "29998     True\n",
            "29999    False\n",
            "Name: description, Length: 30000, dtype: object\n",
            "Количество рецептов: 352\n"
          ]
        },
        {
          "data": {
            "text/html": [
              "<div>\n",
              "<style scoped>\n",
              "    .dataframe tbody tr th:only-of-type {\n",
              "        vertical-align: middle;\n",
              "    }\n",
              "\n",
              "    .dataframe tbody tr th {\n",
              "        vertical-align: top;\n",
              "    }\n",
              "\n",
              "    .dataframe thead th {\n",
              "        text-align: right;\n",
              "    }\n",
              "</style>\n",
              "<table border=\"1\" class=\"dataframe\">\n",
              "  <thead>\n",
              "    <tr style=\"text-align: right;\">\n",
              "      <th></th>\n",
              "      <th>description</th>\n",
              "      <th>id</th>\n",
              "    </tr>\n",
              "  </thead>\n",
              "  <tbody>\n",
              "    <tr>\n",
              "      <th>6968</th>\n",
              "      <td>this is a concoction for salmon that i came up with when i wanted salmon, but something differen...</td>\n",
              "      <td>414595</td>\n",
              "    </tr>\n",
              "    <tr>\n",
              "      <th>26417</th>\n",
              "      <td>this recipe is based off of a cooking light recipe, but it is not pan fried at all. you could ea...</td>\n",
              "      <td>453725</td>\n",
              "    </tr>\n",
              "    <tr>\n",
              "      <th>3965</th>\n",
              "      <td>this recipe is so good you will want to save it for company, but don't!  your family deserves to...</td>\n",
              "      <td>57063</td>\n",
              "    </tr>\n",
              "  </tbody>\n",
              "</table>\n",
              "</div>"
            ],
            "text/plain": [
              "                                                                                               description  \\\n",
              "6968   this is a concoction for salmon that i came up with when i wanted salmon, but something differen...   \n",
              "26417  this recipe is based off of a cooking light recipe, but it is not pan fried at all. you could ea...   \n",
              "3965   this recipe is so good you will want to save it for company, but don't!  your family deserves to...   \n",
              "\n",
              "           id  \n",
              "6968   414595  \n",
              "26417  453725  \n",
              "3965    57063  "
            ]
          },
          "execution_count": 10,
          "metadata": {},
          "output_type": "execute_result"
        }
      ],
      "source": [
        "pd.options.display.max_colwidth = 100\n",
        "p = re.compile(r'^[this][\\w ]+, ?but')\n",
        "# p = re.compile(r'^this[\\w ]+, but')\n",
        "strings = recipes['description'].str.match(p)\n",
        "print(strings)\n",
        "print(f\"Количество рецептов: {strings.sum()}\")\n",
        "recipes[strings.fillna(False)].sample(3)[['description', 'id']]"
      ]
    },
    {
      "cell_type": "markdown",
      "metadata": {
        "id": "6tmUy41cTfdX"
      },
      "source": [
        "## Лабораторная работа 6.2"
      ]
    },
    {
      "cell_type": "markdown",
      "metadata": {
        "id": "flzE2HuPTfdY"
      },
      "source": [
        "6\\.2\\.1\\. В текстах шагов рецептов обыкновенные дроби имеют вид \"a / b\". Используя регулярные выражения, уберите в тексте шагов рецепта с id 72367 пробелы до и после символа дроби. Выведите на экран шаги этого рецепта после их изменения."
      ]
    },
    {
      "cell_type": "code",
      "execution_count": null,
      "metadata": {
        "id": "Htup7hulTfdY",
        "outputId": "8d3adff8-138e-498e-8e87-a89ea7671ed4"
      },
      "outputs": [
        {
          "name": "stdout",
          "output_type": "stream",
          "text": [
            "\"Bavarian Apple Cheese Cake Tart\"\n",
            "1. Mix butter , flour , 1/3 c\n",
            "2. Sugar and 1-1/4 t\n",
            "3. Vanilla\n",
            "4. Press into greased 9\" springform pan\n",
            "5. Mix cream cheese , 1/4 c\n",
            "6. Sugar , eggs and 1/2 t\n",
            "7. Vanilla beating until fluffy\n",
            "8. Pour over dough\n",
            "9. Combine apples , 1/3 c\n",
            "10. Sugar and cinnamon\n",
            "11. Arrange on top of cream cheese mixture and sprinkle with almonds\n",
            "12. Bake at 350 for 45-55 minutes , or until tester comes out clean\n",
            "----------\n",
            "Автор: 93006\n",
            "Среднее время приготовления: 65 минут\n"
          ]
        }
      ],
      "source": [
        "string = show_info(72367)\n",
        "# p = re.compile(r'(\\d+)( )\\/( )(\\d+)')\n",
        "p = re.compile(r'\\d+ \\/ \\d')\n",
        "print(re.sub(p, lambda s: s.group().replace(' ', ''), string))"
      ]
    },
    {
      "cell_type": "markdown",
      "metadata": {
        "id": "XyP7l5K-TfdY"
      },
      "source": [
        "### Сегментация текста"
      ]
    },
    {
      "cell_type": "markdown",
      "metadata": {
        "id": "FCm8PyinTfdY"
      },
      "source": [
        "6\\.2\\.2\\. Разбейте тексты шагов рецептов на слова при помощи пакета `nltk`. Посчитайте и выведите на экран кол-во уникальных слов среди всех рецептов. Словом называется любая последовательность алфавитных символов (для проверки можно воспользоваться `str.isalpha`). При подсчете количества уникальных слов не учитывайте регистр."
      ]
    },
    {
      "cell_type": "code",
      "execution_count": null,
      "metadata": {
        "id": "niDz19xjTfdY"
      },
      "outputs": [],
      "source": [
        "import nltk\n",
        "# nltk.download()"
      ]
    },
    {
      "cell_type": "code",
      "execution_count": null,
      "metadata": {
        "id": "9pbJIGEXTfdY",
        "outputId": "88a1f2c5-07e2-4569-94c5-825f4a5df970"
      },
      "outputs": [
        {
          "name": "stdout",
          "output_type": "stream",
          "text": [
            "14926\n"
          ]
        }
      ],
      "source": [
        "from nltk.tokenize import word_tokenize\n",
        "from nltk.tokenize import sent_tokenize\n",
        "words = []\n",
        "for recipe in rec.recipes.find_all('recipe'):\n",
        "    for step in recipe.steps:\n",
        "        for item in word_tokenize(step.text):\n",
        "            if item.isalpha() and item.lower() not in words:\n",
        "                words.append(item.lower())\n",
        "print(len(words))"
      ]
    },
    {
      "cell_type": "markdown",
      "metadata": {
        "id": "tP9b-8UJTfdY"
      },
      "source": [
        "6\\.2\\.3\\. Разбейте описания рецептов из `recipes` на предложения при помощи пакета `nltk`. Найдите 5 самых длинных описаний (по количеству _предложений_) рецептов в датасете и выведите строки фрейма, соответствующие этим рецептами, в порядке убывания длины."
      ]
    },
    {
      "cell_type": "code",
      "execution_count": null,
      "metadata": {
        "id": "PS-6iejRTfdY",
        "outputId": "e751b864-145b-4d2a-a1a9-f8c4fd03b118"
      },
      "outputs": [
        {
          "data": {
            "text/html": [
              "<div>\n",
              "<style scoped>\n",
              "    .dataframe tbody tr th:only-of-type {\n",
              "        vertical-align: middle;\n",
              "    }\n",
              "\n",
              "    .dataframe tbody tr th {\n",
              "        vertical-align: top;\n",
              "    }\n",
              "\n",
              "    .dataframe thead th {\n",
              "        text-align: right;\n",
              "    }\n",
              "</style>\n",
              "<table border=\"1\" class=\"dataframe\">\n",
              "  <thead>\n",
              "    <tr style=\"text-align: right;\">\n",
              "      <th></th>\n",
              "      <th>name</th>\n",
              "      <th>id</th>\n",
              "      <th>minutes</th>\n",
              "      <th>contributor_id</th>\n",
              "      <th>submitted</th>\n",
              "      <th>n_steps</th>\n",
              "      <th>description</th>\n",
              "      <th>n_ingredients</th>\n",
              "      <th>sentences</th>\n",
              "    </tr>\n",
              "  </thead>\n",
              "  <tbody>\n",
              "    <tr>\n",
              "      <th>18408</th>\n",
              "      <td>my favorite buttercream icing for decorating</td>\n",
              "      <td>334113</td>\n",
              "      <td>30</td>\n",
              "      <td>681465</td>\n",
              "      <td>2008-10-30</td>\n",
              "      <td>12.0</td>\n",
              "      <td>this wonderful icing is used for icing cakes and cookies as well as for borders and art work on ...</td>\n",
              "      <td>NaN</td>\n",
              "      <td>[this wonderful icing is used for icing cakes and cookies as well as for borders and art work on...</td>\n",
              "    </tr>\n",
              "    <tr>\n",
              "      <th>481</th>\n",
              "      <td>alligator claws  avocado fritters  with chipotle lime dip</td>\n",
              "      <td>287008</td>\n",
              "      <td>45</td>\n",
              "      <td>765354</td>\n",
              "      <td>2008-02-19</td>\n",
              "      <td>NaN</td>\n",
              "      <td>a translucent golden-brown crust allows the green of the avocado to be seen.  the crispy exterio...</td>\n",
              "      <td>9.0</td>\n",
              "      <td>[a translucent golden-brown crust allows the green of the avocado to be seen., the crispy exteri...</td>\n",
              "    </tr>\n",
              "    <tr>\n",
              "      <th>22566</th>\n",
              "      <td>rich barley mushroom soup</td>\n",
              "      <td>328708</td>\n",
              "      <td>60</td>\n",
              "      <td>221776</td>\n",
              "      <td>2008-10-03</td>\n",
              "      <td>NaN</td>\n",
              "      <td>this is one of the best soups i've ever made and it is even worthy of company.  so simple, yet r...</td>\n",
              "      <td>10.0</td>\n",
              "      <td>[this is one of the best soups i've ever made and it is even worthy of company., so simple, yet ...</td>\n",
              "    </tr>\n",
              "    <tr>\n",
              "      <th>16296</th>\n",
              "      <td>little bunny foo foo cake  carrot cake  with cream cheese frosti</td>\n",
              "      <td>316000</td>\n",
              "      <td>68</td>\n",
              "      <td>689540</td>\n",
              "      <td>2008-07-27</td>\n",
              "      <td>14.0</td>\n",
              "      <td>the first time i made this cake i grated a million pounds of carrots on a knucklebuster.  then t...</td>\n",
              "      <td>NaN</td>\n",
              "      <td>[the first time i made this cake i grated a million pounds of carrots on a knucklebuster., then ...</td>\n",
              "    </tr>\n",
              "    <tr>\n",
              "      <th>6779</th>\n",
              "      <td>chocolate tea</td>\n",
              "      <td>205348</td>\n",
              "      <td>6</td>\n",
              "      <td>428824</td>\n",
              "      <td>2007-01-14</td>\n",
              "      <td>NaN</td>\n",
              "      <td>i wrote this because there are an astounding lack of chocolate tea recipes on the internet. \\r\\n...</td>\n",
              "      <td>NaN</td>\n",
              "      <td>[i wrote this because there are an astounding lack of chocolate tea recipes on the internet., th...</td>\n",
              "    </tr>\n",
              "  </tbody>\n",
              "</table>\n",
              "</div>"
            ],
            "text/plain": [
              "                                                                   name  \\\n",
              "18408                      my favorite buttercream icing for decorating   \n",
              "481           alligator claws  avocado fritters  with chipotle lime dip   \n",
              "22566                                         rich barley mushroom soup   \n",
              "16296  little bunny foo foo cake  carrot cake  with cream cheese frosti   \n",
              "6779                                                      chocolate tea   \n",
              "\n",
              "           id  minutes  contributor_id   submitted  n_steps  \\\n",
              "18408  334113       30          681465  2008-10-30     12.0   \n",
              "481    287008       45          765354  2008-02-19      NaN   \n",
              "22566  328708       60          221776  2008-10-03      NaN   \n",
              "16296  316000       68          689540  2008-07-27     14.0   \n",
              "6779   205348        6          428824  2007-01-14      NaN   \n",
              "\n",
              "                                                                                               description  \\\n",
              "18408  this wonderful icing is used for icing cakes and cookies as well as for borders and art work on ...   \n",
              "481    a translucent golden-brown crust allows the green of the avocado to be seen.  the crispy exterio...   \n",
              "22566  this is one of the best soups i've ever made and it is even worthy of company.  so simple, yet r...   \n",
              "16296  the first time i made this cake i grated a million pounds of carrots on a knucklebuster.  then t...   \n",
              "6779   i wrote this because there are an astounding lack of chocolate tea recipes on the internet. \\r\\n...   \n",
              "\n",
              "       n_ingredients  \\\n",
              "18408            NaN   \n",
              "481              9.0   \n",
              "22566           10.0   \n",
              "16296            NaN   \n",
              "6779             NaN   \n",
              "\n",
              "                                                                                                 sentences  \n",
              "18408  [this wonderful icing is used for icing cakes and cookies as well as for borders and art work on...  \n",
              "481    [a translucent golden-brown crust allows the green of the avocado to be seen., the crispy exteri...  \n",
              "22566  [this is one of the best soups i've ever made and it is even worthy of company., so simple, yet ...  \n",
              "16296  [the first time i made this cake i grated a million pounds of carrots on a knucklebuster., then ...  \n",
              "6779   [i wrote this because there are an astounding lack of chocolate tea recipes on the internet., th...  "
            ]
          },
          "execution_count": 129,
          "metadata": {},
          "output_type": "execute_result"
        }
      ],
      "source": [
        "recipes['sentences'] = recipes['description'].apply(lambda x: sent_tokenize(str(x)))\n",
        "recipes.sort_values(by='sentences', ascending=False, key=lambda a: a.str.len())[:5]"
      ]
    },
    {
      "cell_type": "markdown",
      "metadata": {
        "id": "evOcgwdoTfdZ"
      },
      "source": [
        "6\\.2\\.4\\. Напишите функцию, которая для заданного предложения выводит информацию о частях речи слов, входящих в предложение, в следующем виде:\n",
        "```\n",
        "PRP   VBD   DT      NNS     CC   VBD      NNS        RB   \n",
        " I  omitted the raspberries and added strawberries instead\n",
        "```\n",
        "Для определения части речи слова можно воспользоваться `nltk.pos_tag`.\n",
        "\n",
        "Проверьте работоспособность функции на названии рецепта с id 241106.\n",
        "\n",
        "Обратите внимание, что часть речи должна находиться ровно посередине над соотвествующим словом, а между самими словами должен быть ровно один пробел.\n"
      ]
    },
    {
      "cell_type": "code",
      "execution_count": null,
      "metadata": {
        "id": "beeOxzA1TfdZ",
        "outputId": "ef733117-7454-447a-d46e-62cdc52b4631"
      },
      "outputs": [
        {
          "name": "stdout",
          "output_type": "stream",
          "text": [
            "['eggplant', 'steaks', 'with', 'chickpeas', 'feta', 'cheese', 'and', 'black', 'olives']\n",
            "[('eggplant', 'JJ'), ('steaks', 'NNS'), ('with', 'IN'), ('chickpeas', 'NNS'), ('feta', 'VBP'), ('cheese', 'JJ'), ('and', 'CC'), ('black', 'JJ'), ('olives', 'NNS')]\n",
            "   JJ     NNS    IN     NNS    VBP    JJ   CC   JJ    NNS   \n",
            "eggplant steaks with chickpeas feta cheese and black olives \n"
          ]
        }
      ],
      "source": [
        "from nltk.tokenize.toktok import ToktokTokenizer\n",
        "toktok = ToktokTokenizer()\n",
        "def text_tag(text):\n",
        "    sent_text = []\n",
        "    for wd in toktok.tokenize(text):\n",
        "            if wd.isalpha():\n",
        "                sent_text.append(wd)\n",
        "    print(sent_text)\n",
        "    tags = nltk.pos_tag(sent_text)\n",
        "    print(tags)\n",
        "    up = ''\n",
        "    down = ''\n",
        "    for el in tags:\n",
        "        if (len(el[0]) > len(el[1])):\n",
        "            up+= f'{el[1]:^{len(el[0])}} '\n",
        "            down+=f'{el[0]} '\n",
        "        else:\n",
        "            up+= f'{el[1]} '\n",
        "            down+=f'{el[0]:^{len(el[1])}} '\n",
        "    res = up + '\\n' + down\n",
        "    return res\n",
        "text = recipes.loc[recipes['id']==241106, 'name'].values[0]\n",
        "print(text_tag(text))"
      ]
    },
    {
      "cell_type": "code",
      "execution_count": null,
      "metadata": {
        "id": "d1rFcVCDTfdZ"
      },
      "outputs": [],
      "source": []
    }
  ],
  "metadata": {
    "kernelspec": {
      "display_name": "Python 3 (ipykernel)",
      "language": "python",
      "name": "python3"
    },
    "language_info": {
      "codemirror_mode": {
        "name": "ipython",
        "version": 3
      },
      "file_extension": ".py",
      "mimetype": "text/x-python",
      "name": "python",
      "nbconvert_exporter": "python",
      "pygments_lexer": "ipython3",
      "version": "3.8.15"
    },
    "colab": {
      "provenance": []
    }
  },
  "nbformat": 4,
  "nbformat_minor": 0
}