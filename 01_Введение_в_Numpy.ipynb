{
  "cells": [
    {
      "cell_type": "markdown",
      "metadata": {
        "id": "23wDLznHNBac"
      },
      "source": [
        "# Numpy"
      ]
    },
    {
      "cell_type": "markdown",
      "metadata": {
        "id": "dcf-0DLCNBaj"
      },
      "source": [
        "Материалы:\n",
        "* Макрушин С.В. \"Лекция 1: Библиотека Numpy\"\n",
        "* https://numpy.org/doc/stable/user/index.html\n",
        "* https://numpy.org/doc/stable/reference/index.html"
      ]
    },
    {
      "cell_type": "markdown",
      "metadata": {
        "id": "cQjyCgdhNBak"
      },
      "source": [
        "## Задачи для совместного разбора"
      ]
    },
    {
      "cell_type": "markdown",
      "metadata": {
        "id": "y_YiJS3cNBak"
      },
      "source": [
        "1. Сгенерировать двухмерный массив `arr` размерности (4, 7), состоящий из случайных действительных чисел, равномерно распределенных в диапазоне от 0 до 20. Нормализовать значения массива с помощью преобразования вида  $𝑎𝑥+𝑏$  так, что после нормализации максимальный элемент масcива будет равен 1.0, минимальный 0.0"
      ]
    },
    {
      "cell_type": "code",
      "execution_count": null,
      "metadata": {
        "id": "Rjopzjk9NBal",
        "outputId": "9b944e51-b108-4438-cba4-510cb6b85c07"
      },
      "outputs": [
        {
          "data": {
            "text/plain": [
              "array([[ 9, 16,  0,  9, 11,  1, 14],\n",
              "       [10, 10,  5, 11,  5, 16,  4],\n",
              "       [ 1,  2,  1,  2, 10,  9, 11],\n",
              "       [18, 12, 14,  3, 15, 13,  0]])"
            ]
          },
          "execution_count": 3,
          "metadata": {},
          "output_type": "execute_result"
        }
      ],
      "source": [
        "import numpy as np\n",
        "arr = np.random.randint(0, 20, (4, 7))\n",
        "arr"
      ]
    },
    {
      "cell_type": "markdown",
      "metadata": {
        "id": "SD8I9hoBNBan"
      },
      "source": [
        "2. Создать матрицу 8 на 10 из случайных целых (используя модуль `numpy.random`) чисел из диапозона от 0 до 10 и найти в ней строку (ее индекс и вывести саму строку), в которой сумма значений минимальна."
      ]
    },
    {
      "cell_type": "code",
      "execution_count": null,
      "metadata": {
        "id": "j_ger6E8NBao",
        "outputId": "825fe2ba-48a6-49f2-f6a0-2d18d9a45ff1"
      },
      "outputs": [
        {
          "name": "stdout",
          "output_type": "stream",
          "text": [
            "<class 'numpy.ndarray'>\n",
            "[2 3 4]\n",
            "[0 1 2 3 4]\n"
          ]
        }
      ],
      "source": [
        "a = np.array([2,3,4])\n",
        "print(type(a))\n",
        "b = [2,3,4]\n",
        "print(np.array(b))\n",
        "print(np.arange(5))\n"
      ]
    },
    {
      "cell_type": "markdown",
      "metadata": {
        "id": "XoO4u56GNBao"
      },
      "source": [
        "3. Найти евклидово расстояние между двумя одномерными векторами одинаковой размерности."
      ]
    },
    {
      "cell_type": "markdown",
      "metadata": {
        "id": "-T7-5NIfNBao"
      },
      "source": [
        "4. Решить матричное уравнение `A*X*B=-C` - найти матрицу `X`. Где `A = [[-1, 2, 4], [-3, 1, 2], [-3, 0, 1]]`, `B=[[3, -1], [2, 1]]`, `C=[[7, 21], [11, 8], [8, 4]]`."
      ]
    },
    {
      "cell_type": "markdown",
      "metadata": {
        "id": "cWKAfQiuNBao"
      },
      "source": [
        "## Лабораторная работа №1.1"
      ]
    },
    {
      "cell_type": "markdown",
      "metadata": {
        "id": "rGqjJ_1-NBap"
      },
      "source": [
        "Замечание: при решении данных задач не подразумевается использования циклов или генераторов Python, если в задании не сказано обратного. Решение должно опираться на использования функционала библиотеки `numpy`."
      ]
    },
    {
      "cell_type": "markdown",
      "metadata": {
        "id": "oNx1av3INBap"
      },
      "source": [
        "1. Файл `minutes_n_ingredients.csv` содержит информацию об идентификаторе рецепта, времени его выполнения в минутах и количестве необходимых ингредиентов. Считайте данные из этого файла в виде массива `numpy` типа `int32`, используя `np.loadtxt`. Выведите на экран первые 5 строк массива."
      ]
    },
    {
      "cell_type": "code",
      "execution_count": null,
      "metadata": {
        "id": "AdZ2zDNANBap",
        "outputId": "2cc7c1e4-6a14-4674-ee7d-50ef1071e5e2"
      },
      "outputs": [
        {
          "data": {
            "text/plain": [
              "array([[127244,     60,     16],\n",
              "       [ 23891,     25,      7],\n",
              "       [ 94746,     10,      6],\n",
              "       [ 67660,      5,      6],\n",
              "       [157911,     60,     14]])"
            ]
          },
          "execution_count": 2,
          "metadata": {},
          "output_type": "execute_result"
        }
      ],
      "source": [
        "import numpy as np\n",
        "first_five_rows = np.loadtxt('minutes_n_ingredients.csv', delimiter=',', dtype=np.int32, skiprows=1, max_rows=5)\n",
        "first_five_rows"
      ]
    },
    {
      "cell_type": "markdown",
      "metadata": {
        "id": "Jik_DYbPNBap"
      },
      "source": [
        "2. Вычислите среднее значение, минимум, максимум и медиану по каждому из столбцов, кроме первого."
      ]
    },
    {
      "cell_type": "code",
      "execution_count": null,
      "metadata": {
        "id": "j_LuWJ7xNBaq",
        "outputId": "b9cdd2b1-e997-4ae3-ca82-12c777acbfca"
      },
      "outputs": [
        {
          "name": "stdout",
          "output_type": "stream",
          "text": [
            "[ 60  25  10 ...  65   5 140]\n",
            "Average values: 21601.00169, 9.05528\n",
            "Minimum: 0, 1\n",
            "Maximum: 2147483647, 39\n",
            "Median: 40.0, 9.0\n"
          ]
        }
      ],
      "source": [
        "rows = np.loadtxt('minutes_n_ingredients.csv', delimiter=',', dtype=np.int64, skiprows=1)\n",
        "column_1, column_2 = rows[:, 1], rows[:, 2]\n",
        "print(column_1)\n",
        "print(f'Average values: {column_1.mean()}, {column_2.mean()}')\n",
        "print(f'Minimum: {column_1.min()}, {column_2.min()}')\n",
        "print(f'Maximum: {column_1.max()}, {column_2.max()}')\n",
        "print(f'Median: {np.median(column_1)}, {np.median(column_2)}')"
      ]
    },
    {
      "cell_type": "markdown",
      "metadata": {
        "id": "FTYvmPJyNBaq"
      },
      "source": [
        "3. Ограничьте сверху значения продолжительности выполнения рецепта значением квантиля $q_{0.75}$."
      ]
    },
    {
      "cell_type": "code",
      "execution_count": null,
      "metadata": {
        "id": "Ot6vg8jkNBaq",
        "outputId": "98f7eda1-5045-4346-f85b-9dd940169a84"
      },
      "outputs": [
        {
          "name": "stdout",
          "output_type": "stream",
          "text": [
            "65.0\n",
            "[array([False, False, False, ..., False, False, False])]\n",
            "[[127244     60     16]\n",
            " [ 23891     25      7]\n",
            " [ 94746     10      6]\n",
            " ...\n",
            " [498432     65     15]\n",
            " [370915      5      4]\n",
            " [ 81993     65     14]]\n"
          ]
        }
      ],
      "source": [
        "quant = np.quantile(column_1, 0.75)\n",
        "print(quant)\n",
        "print([rows[:, 1] > quant])\n",
        "rows[:, 1][rows[:, 1] > quant] = quant #все значения в столбце времени, что больше квантиля, заменил на значение квантиля\n",
        "print(rows)"
      ]
    },
    {
      "cell_type": "markdown",
      "metadata": {
        "id": "wrk6pkXsNBaq"
      },
      "source": [
        "4. Посчитайте, для скольких рецептов указана продолжительность, равная нулю. Замените для таких строк значение в данном столбце на 1."
      ]
    },
    {
      "cell_type": "code",
      "execution_count": null,
      "metadata": {
        "id": "ykfZutQfNBaq",
        "outputId": "f034ad06-a77a-4117-977c-c92e0dbd7784"
      },
      "outputs": [
        {
          "name": "stdout",
          "output_type": "stream",
          "text": [
            "479\n",
            "<class 'list'>\n",
            "[[127244     60     16]\n",
            " [ 23891     25      7]\n",
            " [ 94746     10      6]\n",
            " ...\n",
            " [498432     65     15]\n",
            " [370915      5      4]\n",
            " [ 81993     65     14]]\n"
          ]
        }
      ],
      "source": [
        "print(len(rows[:, 1][rows[:, 1] == 0]))\n",
        "print([rows[:, 1] == 0])\n",
        "rows[:, 1][rows[:, 1] == 0] = 1\n",
        "print(rows)"
      ]
    },
    {
      "cell_type": "markdown",
      "metadata": {
        "id": "nvfn5EESNBar"
      },
      "source": [
        "5. Посчитайте, сколько уникальных рецептов находится в датасете."
      ]
    },
    {
      "cell_type": "code",
      "execution_count": null,
      "metadata": {
        "id": "RjqsYes-NBar",
        "outputId": "1e2f62c7-1b23-48a8-b670-6fdd539ccd85"
      },
      "outputs": [
        {
          "name": "stdout",
          "output_type": "stream",
          "text": [
            "Число уникальных рецептов в датасете: 100000\n"
          ]
        }
      ],
      "source": [
        "column_0 = rows[:, 0]\n",
        "print(f'Число уникальных рецептов в датасете: {len(np.unique(column_0))}')"
      ]
    },
    {
      "cell_type": "code",
      "execution_count": null,
      "metadata": {
        "id": "BSvDdBjsNBar",
        "outputId": "1d3f97b8-8d56-4a06-a4a4-f41a81d968ef"
      },
      "outputs": [
        {
          "data": {
            "text/plain": [
              "array([[127244,     60,     16],\n",
              "       [ 23891,     25,      7],\n",
              "       [ 94746,     10,      6],\n",
              "       ...,\n",
              "       [498432,     65,     15],\n",
              "       [370915,      5,      4],\n",
              "       [ 81993,     65,     14]], dtype=int64)"
            ]
          },
          "execution_count": 18,
          "metadata": {},
          "output_type": "execute_result"
        }
      ],
      "source": [
        "rows"
      ]
    },
    {
      "cell_type": "markdown",
      "metadata": {
        "id": "sbf2dtVONBas"
      },
      "source": [
        "6. Сколько и каких различных значений кол-ва ингредиентов присутвует в рецептах из датасета?"
      ]
    },
    {
      "cell_type": "code",
      "execution_count": null,
      "metadata": {
        "id": "A2YJGF5cNBas",
        "outputId": "a2065a80-1939-4004-bd0c-c75465e7a4c0"
      },
      "outputs": [
        {
          "name": "stdout",
          "output_type": "stream",
          "text": [
            "[  729  1738  3358  5783 11997  9723 11035 11327 10700 14469  8518  7062\n",
            "  5392  3808  7859  2036  1725  1222   694  6777   419   756   511   200\n",
            "  5691   207   477   335    88  7970   117   351   241    80  5375    75\n",
            "   185   176    49  6093    49   179    79    44  4957    55    74   102\n",
            "    19  4265    30    60    65    18  3039    22    65    31    12  4464\n",
            "    25    41    39    24 26894]\n",
            "Значения кол-ва ингредиентов: [ 1  2  3  4  5  6  7  8  9 10 11 12 13 14 15 16 17 18 19 20 21 22 23 24\n",
            " 25 26 27 28 29 30 31 32 33 34 35 36 37 38 39 40 41 42 43 44 45 46 47 48\n",
            " 49 50 51 52 53 54 55 56 57 58 59 60 61 62 63 64 65]\n",
            "Число значений кол-ва ингредиентов: 65\n"
          ]
        }
      ],
      "source": [
        "unique,counts = np.unique(rows[:, 1:3], return_counts=True)\n",
        "print(counts)\n",
        "print(f'Значения кол-ва ингредиентов: {unique}')\n",
        "print(f'Число значений кол-ва ингредиентов: {len(unique)}')"
      ]
    },
    {
      "cell_type": "markdown",
      "metadata": {
        "id": "iPSZN4rWNBas"
      },
      "source": [
        "## Лабораторная работа №1.2"
      ]
    },
    {
      "cell_type": "markdown",
      "metadata": {
        "id": "ybf07L0XNBas"
      },
      "source": [
        "7. Создайте версию массива, содержащую информацию только о рецептах, состоящих не более чем из 5 ингредиентов."
      ]
    },
    {
      "cell_type": "code",
      "execution_count": null,
      "metadata": {
        "id": "z9Q56_wkNBat",
        "outputId": "47626e3d-adb7-468c-caec-4da4f985fe02"
      },
      "outputs": [
        {
          "name": "stdout",
          "output_type": "stream",
          "text": [
            "<class 'numpy.ndarray'>\n",
            "[[446597     15      5]\n",
            " [204134      5      3]\n",
            " [ 25623      6      4]\n",
            " ...\n",
            " [ 52088     60      5]\n",
            " [128811     15      4]\n",
            " [370915      5      4]]\n"
          ]
        }
      ],
      "source": [
        "rows = np.loadtxt('minutes_n_ingredients.csv', delimiter=',', dtype=np.int64, skiprows=1)\n",
        "rows[:, 1][rows[:, 1] == 0] = 1\n",
        "rows_less_6_ingr = rows[rows[:, 2] <= 5]\n",
        "print(type(rows[:, 2] <= 5))\n",
        "print(rows_less_6_ingr)"
      ]
    },
    {
      "cell_type": "markdown",
      "metadata": {
        "id": "uD-S9JcwNBat"
      },
      "source": [
        "8. Для каждого рецепта посчитайте, сколько в среднем ингредиентов приходится на одну минуту рецепта. Найдите максимальное значение этой величины для всего датасета"
      ]
    },
    {
      "cell_type": "code",
      "execution_count": null,
      "metadata": {
        "id": "JA_wcqktNBat",
        "outputId": "5744ee6e-62aa-4663-b2ad-556ea6050c10"
      },
      "outputs": [
        {
          "name": "stdout",
          "output_type": "stream",
          "text": [
            "<class 'numpy.ndarray'>\n",
            "[0.26666667 0.28       0.6        ... 0.23076923 0.8        0.1       ]\n",
            "24.0\n"
          ]
        }
      ],
      "source": [
        "rows_1 = np.loadtxt('minutes_n_ingredients.csv', delimiter=',', dtype=np.float64, skiprows=1)\n",
        "rows_1[:, 1][rows_1[:, 1] == 0] = 1\n",
        "print(type(rows_1[:, 1] == 0))\n",
        "rows_1[:, 1] = rows_1[:, 2]/rows_1[:, 1]\n",
        "print(rows_1[:, 1])\n",
        "print(rows_1[:, 1].max())"
      ]
    },
    {
      "cell_type": "markdown",
      "metadata": {
        "id": "gTzV7N06NBat"
      },
      "source": [
        "9. Вычислите среднее количество ингредиентов для топ-100 рецептов с наибольшей продолжительностью"
      ]
    },
    {
      "cell_type": "code",
      "execution_count": null,
      "metadata": {
        "id": "9BohuMuUNBat",
        "outputId": "1909118a-aea2-45a7-bfe4-2598a9b77211"
      },
      "outputs": [
        {
          "name": "stdout",
          "output_type": "stream",
          "text": [
            "<class 'numpy.ndarray'>\n",
            "[[4896    1   14]\n",
            " [6975    1    8]]\n",
            "[[ 4896     1    14]\n",
            " [ 6975     1     8]\n",
            " [ 3492     1     7]\n",
            " ...\n",
            " [60218    65    14]\n",
            " [78310    65    12]\n",
            " [81993    65    14]]\n",
            "9.96\n"
          ]
        }
      ],
      "source": [
        "rows_sort_by_time = rows[rows[:, 1].argsort()]\n",
        "print(type(rows[:, 1].argsort()))\n",
        "print(rows[[89843, 1740]])\n",
        "print(rows_sort_by_time)\n",
        "print(rows_sort_by_time[-100:, 2].sum()/100)"
      ]
    },
    {
      "cell_type": "code",
      "execution_count": null,
      "metadata": {
        "id": "Dlp3XL2rNBau",
        "outputId": "66aaa62b-79f9-47c2-ef0f-ffc70eea3664"
      },
      "outputs": [
        {
          "name": "stdout",
          "output_type": "stream",
          "text": [
            "9.96\n"
          ]
        }
      ],
      "source": [
        "print(rows_sort_by_time[-100:, 2].sum()/100)"
      ]
    },
    {
      "cell_type": "markdown",
      "metadata": {
        "id": "6iQ6XhqSNBau"
      },
      "source": [
        "10. Выберите случайным образом и выведите информацию о 10 различных рецептах"
      ]
    },
    {
      "cell_type": "code",
      "execution_count": null,
      "metadata": {
        "id": "tfRrPkTXNBau",
        "outputId": "ca19b3bf-dc83-4efc-ed61-e8d12b228797"
      },
      "outputs": [
        {
          "name": "stdout",
          "output_type": "stream",
          "text": [
            "[[190539     65      5]\n",
            " [ 58855     62      6]\n",
            " [ 55489     65     11]\n",
            " [211366     25      7]\n",
            " [193535     10      8]\n",
            " [327952     65     11]\n",
            " [432518     20     11]\n",
            " [ 48227     30      7]\n",
            " [361828     35      6]\n",
            " [346169     65     17]]\n",
            "100000\n",
            "(100000, 3)\n"
          ]
        }
      ],
      "source": [
        "print(rows[np.random.choice(len(rows), size=10)])\n",
        "print(len(rows))\n",
        "print(rows.shape)"
      ]
    },
    {
      "cell_type": "code",
      "execution_count": null,
      "metadata": {
        "id": "iuX0F5JhNBau",
        "outputId": "1695b33b-c2df-49a9-ef15-c7ad29500fab"
      },
      "outputs": [
        {
          "data": {
            "text/plain": [
              "numpy.ndarray"
            ]
          },
          "execution_count": 75,
          "metadata": {},
          "output_type": "execute_result"
        }
      ],
      "source": [
        "type(np.random.choice(len(rows), size=10))\n"
      ]
    },
    {
      "cell_type": "markdown",
      "metadata": {
        "id": "jH9vuTjVNBav"
      },
      "source": [
        "11. Выведите процент рецептов, кол-во ингредиентов в которых меньше среднего."
      ]
    },
    {
      "cell_type": "code",
      "execution_count": null,
      "metadata": {
        "id": "HKWmHtoQNBav",
        "outputId": "e03c733d-4e55-4aac-aa96-03d243b9dde2"
      },
      "outputs": [
        {
          "name": "stdout",
          "output_type": "stream",
          "text": [
            "58.802\n"
          ]
        }
      ],
      "source": [
        "aver_ingr_value = rows[:, 2].sum()/len(rows[:, 2])\n",
        "print(100 * len(rows[rows[:, 2] < aver_ingr_value]) / len(rows))"
      ]
    },
    {
      "cell_type": "markdown",
      "metadata": {
        "id": "yGO6y1JoNBav"
      },
      "source": [
        "12. Назовем \"простым\" такой рецепт, длительность выполнения которого не больше 20 минут и кол-во ингредиентов в котором не больше 5. Создайте версию датасета с дополнительным столбцом, значениями которого являются 1, если рецепт простой, и 0 в противном случае."
      ]
    },
    {
      "cell_type": "code",
      "execution_count": null,
      "metadata": {
        "id": "5-19PJLONBav",
        "outputId": "cf80f175-9384-4f99-8a0c-49f54cbcfa48"
      },
      "outputs": [
        {
          "name": "stdout",
          "output_type": "stream",
          "text": [
            "[[446597     15      5      1]\n",
            " [204134      5      3      1]\n",
            " [ 25623      6      4      1]\n",
            " ...\n",
            " [287943     85     15      0]\n",
            " [498432     65     15      0]\n",
            " [ 81993    140     14      0]]\n"
          ]
        }
      ],
      "source": [
        "easy_recipe = rows[np.where((rows[:, 1] <= 20) & (rows[:, 2] <= 5))]\n",
        "hard_recipe = rows[np.where((rows[:, 1] > 20) | (rows[:, 2] > 5))]\n",
        "easy, hard = np.array([[1]] * len(easy_recipe)), np.array([[0]] * len(hard_recipe))\n",
        "easy_recipe, hard_recipe = np.append(easy_recipe, easy, axis=1), np.append(hard_recipe, hard, axis=1)\n",
        "new_recipe_dataset = np.concatenate((easy_recipe, hard_recipe), axis=0)\n",
        "print(new_recipe_dataset)"
      ]
    },
    {
      "cell_type": "markdown",
      "metadata": {
        "id": "uYasBMhgNBax"
      },
      "source": [
        "13. Выведите процент \"простых\" рецептов в датасете"
      ]
    },
    {
      "cell_type": "code",
      "execution_count": null,
      "metadata": {
        "id": "rkJ2rchcNBax",
        "outputId": "b1dd472f-5408-4f52-8ba3-e5012dd10346"
      },
      "outputs": [
        {
          "name": "stdout",
          "output_type": "stream",
          "text": [
            "9.552\n"
          ]
        }
      ],
      "source": [
        "print(len(easy_recipe)/len(new_recipe_dataset)*100)"
      ]
    },
    {
      "cell_type": "markdown",
      "metadata": {
        "id": "umsqSsH1NBax"
      },
      "source": [
        "14. Разделим рецепты на группы по следующему правилу. Назовем рецепты короткими, если их продолжительность составляет менее 10 минут; стандартными, если их продолжительность составляет более 10, но менее 20 минут; и длинными, если их продолжительность составляет не менее 20 минут. Создайте трехмерный массив, где нулевая ось отвечает за номер группы (короткий, стандартный или длинный рецепт), первая ось - за сам рецепт и вторая ось - за характеристики рецепта. Выберите максимальное количество рецептов из каждой группы таким образом, чтобы было возможно сформировать трехмерный массив. Выведите форму полученного массива."
      ]
    },
    {
      "cell_type": "code",
      "execution_count": null,
      "metadata": {
        "id": "pbx98z38NBax",
        "outputId": "ed07dd5b-c8c1-4c7d-e26f-787ad589c2b7"
      },
      "outputs": [
        {
          "name": "stdout",
          "output_type": "stream",
          "text": [
            "[[[ 67660      5      6]\n",
            "  [366174      7      9]\n",
            "  [204134      5      3]\n",
            "  ...\n",
            "  [420725      5      3]\n",
            "  [  4747      1      9]\n",
            "  [370915      5      4]]\n",
            "\n",
            " [[ 33941     18      9]\n",
            "  [446597     15      5]\n",
            "  [ 81006     12      7]\n",
            "  ...\n",
            "  [278297     12      7]\n",
            "  [ 66970     15      8]\n",
            "  [ 90921     18      8]]\n",
            "\n",
            " [[127244     60     16]\n",
            "  [ 23891     25      7]\n",
            "  [157911     60     14]\n",
            "  ...\n",
            "  [168901     25      7]\n",
            "  [392339     35     13]\n",
            "  [206732     45     10]]] (3, 7588, 3)\n"
          ]
        }
      ],
      "source": [
        "short_recipe = rows[rows[:, 1] < 10]\n",
        "middle_recipe = rows[np.where((rows[:, 1] > 10) & (rows[:, 1] < 20))]\n",
        "long_recipe = rows[rows[:, 1] >= 20]\n",
        "a = min(len(short_recipe), len(middle_recipe), len(long_recipe))\n",
        "mass = np.stack((short_recipe[:a], middle_recipe[:a], long_recipe[:a]))\n",
        "print(mass, mass.shape)"
      ]
    },
    {
      "cell_type": "code",
      "execution_count": null,
      "metadata": {
        "id": "p4BrXZeJNBay",
        "outputId": "f518404b-b314-4972-b3e7-4a0e760c1614"
      },
      "outputs": [
        {
          "name": "stdout",
          "output_type": "stream",
          "text": [
            "[[1 2 3]\n",
            " [4 5 6]\n",
            " [7 8 9]]\n",
            "\n",
            "[ 6 15 24]\n",
            "\n",
            "[ 36 225]\n"
          ]
        }
      ],
      "source": [
        "import numpy as np\n",
        "a = np.arange(1, 10).reshape(3, 3)\n",
        "print(a)\n",
        "b = a.sum(axis = 1)\n",
        "print()\n",
        "print(b)\n",
        "c = b ** 2\n",
        "print()\n",
        "print(c[:2:])"
      ]
    },
    {
      "cell_type": "code",
      "execution_count": null,
      "metadata": {
        "id": "gJu0EJOkNBay",
        "outputId": "32c1cb6e-bde9-40eb-a997-f171cbea22ff"
      },
      "outputs": [
        {
          "name": "stdout",
          "output_type": "stream",
          "text": [
            "58.80%\n"
          ]
        }
      ],
      "source": [
        "print(f'{100 * (rows[:,2] < rows[:,2].mean()).sum()/rows.shape[0]:2.2f}%')"
      ]
    },
    {
      "cell_type": "code",
      "execution_count": null,
      "metadata": {
        "id": "DrMgLLpVNBay"
      },
      "outputs": [],
      "source": []
    }
  ],
  "metadata": {
    "kernelspec": {
      "display_name": "Python 3",
      "language": "python",
      "name": "python3"
    },
    "language_info": {
      "codemirror_mode": {
        "name": "ipython",
        "version": 3
      },
      "file_extension": ".py",
      "mimetype": "text/x-python",
      "name": "python",
      "nbconvert_exporter": "python",
      "pygments_lexer": "ipython3",
      "version": "3.8.8"
    },
    "colab": {
      "provenance": []
    }
  },
  "nbformat": 4,
  "nbformat_minor": 0
}